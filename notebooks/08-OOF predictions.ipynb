{
 "cells": [
  {
   "cell_type": "code",
   "execution_count": 1,
   "metadata": {},
   "outputs": [],
   "source": [
    "%load_ext autoreload\n",
    "%autoreload 2\n",
    "%matplotlib inline\n",
    "%config InlineBackend.figure_format = 'retina'\n",
    "\n",
    "import os\n",
    "import numpy as np, pandas as pd\n",
    "import matplotlib.pyplot as plt, seaborn as sns\n",
    "from tqdm import tqdm, tqdm_notebook\n",
    "from pathlib import Path\n",
    "# pd.set_option('display.max_columns', 1000)\n",
    "# pd.set_option('display.max_rows', 400)\n",
    "sns.set()\n",
    "\n",
    "os.chdir('..')"
   ]
  },
  {
   "cell_type": "code",
   "execution_count": 2,
   "metadata": {},
   "outputs": [],
   "source": [
    "DATA = Path('data')\n",
    "RAW  = DATA/'raw'\n",
    "SUBMISSIONS = DATA/'submissions'"
   ]
  },
  {
   "cell_type": "code",
   "execution_count": 3,
   "metadata": {},
   "outputs": [],
   "source": [
    "train      = pd.read_csv(RAW/'train_jqd04QH.csv', low_memory=False)\n",
    "test       = pd.read_csv(RAW/'test_GYi4Gz5.csv', low_memory=False)\n",
    "submission = pd.read_csv(RAW/'sample_submission_sxfcbdx.csv', low_memory=False)"
   ]
  },
  {
   "cell_type": "code",
   "execution_count": 4,
   "metadata": {},
   "outputs": [],
   "source": [
    "id_col = 'enrollee_id'\n",
    "cat_cols = ['city', 'gender', 'relevent_experience', 'enrolled_university', \n",
    "            'education_level', 'major_discipline', 'experience', 'company_size', \n",
    "            'company_type', 'last_new_job']\n",
    "num_cols = ['city_development_index', 'training_hours']\n",
    "target_col = 'target'"
   ]
  },
  {
   "cell_type": "code",
   "execution_count": 6,
   "metadata": {},
   "outputs": [
    {
     "name": "stdout",
     "output_type": "stream",
     "text": [
      "CPU times: user 84 ms, sys: 4 ms, total: 88 ms\n",
      "Wall time: 86.6 ms\n"
     ]
    }
   ],
   "source": [
    "%%time\n",
    "from src.utils import preprocess\n",
    "preprocess(train, test, cat_cols, num_cols)"
   ]
  },
  {
   "cell_type": "code",
   "execution_count": 8,
   "metadata": {},
   "outputs": [],
   "source": [
    "from sklearn.model_selection import StratifiedKFold\n",
    "columns = list(train.drop([id_col, target_col], axis=1))\n",
    "cat_indices = [i for i, col in enumerate(columns) if col in cat_cols]\n",
    "kfolds = StratifiedKFold(n_splits=5, random_state=42)"
   ]
  },
  {
   "cell_type": "code",
   "execution_count": 24,
   "metadata": {},
   "outputs": [],
   "source": [
    "val_results = pd.DataFrame()\n",
    "tst_results = pd.DataFrame()"
   ]
  },
  {
   "cell_type": "markdown",
   "metadata": {},
   "source": [
    "## Catboost"
   ]
  },
  {
   "cell_type": "code",
   "execution_count": 10,
   "metadata": {},
   "outputs": [],
   "source": [
    "from src.oofpredictions import test_catboost\n",
    "from catboost import CatBoostClassifier"
   ]
  },
  {
   "cell_type": "code",
   "execution_count": 28,
   "metadata": {},
   "outputs": [
    {
     "name": "stdout",
     "output_type": "stream",
     "text": [
      "No. estimators: 489 | Train AUC: 71.69 | Val AUC: 68.96\n",
      "No. estimators: 568 | Train AUC: 72.72 | Val AUC: 64.28\n",
      "No. estimators: 366 | Train AUC: 71.03 | Val AUC: 66.64\n",
      "No. estimators: 429 | Train AUC: 71.04 | Val AUC: 67.69\n",
      "No. estimators: 409 | Train AUC: 71.93 | Val AUC: 68.16\n",
      "\n",
      "Train AUC: 71.68 +/- 1.26 | Val AUC: 67.15 +/- 3.23\n",
      "\n",
      "CPU times: user 13min 2s, sys: 1min 12s, total: 14min 15s\n",
      "Wall time: 1min 48s\n"
     ]
    }
   ],
   "source": [
    "%%time\n",
    "y_test, y_pred = test_catboost(CatBoostClassifier(iterations=1000, \n",
    "                        random_seed=42, eval_metric='AUC', od_pval=1e-3,\n",
    "                        depth=7),\n",
    "                    train.drop([id_col, target_col], axis=1), \n",
    "                    train[target_col], test.drop(id_col, axis=1),\n",
    "                    kfolds, cat_indices)"
   ]
  },
  {
   "cell_type": "code",
   "execution_count": 29,
   "metadata": {},
   "outputs": [],
   "source": [
    "val_results['CatBoost'] = y_pred\n",
    "tst_results['CatBoost'] = y_test"
   ]
  },
  {
   "cell_type": "markdown",
   "metadata": {},
   "source": [
    "## XGBoost"
   ]
  },
  {
   "cell_type": "code",
   "execution_count": 18,
   "metadata": {},
   "outputs": [],
   "source": [
    "from src.oofpredictions import test_xgb\n",
    "import xgboost as xgb"
   ]
  },
  {
   "cell_type": "code",
   "execution_count": 21,
   "metadata": {},
   "outputs": [
    {
     "name": "stdout",
     "output_type": "stream",
     "text": [
      "No. estimators: 15 | Train AUC: 68.32 | Val AUC: 68.00\n",
      "No. estimators: 38 | Train AUC: 72.18 | Val AUC: 64.42\n",
      "No. estimators: 16 | Train AUC: 69.48 | Val AUC: 66.02\n",
      "No. estimators: 43 | Train AUC: 72.26 | Val AUC: 66.56\n",
      "No. estimators: 13 | Train AUC: 68.08 | Val AUC: 67.74\n",
      "\n",
      "Train AUC: 70.07 +/- 3.65 | Val AUC: 66.55 +/- 2.58\n",
      "\n",
      "CPU times: user 5.16 s, sys: 8 ms, total: 5.17 s\n",
      "Wall time: 1.09 s\n"
     ]
    }
   ],
   "source": [
    "%%time\n",
    "y_test, y_pred = test_xgb(xgb,\n",
    "                    train.drop([id_col, target_col], axis=1),\n",
    "                    train[target_col], test.drop(id_col, axis=1), kfolds)"
   ]
  },
  {
   "cell_type": "code",
   "execution_count": 25,
   "metadata": {},
   "outputs": [],
   "source": [
    "val_results['XGB'] = y_pred\n",
    "tst_results['XGB'] = y_test"
   ]
  },
  {
   "cell_type": "markdown",
   "metadata": {},
   "source": [
    "## LightGBM"
   ]
  },
  {
   "cell_type": "code",
   "execution_count": 32,
   "metadata": {},
   "outputs": [],
   "source": [
    "from src.oofpredictions import test_lgbm\n",
    "import lightgbm as lgbm"
   ]
  },
  {
   "cell_type": "code",
   "execution_count": 34,
   "metadata": {},
   "outputs": [
    {
     "name": "stderr",
     "output_type": "stream",
     "text": [
      "/home/raduviri/anaconda3/envs/chana/lib/python3.6/site-packages/lightgbm/basic.py:1038: UserWarning: categorical_feature in Dataset is overrided. New categorical_feature is [0, 2, 3, 4, 5, 6, 7, 8, 9, 10]\n",
      "  warnings.warn('categorical_feature in Dataset is overrided. New categorical_feature is {}'.format(sorted(list(categorical_feature))))\n",
      "/home/raduviri/anaconda3/envs/chana/lib/python3.6/site-packages/lightgbm/basic.py:681: UserWarning: categorical_feature in param dict is overrided.\n",
      "  warnings.warn('categorical_feature in param dict is overrided.')\n"
     ]
    },
    {
     "name": "stdout",
     "output_type": "stream",
     "text": [
      "No. estimators: 22 | Train AUC: 72.46 | Val AUC: 68.34\n",
      "No. estimators: 11 | Train AUC: 70.87 | Val AUC: 64.65\n",
      "No. estimators: 13 | Train AUC: 70.94 | Val AUC: 65.98\n",
      "No. estimators: 12 | Train AUC: 71.34 | Val AUC: 66.63\n",
      "No. estimators: 18 | Train AUC: 71.49 | Val AUC: 68.46\n",
      "\n",
      "Train AUC: 71.42 +/- 1.14 | Val AUC: 66.81 +/- 2.89\n",
      "\n",
      "CPU times: user 2.87 s, sys: 32 ms, total: 2.9 s\n",
      "Wall time: 582 ms\n"
     ]
    }
   ],
   "source": [
    "%%time\n",
    "y_test, y_pred = test_lgbm(lgbm,\n",
    "                    train.drop([id_col, target_col], axis=1), \n",
    "                    train[target_col], test.drop(id_col, axis=1),\n",
    "                    kfolds, cat_indices)"
   ]
  },
  {
   "cell_type": "code",
   "execution_count": 35,
   "metadata": {},
   "outputs": [],
   "source": [
    "val_results['LGBM'] = y_pred\n",
    "tst_results['LGBM'] = y_test"
   ]
  },
  {
   "cell_type": "markdown",
   "metadata": {},
   "source": [
    "## Random Forest"
   ]
  },
  {
   "cell_type": "code",
   "execution_count": 37,
   "metadata": {},
   "outputs": [],
   "source": [
    "from src.oofpredictions import test_tree\n",
    "from sklearn.ensemble import RandomForestClassifier"
   ]
  },
  {
   "cell_type": "code",
   "execution_count": 39,
   "metadata": {},
   "outputs": [
    {
     "name": "stdout",
     "output_type": "stream",
     "text": [
      "Train AUC: 74.58 | Val AUC: 68.76\n",
      "Train AUC: 75.43 | Val AUC: 64.34\n",
      "Train AUC: 74.85 | Val AUC: 65.94\n",
      "Train AUC: 74.81 | Val AUC: 67.64\n",
      "Train AUC: 74.91 | Val AUC: 67.07\n",
      "\n",
      "Train AUC: 74.91 +/- 0.56 | Val AUC: 66.75 +/- 3.02\n",
      "\n",
      "CPU times: user 15.8 s, sys: 680 ms, total: 16.5 s\n",
      "Wall time: 4.15 s\n"
     ]
    }
   ],
   "source": [
    "%%time\n",
    "y_test, y_pred = test_tree(RandomForestClassifier(n_estimators=200, \n",
    "                        random_state=42, max_depth=7, n_jobs=-1),\n",
    "                    train.drop([id_col, target_col], axis=1), \n",
    "                    train[target_col], test.drop(id_col, axis=1), kfolds)"
   ]
  },
  {
   "cell_type": "code",
   "execution_count": 40,
   "metadata": {},
   "outputs": [],
   "source": [
    "val_results['RF'] = y_pred\n",
    "tst_results['RF'] = y_test"
   ]
  },
  {
   "cell_type": "markdown",
   "metadata": {},
   "source": [
    "## Extra Trees"
   ]
  },
  {
   "cell_type": "code",
   "execution_count": 41,
   "metadata": {},
   "outputs": [],
   "source": [
    "from sklearn.ensemble import ExtraTreesClassifier"
   ]
  },
  {
   "cell_type": "code",
   "execution_count": 42,
   "metadata": {},
   "outputs": [
    {
     "name": "stdout",
     "output_type": "stream",
     "text": [
      "Train AUC: 75.66 | Val AUC: 67.67\n",
      "Train AUC: 76.51 | Val AUC: 63.85\n",
      "Train AUC: 75.89 | Val AUC: 65.28\n",
      "Train AUC: 75.89 | Val AUC: 67.96\n",
      "Train AUC: 76.21 | Val AUC: 66.82\n",
      "\n",
      "Train AUC: 76.03 +/- 0.60 | Val AUC: 66.31 +/- 3.09\n",
      "\n",
      "CPU times: user 23 s, sys: 1.06 s, total: 24 s\n",
      "Wall time: 5.54 s\n"
     ]
    }
   ],
   "source": [
    "%%time\n",
    "y_test, y_pred = test_tree(ExtraTreesClassifier(n_estimators=400, \n",
    "                        random_state=42, max_depth=8, n_jobs=-1),\n",
    "                    train.drop([id_col, target_col], axis=1), \n",
    "                    train[target_col], test.drop(id_col, axis=1), kfolds)"
   ]
  },
  {
   "cell_type": "code",
   "execution_count": 43,
   "metadata": {},
   "outputs": [],
   "source": [
    "val_results['ET'] = y_pred\n",
    "tst_results['ET'] = y_test"
   ]
  },
  {
   "cell_type": "markdown",
   "metadata": {},
   "source": [
    "## Neural Net"
   ]
  },
  {
   "cell_type": "code",
   "execution_count": 46,
   "metadata": {},
   "outputs": [],
   "source": [
    "from src.oofpredictions import test_neuralnet"
   ]
  },
  {
   "cell_type": "code",
   "execution_count": 47,
   "metadata": {},
   "outputs": [
    {
     "name": "stdout",
     "output_type": "stream",
     "text": [
      "Epoch: 1 | Train AUC: 64.19 | Val AUC: 62.83\n",
      "Epoch: 2 | Train AUC: 67.20 | Val AUC: 65.27\n",
      "Epoch: 3 | Train AUC: 68.08 | Val AUC: 65.89\n",
      "Epoch: 4 | Train AUC: 68.77 | Val AUC: 65.91\n",
      "Epoch: 5 | Train AUC: 69.17 | Val AUC: 65.89\n",
      "Epoch: 6 | Train AUC: 70.79 | Val AUC: 66.61\n",
      "Epoch: 7 | Train AUC: 71.52 | Val AUC: 65.12\n",
      "Best epoch: 6 | Train AUC: 70.79 | Val AUC: 66.61\n",
      "\n",
      "Epoch: 1 | Train AUC: 66.10 | Val AUC: 61.15\n",
      "Epoch: 2 | Train AUC: 68.66 | Val AUC: 62.84\n",
      "Epoch: 3 | Train AUC: 69.54 | Val AUC: 63.39\n",
      "Epoch: 4 | Train AUC: 69.22 | Val AUC: 63.12\n",
      "Epoch: 5 | Train AUC: 71.00 | Val AUC: 62.71\n",
      "Epoch: 6 | Train AUC: 71.21 | Val AUC: 63.33\n",
      "Epoch: 7 | Train AUC: 72.06 | Val AUC: 63.42\n",
      "Best epoch: 7 | Train AUC: 72.06 | Val AUC: 63.42\n",
      "\n",
      "Epoch: 1 | Train AUC: 68.38 | Val AUC: 64.30\n",
      "Epoch: 2 | Train AUC: 69.05 | Val AUC: 64.59\n",
      "Epoch: 3 | Train AUC: 70.36 | Val AUC: 64.01\n",
      "Epoch: 4 | Train AUC: 71.30 | Val AUC: 64.61\n",
      "Epoch: 5 | Train AUC: 71.13 | Val AUC: 64.15\n",
      "Epoch: 6 | Train AUC: 72.75 | Val AUC: 63.75\n",
      "Epoch: 7 | Train AUC: 72.39 | Val AUC: 63.71\n",
      "Best epoch: 4 | Train AUC: 71.30 | Val AUC: 64.61\n",
      "\n",
      "Epoch: 1 | Train AUC: 67.00 | Val AUC: 65.00\n",
      "Epoch: 2 | Train AUC: 68.41 | Val AUC: 65.63\n",
      "Epoch: 3 | Train AUC: 70.49 | Val AUC: 65.69\n",
      "Epoch: 4 | Train AUC: 70.99 | Val AUC: 64.88\n",
      "Epoch: 5 | Train AUC: 71.45 | Val AUC: 65.71\n",
      "Epoch: 6 | Train AUC: 71.97 | Val AUC: 65.19\n",
      "Epoch: 7 | Train AUC: 72.86 | Val AUC: 65.19\n",
      "Best epoch: 5 | Train AUC: 71.45 | Val AUC: 65.71\n",
      "\n",
      "Epoch: 1 | Train AUC: 66.84 | Val AUC: 65.12\n",
      "Epoch: 2 | Train AUC: 67.95 | Val AUC: 65.73\n",
      "Epoch: 3 | Train AUC: 69.54 | Val AUC: 66.71\n",
      "Epoch: 4 | Train AUC: 69.38 | Val AUC: 66.20\n",
      "Epoch: 5 | Train AUC: 70.65 | Val AUC: 67.02\n",
      "Epoch: 6 | Train AUC: 70.77 | Val AUC: 64.61\n",
      "Epoch: 7 | Train AUC: 72.79 | Val AUC: 66.08\n",
      "Best epoch: 5 | Train AUC: 70.65 | Val AUC: 67.02\n",
      "\n",
      "\n",
      "Train AUC: 71.25 +/- 1.00 | Val AUC: 65.47 +/- 2.64\n",
      "\n",
      "CPU times: user 1min 29s, sys: 2.1 s, total: 1min 31s\n",
      "Wall time: 1min 31s\n"
     ]
    }
   ],
   "source": [
    "%%time\n",
    "USE_CUDA = True\n",
    "y_test, y_pred = test_neuralnet(\n",
    "                train.drop([id_col, target_col], axis=1), \n",
    "                train[target_col], test.drop(id_col, axis=1),\n",
    "                kfolds, cat_cols, num_cols, USE_CUDA)"
   ]
  },
  {
   "cell_type": "code",
   "execution_count": 48,
   "metadata": {},
   "outputs": [],
   "source": [
    "val_results['NeuralNet'] = y_pred\n",
    "tst_results['NeuralNet'] = y_test"
   ]
  },
  {
   "cell_type": "markdown",
   "metadata": {},
   "source": [
    "## Correlation"
   ]
  },
  {
   "cell_type": "code",
   "execution_count": 51,
   "metadata": {},
   "outputs": [],
   "source": [
    "val_results.to_csv(SUBMISSIONS/'val_results.csv', index=False)\n",
    "tst_results.to_csv(SUBMISSIONS/'tst_results.csv', index=False)"
   ]
  },
  {
   "cell_type": "code",
   "execution_count": 53,
   "metadata": {},
   "outputs": [
    {
     "data": {
      "text/plain": [
       "<matplotlib.axes._subplots.AxesSubplot at 0x7f0abc3f57b8>"
      ]
     },
     "execution_count": 53,
     "metadata": {},
     "output_type": "execute_result"
    },
    {
     "data": {
      "image/png": "[encoded data removed]",
      "text/plain": [
       "<matplotlib.figure.Figure at 0x7f0abc9e1eb8>"
      ]
     },
     "metadata": {
      "image/png": {
       "height": 252,
       "width": 397
      }
     },
     "output_type": "display_data"
    }
   ],
   "source": [
    "corr = val_results.corr()\n",
    "sns.heatmap(corr, xticklabels=corr.columns, yticklabels=corr.columns,\n",
    "            cmap='Blues')"
   ]
  },
  {
   "cell_type": "code",
   "execution_count": 55,
   "metadata": {},
   "outputs": [
    {
     "data": {
      "text/plain": [
       "<matplotlib.axes._subplots.AxesSubplot at 0x7f0abc868080>"
      ]
     },
     "execution_count": 55,
     "metadata": {},
     "output_type": "execute_result"
    },
    {
     "data": {
      "image/png": "[encoded data removed]",
      "text/plain": [
       "<matplotlib.figure.Figure at 0x7f0abc9e1828>"
      ]
     },
     "metadata": {
      "image/png": {
       "height": 252,
       "width": 403
      }
     },
     "output_type": "display_data"
    }
   ],
   "source": [
    "corr = tst_results.corr()\n",
    "sns.heatmap(corr, xticklabels=corr.columns, yticklabels=corr.columns,\n",
    "            cmap='Blues')"
   ]
  },
  {
   "cell_type": "markdown",
   "metadata": {},
   "source": [
    "## Stacking"
   ]
  },
  {
   "cell_type": "code",
   "execution_count": 71,
   "metadata": {},
   "outputs": [],
   "source": [
    "from sklearn.linear_model import LogisticRegression\n",
    "from sklearn.svm import SVC\n",
    "from src.utils import eval_sklearn, print_results"
   ]
  },
  {
   "cell_type": "code",
   "execution_count": 91,
   "metadata": {},
   "outputs": [
    {
     "name": "stdout",
     "output_type": "stream",
     "text": [
      "Train AUC: 66.74 | Val AUC: 68.98\n",
      "Train AUC: 67.81 | Val AUC: 64.71\n",
      "Train AUC: 67.34 | Val AUC: 66.50\n",
      "Train AUC: 67.11 | Val AUC: 67.63\n",
      "Train AUC: 66.94 | Val AUC: 68.20\n",
      "\n",
      "CPU times: user 476 ms, sys: 1.35 s, total: 1.82 s\n",
      "Wall time: 189 ms\n"
     ]
    }
   ],
   "source": [
    "%%time\n",
    "# solver : {'newton-cg', 'lbfgs', 'liblinear', 'sag', 'saga'},\n",
    "trn_aucs, val_aucs = eval_tree(LogisticRegression(max_iter=1000, \n",
    "                    random_state=42, C=1),\n",
    "                    val_results, train[target_col], kfolds)"
   ]
  },
  {
   "cell_type": "code",
   "execution_count": 66,
   "metadata": {},
   "outputs": [
    {
     "name": "stdout",
     "output_type": "stream",
     "text": [
      "Train AUC: 67.19 +/- 0.74 | Val AUC: 67.21 +/- 2.97\n"
     ]
    }
   ],
   "source": [
    "# C 1.0\n",
    "print_results(trn_aucs, val_aucs)"
   ]
  },
  {
   "cell_type": "code",
   "execution_count": 92,
   "metadata": {},
   "outputs": [],
   "source": [
    "model = LogisticRegression(max_iter=1000, random_state=42, C=1)"
   ]
  },
  {
   "cell_type": "code",
   "execution_count": 93,
   "metadata": {},
   "outputs": [
    {
     "data": {
      "text/plain": [
       "LogisticRegression(C=1, class_weight=None, dual=False, fit_intercept=True,\n",
       "          intercept_scaling=1, max_iter=1000, multi_class='ovr', n_jobs=1,\n",
       "          penalty='l2', random_state=42, solver='liblinear', tol=0.0001,\n",
       "          verbose=0, warm_start=False)"
      ]
     },
     "execution_count": 93,
     "metadata": {},
     "output_type": "execute_result"
    }
   ],
   "source": [
    "model.fit(val_results, train[target_col])"
   ]
  },
  {
   "cell_type": "code",
   "execution_count": 94,
   "metadata": {},
   "outputs": [],
   "source": [
    "y_test = model.predict_proba(tst_results)[:,1]"
   ]
  },
  {
   "cell_type": "markdown",
   "metadata": {},
   "source": [
    "## Submission"
   ]
  },
  {
   "cell_type": "code",
   "execution_count": 95,
   "metadata": {},
   "outputs": [],
   "source": [
    "test[target_col] = y_test"
   ]
  },
  {
   "cell_type": "code",
   "execution_count": 96,
   "metadata": {},
   "outputs": [],
   "source": [
    "submission = pd.read_csv(RAW/'sample_submission_sxfcbdx.csv', low_memory=False)\n",
    "submission = pd.merge(submission[[id_col]], test[[id_col, target_col]], how='left', on=id_col)"
   ]
  },
  {
   "cell_type": "code",
   "execution_count": 97,
   "metadata": {},
   "outputs": [
    {
     "data": {
      "text/html": [
       "<div>\n",
       "<style scoped>\n",
       "    .dataframe tbody tr th:only-of-type {\n",
       "        vertical-align: middle;\n",
       "    }\n",
       "\n",
       "    .dataframe tbody tr th {\n",
       "        vertical-align: top;\n",
       "    }\n",
       "\n",
       "    .dataframe thead th {\n",
       "        text-align: right;\n",
       "    }\n",
       "</style>\n",
       "<table border=\"1\" class=\"dataframe\">\n",
       "  <thead>\n",
       "    <tr style=\"text-align: right;\">\n",
       "      <th></th>\n",
       "      <th>enrollee_id</th>\n",
       "      <th>target</th>\n",
       "    </tr>\n",
       "  </thead>\n",
       "  <tbody>\n",
       "    <tr>\n",
       "      <th>0</th>\n",
       "      <td>16548</td>\n",
       "      <td>0.618255</td>\n",
       "    </tr>\n",
       "    <tr>\n",
       "      <th>1</th>\n",
       "      <td>12036</td>\n",
       "      <td>0.080040</td>\n",
       "    </tr>\n",
       "    <tr>\n",
       "      <th>2</th>\n",
       "      <td>11061</td>\n",
       "      <td>0.369606</td>\n",
       "    </tr>\n",
       "    <tr>\n",
       "      <th>3</th>\n",
       "      <td>5032</td>\n",
       "      <td>0.083294</td>\n",
       "    </tr>\n",
       "    <tr>\n",
       "      <th>4</th>\n",
       "      <td>17599</td>\n",
       "      <td>0.094549</td>\n",
       "    </tr>\n",
       "  </tbody>\n",
       "</table>\n",
       "</div>"
      ],
      "text/plain": [
       "   enrollee_id    target\n",
       "0        16548  0.618255\n",
       "1        12036  0.080040\n",
       "2        11061  0.369606\n",
       "3         5032  0.083294\n",
       "4        17599  0.094549"
      ]
     },
     "execution_count": 97,
     "metadata": {},
     "output_type": "execute_result"
    }
   ],
   "source": [
    "submission.head()"
   ]
  },
  {
   "cell_type": "code",
   "execution_count": 98,
   "metadata": {},
   "outputs": [
    {
     "data": {
      "text/plain": [
       "count    15021.000000\n",
       "mean         0.131810\n",
       "std          0.072759\n",
       "min          0.068903\n",
       "25%          0.085128\n",
       "50%          0.100317\n",
       "75%          0.149672\n",
       "max          0.701719\n",
       "Name: target, dtype: float64"
      ]
     },
     "execution_count": 98,
     "metadata": {},
     "output_type": "execute_result"
    }
   ],
   "source": [
    "submission[target_col].describe()"
   ]
  },
  {
   "cell_type": "code",
   "execution_count": null,
   "metadata": {},
   "outputs": [],
   "source": [
    "submission.to_csv(SUBMISSIONS/'12-stacking_6models.csv', index=False)"
   ]
  },
  {
   "cell_type": "code",
   "execution_count": null,
   "metadata": {},
   "outputs": [],
   "source": []
  }
 ],
 "metadata": {
  "kernelspec": {
   "display_name": "Python 3",
   "language": "python",
   "name": "python3"
  },
  "language_info": {
   "codemirror_mode": {
    "name": "ipython",
    "version": 3
   },
   "file_extension": ".py",
   "mimetype": "text/x-python",
   "name": "python",
   "nbconvert_exporter": "python",
   "pygments_lexer": "ipython3",
   "version": "3.6.4"
  }
 },
 "nbformat": 4,
 "nbformat_minor": 2
}
