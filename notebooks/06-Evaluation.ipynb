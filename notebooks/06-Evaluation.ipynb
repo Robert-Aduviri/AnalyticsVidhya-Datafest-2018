{
 "cells": [
  {
   "cell_type": "code",
   "execution_count": 1,
   "metadata": {},
   "outputs": [],
   "source": [
    "%load_ext autoreload\n",
    "%autoreload 2\n",
    "%matplotlib inline\n",
    "%config InlineBackend.figure_format = 'retina'\n",
    "\n",
    "import os\n",
    "import numpy as np, pandas as pd\n",
    "import matplotlib.pyplot as plt, seaborn as sns\n",
    "from tqdm import tqdm, tqdm_notebook\n",
    "from pathlib import Path\n",
    "# pd.set_option('display.max_columns', 1000)\n",
    "# pd.set_option('display.max_rows', 400)\n",
    "sns.set()\n",
    "\n",
    "os.chdir('..')"
   ]
  },
  {
   "cell_type": "code",
   "execution_count": 2,
   "metadata": {},
   "outputs": [],
   "source": [
    "DATA = Path('data')\n",
    "RAW  = DATA/'raw'\n",
    "SUBMISSIONS = DATA/'submissions'"
   ]
  },
  {
   "cell_type": "code",
   "execution_count": 4,
   "metadata": {},
   "outputs": [],
   "source": [
    "train      = pd.read_csv(RAW/'train_jqd04QH.csv', low_memory=False)\n",
    "test       = pd.read_csv(RAW/'test_GYi4Gz5.csv', low_memory=False)\n",
    "submission = pd.read_csv(RAW/'sample_submission_sxfcbdx.csv', low_memory=False)"
   ]
  },
  {
   "cell_type": "code",
   "execution_count": 5,
   "metadata": {},
   "outputs": [],
   "source": [
    "id_col = 'enrollee_id'\n",
    "cat_cols = ['city', 'gender', 'relevent_experience', 'enrolled_university', \n",
    "            'education_level', 'major_discipline', 'experience', 'company_size', \n",
    "            'company_type', 'last_new_job']\n",
    "num_cols = ['city_development_index', 'training_hours']\n",
    "target_col = 'target'"
   ]
  },
  {
   "cell_type": "code",
   "execution_count": 6,
   "metadata": {},
   "outputs": [
    {
     "data": {
      "text/plain": [
       "enrollee_id                  0\n",
       "city                         0\n",
       "city_development_index       0\n",
       "gender                    4098\n",
       "relevent_experience          0\n",
       "enrolled_university        342\n",
       "education_level            457\n",
       "major_discipline          2838\n",
       "experience                  59\n",
       "company_size              4779\n",
       "company_type              5039\n",
       "last_new_job               367\n",
       "training_hours               0\n",
       "target                       0\n",
       "dtype: int64"
      ]
     },
     "execution_count": 6,
     "metadata": {},
     "output_type": "execute_result"
    }
   ],
   "source": [
    "train.isnull().sum(axis=0)"
   ]
  },
  {
   "cell_type": "code",
   "execution_count": 7,
   "metadata": {},
   "outputs": [
    {
     "data": {
      "text/plain": [
       "(18359, 14)"
      ]
     },
     "execution_count": 7,
     "metadata": {},
     "output_type": "execute_result"
    }
   ],
   "source": [
    "train.shape"
   ]
  },
  {
   "cell_type": "markdown",
   "metadata": {},
   "source": [
    "## Preprocessing"
   ]
  },
  {
   "cell_type": "code",
   "execution_count": 10,
   "metadata": {},
   "outputs": [
    {
     "name": "stdout",
     "output_type": "stream",
     "text": [
      "CPU times: user 72 ms, sys: 0 ns, total: 72 ms\n",
      "Wall time: 71.3 ms\n"
     ]
    }
   ],
   "source": [
    "%%time\n",
    "def get_dict(labels):\n",
    "    return {label: idx for idx, label in enumerate(labels)}\n",
    "\n",
    "labels = {\n",
    "    'enrolled_university': get_dict(['no_enrollment', 'Part time course',\n",
    "                                     'Full time course']),\n",
    "    'education_level': get_dict(['Primary School', 'High School', \n",
    "                                 'Graduate', 'Masters', 'Phd']),\n",
    "    'experience': get_dict(['<1'] + [str(x) for x in range(1,21)] + ['>20']),\n",
    "    'company_size': get_dict(['<10', '10/49', '50-99', '100-500', '500-999', \n",
    "                              '1000-4999', '5000-9999', '10000+']),\n",
    "    'last_new_job': get_dict([str(x) for x in range(1,5)] + ['>4', 'never'])\n",
    "}\n",
    "\n",
    "for col in labels:\n",
    "    train[col] = train[col].map(labels[col])\n",
    "    test[col] = test[col].map(labels[col])\n",
    "    \n",
    "from src.utils import to_cat_codes, apply_cats\n",
    "to_cat_codes(train, [c for c in cat_cols if c not in labels])\n",
    "apply_cats(test, train)\n",
    "for col in cat_cols: \n",
    "    if col not in labels:\n",
    "        train[col] = train[col].cat.codes\n",
    "        test[col] = test[col].cat.codes"
   ]
  },
  {
   "cell_type": "code",
   "execution_count": 11,
   "metadata": {},
   "outputs": [
    {
     "name": "stdout",
     "output_type": "stream",
     "text": [
      "CPU times: user 32 ms, sys: 8 ms, total: 40 ms\n",
      "Wall time: 115 ms\n"
     ]
    }
   ],
   "source": [
    "%%time\n",
    "train.fillna(-1, inplace=True)\n",
    "test.fillna(-1, inplace=True)\n",
    "\n",
    "nan_cols = [c for c in cat_cols if \\\n",
    "            any(df[c].min() < 0 for df in [train, test])]\n",
    "\n",
    "for c in nan_cols:\n",
    "    train[c] = train[c] + 1\n",
    "    test[c] = test[c] + 1"
   ]
  },
  {
   "cell_type": "code",
   "execution_count": 12,
   "metadata": {},
   "outputs": [
    {
     "name": "stdout",
     "output_type": "stream",
     "text": [
      "CPU times: user 4 ms, sys: 0 ns, total: 4 ms\n",
      "Wall time: 6.79 ms\n"
     ]
    }
   ],
   "source": [
    "%%time\n",
    "# Num features\n",
    "for col in labels:\n",
    "    train[f'{col}_num'] = train[col]\n",
    "    test[f'{col}_num'] = test[col]\n",
    "    num_cols.append(f'{col}_num')"
   ]
  },
  {
   "cell_type": "code",
   "execution_count": 15,
   "metadata": {},
   "outputs": [
    {
     "name": "stdout",
     "output_type": "stream",
     "text": [
      "CPU times: user 44 ms, sys: 28 ms, total: 72 ms\n",
      "Wall time: 518 ms\n"
     ]
    }
   ],
   "source": [
    "%%time\n",
    "from sklearn.preprocessing import StandardScaler\n",
    "scaler = StandardScaler().fit(pd.concat([train[num_cols], \n",
    "                                         test[num_cols]]))\n",
    "\n",
    "def scale_features(df, scaler, num_cols):\n",
    "    scaled = scaler.transform(df[num_cols])\n",
    "    for i, col in enumerate(num_cols):\n",
    "        df[col] = scaled[:,i]\n",
    "        \n",
    "scale_features(train, scaler, num_cols)\n",
    "scale_features(test, scaler, num_cols)"
   ]
  },
  {
   "cell_type": "markdown",
   "metadata": {},
   "source": [
    "## Validation"
   ]
  },
  {
   "cell_type": "code",
   "execution_count": 16,
   "metadata": {},
   "outputs": [],
   "source": [
    "from catboost import CatBoostClassifier\n",
    "from sklearn.model_selection import StratifiedKFold\n",
    "from sklearn.metrics import roc_auc_score"
   ]
  },
  {
   "cell_type": "code",
   "execution_count": 18,
   "metadata": {},
   "outputs": [],
   "source": [
    "columns = list(train.drop([id_col, target_col], axis=1))\n",
    "cat_indices = [i for i, col in enumerate(columns) if col in cat_cols]"
   ]
  },
  {
   "cell_type": "code",
   "execution_count": 54,
   "metadata": {},
   "outputs": [],
   "source": [
    "kfolds = StratifiedKFold(n_splits=5, random_state=42)"
   ]
  },
  {
   "cell_type": "code",
   "execution_count": 55,
   "metadata": {},
   "outputs": [],
   "source": [
    "def eval_model(model, X, y, kfolds):\n",
    "    trn_aucs, val_aucs = [], []\n",
    "    for trn_idx, val_idx in kfolds.split(X, y):\n",
    "        X_val, y_val = X.iloc[val_idx], y.iloc[val_idx]\n",
    "        X_trn, y_trn = X.iloc[trn_idx], y.iloc[trn_idx]\n",
    "        model.fit(X_trn, y_trn, eval_set=[(X_val, y_val)],\n",
    "                  use_best_model=True, cat_features=cat_indices, \n",
    "                  verbose=False)\n",
    "        y_trn_pred = model.predict_proba(X_trn)[:,1]\n",
    "        y_val_pred = model.predict_proba(X_val)[:,1]\n",
    "        trn_aucs.append(roc_auc_score(y_trn, y_trn_pred))\n",
    "        val_aucs.append(roc_auc_score(y_val, y_val_pred))\n",
    "        print(f'No. estimators: {model.tree_count_} | '\n",
    "              f'Train AUC: {100*trn_aucs[-1]:.2f} | '\n",
    "              f'Val AUC: {100*val_aucs[-1]:.2f}')\n",
    "    print()\n",
    "    return trn_aucs, val_aucs"
   ]
  },
  {
   "cell_type": "code",
   "execution_count": 56,
   "metadata": {},
   "outputs": [],
   "source": [
    "def print_results(trn_aucs, val_aucs):\n",
    "    print(f'{100*np.mean(trn_aucs):.2f} +/- {200*np.std(trn_aucs):.2f} | '\n",
    "          f'{100*np.mean(val_aucs):.2f} +/- {200*np.std(val_aucs):.2f}')"
   ]
  },
  {
   "cell_type": "code",
   "execution_count": 59,
   "metadata": {},
   "outputs": [
    {
     "name": "stdout",
     "output_type": "stream",
     "text": [
      "No. estimators: 341 | Train AUC: 72.24 | Val AUC: 68.90\n",
      "No. estimators: 573 | Train AUC: 76.26 | Val AUC: 64.35\n",
      "No. estimators: 462 | Train AUC: 73.63 | Val AUC: 66.23\n",
      "No. estimators: 520 | Train AUC: 74.49 | Val AUC: 67.82\n",
      "No. estimators: 370 | Train AUC: 73.26 | Val AUC: 68.23\n",
      "\n",
      "CPU times: user 28min 45s, sys: 1min 21s, total: 30min 6s\n",
      "Wall time: 2min 46s\n"
     ]
    }
   ],
   "source": [
    "%%time\n",
    "trn_aucs, val_aucs = eval_model(CatBoostClassifier(iterations=1000, od_pval=0.001, \n",
    "                                eval_metric='AUC', random_seed=42,\n",
    "                                depth=10),\n",
    "                     train.drop([id_col, target_col], axis=1), train[target_col], kfolds)"
   ]
  },
  {
   "cell_type": "code",
   "execution_count": 60,
   "metadata": {},
   "outputs": [
    {
     "name": "stdout",
     "output_type": "stream",
     "text": [
      "73.98 +/- 2.70 | 67.11 +/- 3.27\n"
     ]
    }
   ],
   "source": [
    "# 5 folds, depth 10\n",
    "print_results(trn_aucs, val_aucs)"
   ]
  },
  {
   "cell_type": "code",
   "execution_count": 53,
   "metadata": {},
   "outputs": [
    {
     "name": "stdout",
     "output_type": "stream",
     "text": [
      "71.47 +/- 2.91 | 67.30 +/- 4.23\n"
     ]
    }
   ],
   "source": [
    "# 10 folds\n",
    "print_results(trn_aucs, val_aucs)"
   ]
  },
  {
   "cell_type": "code",
   "execution_count": 48,
   "metadata": {},
   "outputs": [
    {
     "name": "stdout",
     "output_type": "stream",
     "text": [
      "71.66 +/- 2.83 | 67.00 +/- 3.29\n"
     ]
    }
   ],
   "source": [
    "# 5 folds\n",
    "print_results(trn_aucs, val_aucs)"
   ]
  }
 ],
 "metadata": {
  "kernelspec": {
   "display_name": "Python 3",
   "language": "python",
   "name": "python3"
  },
  "language_info": {
   "codemirror_mode": {
    "name": "ipython",
    "version": 3
   },
   "file_extension": ".py",
   "mimetype": "text/x-python",
   "name": "python",
   "nbconvert_exporter": "python",
   "pygments_lexer": "ipython3",
   "version": "3.6.4"
  }
 },
 "nbformat": 4,
 "nbformat_minor": 2
}
