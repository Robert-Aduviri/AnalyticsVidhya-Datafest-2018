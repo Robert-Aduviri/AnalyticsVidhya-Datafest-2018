{
 "cells": [
  {
   "cell_type": "code",
   "execution_count": 1,
   "metadata": {},
   "outputs": [],
   "source": [
    "%load_ext autoreload\n",
    "%autoreload 2\n",
    "%matplotlib inline\n",
    "%config InlineBackend.figure_format = 'retina'\n",
    "\n",
    "import os\n",
    "import numpy as np, pandas as pd\n",
    "import matplotlib.pyplot as plt, seaborn as sns\n",
    "from tqdm import tqdm, tqdm_notebook\n",
    "from pathlib import Path\n",
    "# pd.set_option('display.max_columns', 1000)\n",
    "# pd.set_option('display.max_rows', 400)\n",
    "sns.set()\n",
    "\n",
    "os.chdir('..')"
   ]
  },
  {
   "cell_type": "code",
   "execution_count": 2,
   "metadata": {},
   "outputs": [],
   "source": [
    "DATA = Path('data')\n",
    "RAW  = DATA/'raw'\n",
    "SUBMISSIONS = DATA/'submissions'"
   ]
  },
  {
   "cell_type": "code",
   "execution_count": 3,
   "metadata": {},
   "outputs": [],
   "source": [
    "train      = pd.read_csv(RAW/'train_jqd04QH.csv', low_memory=False)\n",
    "test       = pd.read_csv(RAW/'test_GYi4Gz5.csv', low_memory=False)\n",
    "submission = pd.read_csv(RAW/'sample_submission_sxfcbdx.csv', low_memory=False)"
   ]
  },
  {
   "cell_type": "code",
   "execution_count": 4,
   "metadata": {},
   "outputs": [],
   "source": [
    "id_col = 'enrollee_id'\n",
    "cat_cols = ['city', 'gender', 'relevent_experience', 'enrolled_university', \n",
    "            'education_level', 'major_discipline', 'experience', 'company_size', \n",
    "            'company_type', 'last_new_job']\n",
    "num_cols = ['city_development_index', 'training_hours']\n",
    "target_col = 'target'"
   ]
  },
  {
   "cell_type": "code",
   "execution_count": 5,
   "metadata": {},
   "outputs": [],
   "source": [
    "def get_dict(labels):\n",
    "    return {label: idx for idx, label in enumerate(labels)}\n",
    "\n",
    "labels = {\n",
    "    'enrolled_university': get_dict(['no_enrollment', 'Part time course',\n",
    "                                     'Full time course']),\n",
    "    'education_level': get_dict(['Primary School', 'High School', \n",
    "                                 'Graduate', 'Masters', 'Phd']),\n",
    "    'experience': get_dict(['<1'] + \\\n",
    "                           [str(x) for x in range(1,21)] + ['>20']),\n",
    "    'company_size': get_dict(['<10', '10/49', '50-99', '100-500', \n",
    "                              '500-999', \n",
    "                              '1000-4999', '5000-9999', '10000+']),\n",
    "    'last_new_job': get_dict([str(x) for x in range(1,5)] + \\\n",
    "                             ['>4', 'never'])\n",
    "}"
   ]
  },
  {
   "cell_type": "code",
   "execution_count": 9,
   "metadata": {},
   "outputs": [],
   "source": [
    "for col in labels:\n",
    "    data[f'{col}_num'] = data[col].map(labels[col])"
   ]
  },
  {
   "cell_type": "code",
   "execution_count": 6,
   "metadata": {},
   "outputs": [],
   "source": [
    "reverse_labels = {col: {v: k for k, v in labels[col].items()} for col in labels}"
   ]
  },
  {
   "cell_type": "code",
   "execution_count": 8,
   "metadata": {},
   "outputs": [],
   "source": [
    "data = pd.concat([train.drop(target_col, axis=1), test])"
   ]
  },
  {
   "cell_type": "code",
   "execution_count": 12,
   "metadata": {},
   "outputs": [],
   "source": [
    "company_sizes = {e: reverse_labels['company_size'][int(data[data.education_level == e]\\\n",
    "                                   .company_size_num.median())] \\\n",
    "                 for e in data.education_level.unique() if e == e}"
   ]
  },
  {
   "cell_type": "code",
   "execution_count": 13,
   "metadata": {},
   "outputs": [
    {
     "data": {
      "text/plain": [
       "{'Graduate': '100-500',\n",
       " 'High School': '50-99',\n",
       " 'Masters': '100-500',\n",
       " 'Phd': '500-999',\n",
       " 'Primary School': '50-99'}"
      ]
     },
     "execution_count": 13,
     "metadata": {},
     "output_type": "execute_result"
    }
   ],
   "source": [
    "company_sizes"
   ]
  },
  {
   "cell_type": "code",
   "execution_count": 17,
   "metadata": {},
   "outputs": [],
   "source": [
    "train['company_size'] = [company_sizes[e] if c != c and e == e else c for c, e in \\\n",
    "                            zip(train.company_size, train.education_level)]\n",
    "test['company_size'] = [company_sizes[e] if c != c and e == e else c for c, e in \\\n",
    "                            zip(test.company_size, test.education_level)]"
   ]
  },
  {
   "cell_type": "code",
   "execution_count": 18,
   "metadata": {},
   "outputs": [
    {
     "data": {
      "text/plain": [
       "enrollee_id                  0\n",
       "city                         0\n",
       "city_development_index       0\n",
       "gender                    4098\n",
       "relevent_experience          0\n",
       "enrolled_university        342\n",
       "education_level            457\n",
       "major_discipline          2838\n",
       "experience                  59\n",
       "company_size               292\n",
       "company_type              5039\n",
       "last_new_job               367\n",
       "training_hours               0\n",
       "target                       0\n",
       "dtype: int64"
      ]
     },
     "execution_count": 18,
     "metadata": {},
     "output_type": "execute_result"
    }
   ],
   "source": [
    "train.isnull().sum(0)"
   ]
  },
  {
   "cell_type": "code",
   "execution_count": 20,
   "metadata": {},
   "outputs": [
    {
     "name": "stdout",
     "output_type": "stream",
     "text": [
      "CPU times: user 360 ms, sys: 28 ms, total: 388 ms\n",
      "Wall time: 383 ms\n"
     ]
    }
   ],
   "source": [
    "%%time\n",
    "from src.utils import preprocess\n",
    "preprocess(train, test, cat_cols, num_cols)"
   ]
  },
  {
   "cell_type": "markdown",
   "metadata": {},
   "source": [
    "## Models"
   ]
  },
  {
   "cell_type": "code",
   "execution_count": 22,
   "metadata": {},
   "outputs": [],
   "source": [
    "from sklearn.model_selection import StratifiedKFold\n",
    "columns = list(train.drop([id_col, target_col], axis=1))\n",
    "cat_indices = [i for i, col in enumerate(columns) if col in cat_cols]\n",
    "kfolds = StratifiedKFold(n_splits=5, random_state=42)"
   ]
  },
  {
   "cell_type": "code",
   "execution_count": 23,
   "metadata": {},
   "outputs": [],
   "source": [
    "from src.utils import eval_catboost\n",
    "from catboost import CatBoostClassifier"
   ]
  },
  {
   "cell_type": "code",
   "execution_count": 27,
   "metadata": {},
   "outputs": [
    {
     "name": "stdout",
     "output_type": "stream",
     "text": [
      "No. estimators: 489 | Train AUC: 70.77 | Val AUC: 69.06\n",
      "No. estimators: 826 | Train AUC: 73.13 | Val AUC: 63.67\n",
      "No. estimators: 576 | Train AUC: 71.97 | Val AUC: 66.16\n",
      "No. estimators: 826 | Train AUC: 72.38 | Val AUC: 67.13\n",
      "No. estimators: 443 | Train AUC: 71.13 | Val AUC: 67.83\n",
      "\n",
      "CPU times: user 12min 15s, sys: 1min, total: 13min 15s\n",
      "Wall time: 1min 24s\n"
     ]
    }
   ],
   "source": [
    "%%time\n",
    "trn_aucs, val_aucs = eval_catboost(CatBoostClassifier(\n",
    "                        random_seed=42, eval_metric='AUC', od_pval=1e-3),\n",
    "                    train.drop([id_col, target_col], axis=1), \n",
    "                    train[target_col], kfolds, cat_indices)"
   ]
  },
  {
   "cell_type": "code",
   "execution_count": 26,
   "metadata": {},
   "outputs": [
    {
     "name": "stdout",
     "output_type": "stream",
     "text": [
      "Train AUC: 72.59 +/- 1.21 | Val AUC: 66.90 +/- 3.73\n"
     ]
    }
   ],
   "source": [
    "from src.utils import print_results\n",
    "# n_estimators 1000 | max_depth 7\n",
    "print_results(trn_aucs, val_aucs)"
   ]
  },
  {
   "cell_type": "code",
   "execution_count": 28,
   "metadata": {},
   "outputs": [
    {
     "name": "stdout",
     "output_type": "stream",
     "text": [
      "Train AUC: 71.87 +/- 1.70 | Val AUC: 66.77 +/- 3.63\n"
     ]
    }
   ],
   "source": [
    "# default\n",
    "print_results(trn_aucs, val_aucs)"
   ]
  },
  {
   "cell_type": "code",
   "execution_count": 30,
   "metadata": {},
   "outputs": [
    {
     "name": "stdout",
     "output_type": "stream",
     "text": [
      "CPU times: user 1min 19s, sys: 6.36 s, total: 1min 25s\n",
      "Wall time: 9.47 s\n"
     ]
    }
   ],
   "source": [
    "%%time\n",
    "model = CatBoostClassifier(iterations=500, eval_metric='AUC')\n",
    "model.fit(train.drop([id_col, target_col], axis=1), train[target_col],\n",
    "          cat_features=cat_indices, verbose=False)\n",
    "y_test = model.predict_proba(test.drop(id_col, axis=1))[:,1]"
   ]
  },
  {
   "cell_type": "code",
   "execution_count": 31,
   "metadata": {},
   "outputs": [],
   "source": [
    "X_train = train.drop([id_col, target_col], axis=1)\n",
    "y_train = train[target_col]"
   ]
  },
  {
   "cell_type": "code",
   "execution_count": 32,
   "metadata": {},
   "outputs": [],
   "source": [
    "y_pred = model.predict_proba(X_train)[:,1]"
   ]
  },
  {
   "cell_type": "code",
   "execution_count": 33,
   "metadata": {},
   "outputs": [
    {
     "data": {
      "text/plain": [
       "0.7133898594589279"
      ]
     },
     "execution_count": 33,
     "metadata": {},
     "output_type": "execute_result"
    }
   ],
   "source": [
    "from sklearn.metrics import roc_auc_score\n",
    "roc_auc_score(y_train, y_pred)"
   ]
  },
  {
   "cell_type": "code",
   "execution_count": 35,
   "metadata": {},
   "outputs": [],
   "source": [
    "from catboost import Pool\n",
    "feature_score = pd.DataFrame(list(zip(X_train.dtypes.index, \n",
    "                                      model.get_feature_importance(\n",
    "                                          Pool(X_train, label=y_train, \n",
    "                                               cat_features=cat_indices)))),\n",
    "                columns=['Feature','Score'])\n",
    "\n",
    "feature_score = feature_score.sort_values(by='Score', ascending=False, \n",
    "                                inplace=False, na_position='last')"
   ]
  },
  {
   "cell_type": "code",
   "execution_count": 36,
   "metadata": {},
   "outputs": [
    {
     "data": {
      "text/plain": [
       "<matplotlib.axes._subplots.AxesSubplot at 0x7f8b18202860>"
      ]
     },
     "execution_count": 36,
     "metadata": {},
     "output_type": "execute_result"
    },
    {
     "data": {
      "image/png": "[encoded data removed]",
      "text/plain": [
       "<matplotlib.figure.Figure at 0x7f8b18214710>"
      ]
     },
     "metadata": {
      "image/png": {
       "height": 254,
       "width": 512
      }
     },
     "output_type": "display_data"
    }
   ],
   "source": [
    "feature_score.plot('Feature', 'Score', kind='barh', color='c')"
   ]
  },
  {
   "cell_type": "code",
   "execution_count": 37,
   "metadata": {},
   "outputs": [],
   "source": [
    "test[target_col] = y_test\n",
    "submission = pd.read_csv(RAW/'sample_submission_sxfcbdx.csv', low_memory=False)\n",
    "submission = pd.merge(submission[[id_col]], test[[id_col, target_col]], how='left', on=id_col)"
   ]
  },
  {
   "cell_type": "code",
   "execution_count": 38,
   "metadata": {},
   "outputs": [
    {
     "data": {
      "text/plain": [
       "count    15021.000000\n",
       "mean         0.130276\n",
       "std          0.072373\n",
       "min          0.049687\n",
       "25%          0.079281\n",
       "50%          0.101874\n",
       "75%          0.154870\n",
       "max          0.668623\n",
       "Name: target, dtype: float64"
      ]
     },
     "execution_count": 38,
     "metadata": {},
     "output_type": "execute_result"
    }
   ],
   "source": [
    "submission[target_col].describe()"
   ]
  },
  {
   "cell_type": "code",
   "execution_count": 39,
   "metadata": {},
   "outputs": [],
   "source": [
    "submission.to_csv(SUBMISSIONS/'24-catboost_fillnan.csv', index=False)"
   ]
  },
  {
   "cell_type": "code",
   "execution_count": null,
   "metadata": {},
   "outputs": [],
   "source": []
  }
 ],
 "metadata": {
  "kernelspec": {
   "display_name": "Python 3",
   "language": "python",
   "name": "python3"
  },
  "language_info": {
   "codemirror_mode": {
    "name": "ipython",
    "version": 3
   },
   "file_extension": ".py",
   "mimetype": "text/x-python",
   "name": "python",
   "nbconvert_exporter": "python",
   "pygments_lexer": "ipython3",
   "version": "3.6.4"
  }
 },
 "nbformat": 4,
 "nbformat_minor": 2
}
