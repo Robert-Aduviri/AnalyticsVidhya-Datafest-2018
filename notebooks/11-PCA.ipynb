{
 "cells": [
  {
   "cell_type": "code",
   "execution_count": 1,
   "metadata": {},
   "outputs": [],
   "source": [
    "%load_ext autoreload\n",
    "%autoreload 2\n",
    "%matplotlib inline\n",
    "%config InlineBackend.figure_format = 'retina'\n",
    "\n",
    "import os\n",
    "import numpy as np, pandas as pd\n",
    "import matplotlib.pyplot as plt, seaborn as sns\n",
    "from tqdm import tqdm, tqdm_notebook\n",
    "from pathlib import Path\n",
    "# pd.set_option('display.max_columns', 1000)\n",
    "# pd.set_option('display.max_rows', 400)\n",
    "sns.set()\n",
    "\n",
    "os.chdir('..')"
   ]
  },
  {
   "cell_type": "code",
   "execution_count": 2,
   "metadata": {},
   "outputs": [],
   "source": [
    "DATA = Path('data')\n",
    "RAW  = DATA/'raw'\n",
    "SUBMISSIONS = DATA/'submissions'"
   ]
  },
  {
   "cell_type": "code",
   "execution_count": 3,
   "metadata": {},
   "outputs": [],
   "source": [
    "train      = pd.read_csv(RAW/'train_jqd04QH.csv', low_memory=False)\n",
    "test       = pd.read_csv(RAW/'test_GYi4Gz5.csv', low_memory=False)\n",
    "submission = pd.read_csv(RAW/'sample_submission_sxfcbdx.csv', low_memory=False)"
   ]
  },
  {
   "cell_type": "code",
   "execution_count": 4,
   "metadata": {},
   "outputs": [],
   "source": [
    "id_col = 'enrollee_id'\n",
    "cat_cols = ['city', 'gender', 'relevent_experience', 'enrolled_university', \n",
    "            'education_level', 'major_discipline', 'experience', 'company_size', \n",
    "            'company_type', 'last_new_job']\n",
    "num_cols = ['city_development_index', 'training_hours']\n",
    "target_col = 'target'"
   ]
  },
  {
   "cell_type": "code",
   "execution_count": 6,
   "metadata": {},
   "outputs": [],
   "source": [
    "from src.utils import preprocess\n",
    "preprocess(train, test, cat_cols, num_cols)"
   ]
  },
  {
   "cell_type": "code",
   "execution_count": 7,
   "metadata": {},
   "outputs": [],
   "source": [
    "from sklearn.model_selection import StratifiedKFold\n",
    "columns = list(train.drop([id_col, target_col], axis=1))\n",
    "cat_indices = [i for i, col in enumerate(columns) if col in cat_cols]\n",
    "kfolds = StratifiedKFold(n_splits=5, random_state=42)"
   ]
  },
  {
   "cell_type": "markdown",
   "metadata": {},
   "source": [
    "# Neural Net"
   ]
  },
  {
   "cell_type": "code",
   "execution_count": 8,
   "metadata": {},
   "outputs": [],
   "source": [
    "from src.utils import eval_neuralnet\n",
    "from src.neuralnet import StructuredNet"
   ]
  },
  {
   "cell_type": "code",
   "execution_count": 18,
   "metadata": {},
   "outputs": [
    {
     "name": "stdout",
     "output_type": "stream",
     "text": [
      "Epoch: 1 | Train AUC: 63.01 | Val AUC: 63.10\n",
      "Epoch: 2 | Train AUC: 64.73 | Val AUC: 65.41\n",
      "Epoch: 3 | Train AUC: 65.45 | Val AUC: 66.08\n",
      "Epoch: 4 | Train AUC: 66.11 | Val AUC: 66.50\n",
      "Epoch: 5 | Train AUC: 66.54 | Val AUC: 66.89\n",
      "Epoch: 6 | Train AUC: 66.73 | Val AUC: 66.77\n",
      "Epoch: 7 | Train AUC: 66.92 | Val AUC: 66.59\n",
      "Epoch: 8 | Train AUC: 67.19 | Val AUC: 67.13\n",
      "Epoch: 9 | Train AUC: 67.60 | Val AUC: 67.33\n",
      "Epoch: 10 | Train AUC: 67.75 | Val AUC: 67.39\n",
      "Epoch: 11 | Train AUC: 67.96 | Val AUC: 67.66\n",
      "Epoch: 12 | Train AUC: 68.06 | Val AUC: 67.77\n",
      "Epoch: 13 | Train AUC: 68.24 | Val AUC: 67.83\n",
      "Epoch: 14 | Train AUC: 68.46 | Val AUC: 68.09\n",
      "Epoch: 15 | Train AUC: 68.42 | Val AUC: 67.70\n",
      "Epoch: 16 | Train AUC: 68.60 | Val AUC: 68.02\n",
      "Epoch: 17 | Train AUC: 68.88 | Val AUC: 68.04\n",
      "Epoch: 18 | Train AUC: 68.89 | Val AUC: 67.94\n",
      "Epoch: 19 | Train AUC: 69.13 | Val AUC: 68.04\n",
      "Epoch: 20 | Train AUC: 69.28 | Val AUC: 68.04\n",
      "Best epoch: 14 | Train AUC: 68.46 | Val AUC: 68.09\n",
      "\n",
      "Epoch: 1 | Train AUC: 64.93 | Val AUC: 61.55\n",
      "Epoch: 2 | Train AUC: 66.32 | Val AUC: 62.19\n",
      "Epoch: 3 | Train AUC: 67.01 | Val AUC: 62.11\n",
      "Epoch: 4 | Train AUC: 67.64 | Val AUC: 62.73\n",
      "Epoch: 5 | Train AUC: 67.78 | Val AUC: 63.12\n",
      "Epoch: 6 | Train AUC: 67.93 | Val AUC: 63.24\n",
      "Epoch: 7 | Train AUC: 68.28 | Val AUC: 63.43\n",
      "Epoch: 8 | Train AUC: 68.84 | Val AUC: 63.58\n",
      "Epoch: 9 | Train AUC: 68.88 | Val AUC: 63.66\n",
      "Epoch: 10 | Train AUC: 69.15 | Val AUC: 63.67\n",
      "Epoch: 11 | Train AUC: 69.44 | Val AUC: 63.71\n",
      "Epoch: 12 | Train AUC: 69.66 | Val AUC: 63.93\n",
      "Epoch: 13 | Train AUC: 69.89 | Val AUC: 64.02\n",
      "Epoch: 14 | Train AUC: 69.95 | Val AUC: 64.13\n",
      "Epoch: 15 | Train AUC: 70.04 | Val AUC: 64.10\n",
      "Epoch: 16 | Train AUC: 70.04 | Val AUC: 64.15\n",
      "Epoch: 17 | Train AUC: 70.44 | Val AUC: 64.24\n",
      "Epoch: 18 | Train AUC: 70.40 | Val AUC: 64.08\n",
      "Epoch: 19 | Train AUC: 70.55 | Val AUC: 64.46\n",
      "Epoch: 20 | Train AUC: 70.68 | Val AUC: 64.21\n",
      "Best epoch: 19 | Train AUC: 70.55 | Val AUC: 64.46\n",
      "\n",
      "Epoch: 1 | Train AUC: 63.55 | Val AUC: 62.32\n",
      "Epoch: 2 | Train AUC: 65.55 | Val AUC: 64.39\n",
      "Epoch: 3 | Train AUC: 66.16 | Val AUC: 64.56\n",
      "Epoch: 4 | Train AUC: 66.87 | Val AUC: 64.83\n",
      "Epoch: 5 | Train AUC: 67.19 | Val AUC: 65.32\n",
      "Epoch: 6 | Train AUC: 67.32 | Val AUC: 65.04\n",
      "Epoch: 7 | Train AUC: 67.58 | Val AUC: 64.79\n",
      "Epoch: 8 | Train AUC: 67.88 | Val AUC: 65.47\n",
      "Epoch: 9 | Train AUC: 68.33 | Val AUC: 65.54\n",
      "Epoch: 10 | Train AUC: 68.37 | Val AUC: 65.31\n",
      "Epoch: 11 | Train AUC: 68.67 | Val AUC: 65.25\n",
      "Epoch: 12 | Train AUC: 68.96 | Val AUC: 65.42\n",
      "Epoch: 13 | Train AUC: 69.16 | Val AUC: 65.79\n",
      "Epoch: 14 | Train AUC: 69.29 | Val AUC: 65.91\n",
      "Epoch: 15 | Train AUC: 69.52 | Val AUC: 66.12\n",
      "Epoch: 16 | Train AUC: 69.81 | Val AUC: 65.98\n",
      "Epoch: 17 | Train AUC: 69.92 | Val AUC: 65.96\n",
      "Epoch: 18 | Train AUC: 70.08 | Val AUC: 65.88\n",
      "Epoch: 19 | Train AUC: 70.23 | Val AUC: 65.80\n",
      "Epoch: 20 | Train AUC: 70.34 | Val AUC: 65.68\n",
      "Best epoch: 15 | Train AUC: 69.52 | Val AUC: 66.12\n",
      "\n",
      "Epoch: 1 | Train AUC: 62.91 | Val AUC: 63.60\n",
      "Epoch: 2 | Train AUC: 65.19 | Val AUC: 65.70\n",
      "Epoch: 3 | Train AUC: 66.48 | Val AUC: 67.06\n",
      "Epoch: 4 | Train AUC: 66.82 | Val AUC: 66.79\n",
      "Epoch: 5 | Train AUC: 67.10 | Val AUC: 66.62\n",
      "Epoch: 6 | Train AUC: 67.27 | Val AUC: 66.92\n",
      "Epoch: 7 | Train AUC: 67.79 | Val AUC: 67.02\n",
      "Epoch: 8 | Train AUC: 68.07 | Val AUC: 67.13\n",
      "Epoch: 9 | Train AUC: 68.20 | Val AUC: 66.92\n",
      "Epoch: 10 | Train AUC: 68.33 | Val AUC: 67.01\n",
      "Epoch: 11 | Train AUC: 68.57 | Val AUC: 66.94\n",
      "Epoch: 12 | Train AUC: 68.60 | Val AUC: 67.02\n",
      "Epoch: 13 | Train AUC: 68.69 | Val AUC: 66.87\n",
      "Epoch: 14 | Train AUC: 68.83 | Val AUC: 66.79\n",
      "Epoch: 15 | Train AUC: 69.02 | Val AUC: 66.74\n",
      "Epoch: 16 | Train AUC: 69.24 | Val AUC: 66.80\n",
      "Epoch: 17 | Train AUC: 69.30 | Val AUC: 66.85\n",
      "Epoch: 18 | Train AUC: 69.56 | Val AUC: 66.59\n",
      "Epoch: 19 | Train AUC: 69.65 | Val AUC: 66.43\n",
      "Epoch: 20 | Train AUC: 69.78 | Val AUC: 66.33\n",
      "Best epoch: 8 | Train AUC: 68.07 | Val AUC: 67.13\n",
      "\n",
      "Epoch: 1 | Train AUC: 63.45 | Val AUC: 64.53\n",
      "Epoch: 2 | Train AUC: 64.67 | Val AUC: 64.34\n",
      "Epoch: 3 | Train AUC: 65.57 | Val AUC: 65.85\n",
      "Epoch: 4 | Train AUC: 66.18 | Val AUC: 66.33\n",
      "Epoch: 5 | Train AUC: 66.65 | Val AUC: 66.21\n",
      "Epoch: 6 | Train AUC: 67.16 | Val AUC: 67.00\n",
      "Epoch: 7 | Train AUC: 67.69 | Val AUC: 66.66\n",
      "Epoch: 8 | Train AUC: 67.94 | Val AUC: 67.15\n",
      "Epoch: 9 | Train AUC: 68.08 | Val AUC: 66.99\n",
      "Epoch: 10 | Train AUC: 68.36 | Val AUC: 67.04\n",
      "Epoch: 11 | Train AUC: 68.55 | Val AUC: 67.25\n",
      "Epoch: 12 | Train AUC: 68.69 | Val AUC: 67.25\n",
      "Epoch: 13 | Train AUC: 68.92 | Val AUC: 67.14\n",
      "Epoch: 14 | Train AUC: 69.11 | Val AUC: 67.26\n",
      "Epoch: 15 | Train AUC: 69.16 | Val AUC: 67.36\n",
      "Epoch: 16 | Train AUC: 69.47 | Val AUC: 67.27\n",
      "Epoch: 17 | Train AUC: 69.66 | Val AUC: 67.23\n",
      "Epoch: 18 | Train AUC: 69.72 | Val AUC: 67.16\n",
      "Epoch: 19 | Train AUC: 69.95 | Val AUC: 67.11\n",
      "Epoch: 20 | Train AUC: 70.00 | Val AUC: 67.09\n",
      "Best epoch: 15 | Train AUC: 69.16 | Val AUC: 67.36\n",
      "\n",
      "\n",
      "CPU times: user 5min 40s, sys: 3.87 s, total: 5min 43s\n",
      "Wall time: 5min 49s\n"
     ]
    }
   ],
   "source": [
    "%%time\n",
    "USE_CUDA = True\n",
    "trn_aucs, val_aucs = eval_neuralnet(\n",
    "                train.drop([id_col, target_col], axis=1), \n",
    "                train[target_col], kfolds, cat_cols, num_cols, USE_CUDA)"
   ]
  },
  {
   "cell_type": "code",
   "execution_count": 19,
   "metadata": {},
   "outputs": [
    {
     "name": "stdout",
     "output_type": "stream",
     "text": [
      "Train AUC: 69.15 +/- 1.73 | Val AUC: 66.63 +/- 2.51\n"
     ]
    }
   ],
   "source": [
    "# szs [300, 100] emb [20] lr [3e-4] e [20] emb_drop [0.4]\n",
    "print_results(trn_aucs, val_aucs)"
   ]
  },
  {
   "cell_type": "code",
   "execution_count": 17,
   "metadata": {},
   "outputs": [
    {
     "name": "stdout",
     "output_type": "stream",
     "text": [
      "Train AUC: 70.40 +/- 1.63 | Val AUC: 66.38 +/- 2.32\n"
     ]
    }
   ],
   "source": [
    "# szs [300, 100] emb [20] lr [3e-4] e [20]\n",
    "print_results(trn_aucs, val_aucs)"
   ]
  },
  {
   "cell_type": "code",
   "execution_count": 12,
   "metadata": {},
   "outputs": [
    {
     "name": "stdout",
     "output_type": "stream",
     "text": [
      "Train AUC: 69.61 +/- 1.93 | Val AUC: 66.48 +/- 2.79\n"
     ]
    }
   ],
   "source": [
    "# szs [300, 100] emb [20]\n",
    "from src.utils import print_results\n",
    "print_results(trn_aucs, val_aucs)"
   ]
  },
  {
   "cell_type": "code",
   "execution_count": 10,
   "metadata": {},
   "outputs": [
    {
     "name": "stdout",
     "output_type": "stream",
     "text": [
      "Train AUC: 70.11 +/- 2.40 | Val AUC: 66.19 +/- 3.06\n"
     ]
    }
   ],
   "source": [
    "# szs [300, 100]\n",
    "from src.utils import print_results\n",
    "print_results(trn_aucs, val_aucs)"
   ]
  },
  {
   "cell_type": "markdown",
   "metadata": {},
   "source": [
    "## OOF predictions"
   ]
  },
  {
   "cell_type": "code",
   "execution_count": 22,
   "metadata": {},
   "outputs": [],
   "source": [
    "from src.oofpredictions import test_neuralnet"
   ]
  },
  {
   "cell_type": "code",
   "execution_count": 23,
   "metadata": {},
   "outputs": [
    {
     "name": "stdout",
     "output_type": "stream",
     "text": [
      "Epoch: 1 | Train AUC: 64.26 | Val AUC: 64.41\n",
      "Epoch: 2 | Train AUC: 65.86 | Val AUC: 66.26\n",
      "Epoch: 3 | Train AUC: 66.01 | Val AUC: 66.45\n",
      "Epoch: 4 | Train AUC: 66.59 | Val AUC: 66.86\n",
      "Epoch: 5 | Train AUC: 67.08 | Val AUC: 67.29\n",
      "Epoch: 6 | Train AUC: 67.43 | Val AUC: 67.58\n",
      "Epoch: 7 | Train AUC: 67.79 | Val AUC: 68.08\n",
      "Epoch: 8 | Train AUC: 67.95 | Val AUC: 67.88\n",
      "Epoch: 9 | Train AUC: 68.25 | Val AUC: 68.30\n",
      "Epoch: 10 | Train AUC: 68.51 | Val AUC: 68.51\n",
      "Epoch: 11 | Train AUC: 68.74 | Val AUC: 68.40\n",
      "Epoch: 12 | Train AUC: 68.70 | Val AUC: 68.27\n",
      "Epoch: 13 | Train AUC: 69.15 | Val AUC: 68.49\n",
      "Epoch: 14 | Train AUC: 69.24 | Val AUC: 68.40\n",
      "Epoch: 15 | Train AUC: 69.48 | Val AUC: 68.46\n",
      "Epoch: 16 | Train AUC: 69.80 | Val AUC: 68.58\n",
      "Epoch: 17 | Train AUC: 69.94 | Val AUC: 68.59\n",
      "Epoch: 18 | Train AUC: 70.15 | Val AUC: 68.33\n",
      "Epoch: 19 | Train AUC: 70.26 | Val AUC: 68.43\n",
      "Epoch: 20 | Train AUC: 70.29 | Val AUC: 68.44\n",
      "Best epoch: 17 | Train AUC: 69.94 | Val AUC: 68.59\n",
      "\n",
      "Epoch: 1 | Train AUC: 64.12 | Val AUC: 60.97\n",
      "Epoch: 2 | Train AUC: 66.37 | Val AUC: 62.90\n",
      "Epoch: 3 | Train AUC: 67.40 | Val AUC: 63.40\n",
      "Epoch: 4 | Train AUC: 67.85 | Val AUC: 63.44\n",
      "Epoch: 5 | Train AUC: 67.69 | Val AUC: 63.71\n",
      "Epoch: 6 | Train AUC: 68.25 | Val AUC: 64.10\n",
      "Epoch: 7 | Train AUC: 68.52 | Val AUC: 64.23\n",
      "Epoch: 8 | Train AUC: 68.89 | Val AUC: 64.20\n",
      "Epoch: 9 | Train AUC: 68.77 | Val AUC: 64.49\n",
      "Epoch: 10 | Train AUC: 69.05 | Val AUC: 64.69\n",
      "Epoch: 11 | Train AUC: 69.25 | Val AUC: 64.70\n",
      "Epoch: 12 | Train AUC: 69.40 | Val AUC: 64.66\n",
      "Epoch: 13 | Train AUC: 69.40 | Val AUC: 64.57\n",
      "Epoch: 14 | Train AUC: 69.54 | Val AUC: 64.84\n",
      "Epoch: 15 | Train AUC: 69.74 | Val AUC: 64.81\n",
      "Epoch: 16 | Train AUC: 69.85 | Val AUC: 64.67\n",
      "Epoch: 17 | Train AUC: 70.20 | Val AUC: 64.70\n",
      "Epoch: 18 | Train AUC: 70.29 | Val AUC: 64.64\n",
      "Epoch: 19 | Train AUC: 70.51 | Val AUC: 64.61\n",
      "Epoch: 20 | Train AUC: 70.72 | Val AUC: 64.72\n",
      "Best epoch: 14 | Train AUC: 69.54 | Val AUC: 64.84\n",
      "\n",
      "Epoch: 1 | Train AUC: 64.49 | Val AUC: 62.97\n",
      "Epoch: 2 | Train AUC: 66.08 | Val AUC: 64.59\n",
      "Epoch: 3 | Train AUC: 66.76 | Val AUC: 64.86\n",
      "Epoch: 4 | Train AUC: 67.25 | Val AUC: 65.65\n",
      "Epoch: 5 | Train AUC: 67.56 | Val AUC: 65.49\n",
      "Epoch: 6 | Train AUC: 67.94 | Val AUC: 65.85\n",
      "Epoch: 7 | Train AUC: 67.80 | Val AUC: 66.12\n",
      "Epoch: 8 | Train AUC: 67.98 | Val AUC: 65.99\n",
      "Epoch: 9 | Train AUC: 68.22 | Val AUC: 65.94\n",
      "Epoch: 10 | Train AUC: 68.35 | Val AUC: 66.42\n",
      "Epoch: 11 | Train AUC: 68.51 | Val AUC: 66.39\n",
      "Epoch: 12 | Train AUC: 68.70 | Val AUC: 66.36\n",
      "Epoch: 13 | Train AUC: 68.95 | Val AUC: 66.42\n",
      "Epoch: 14 | Train AUC: 68.96 | Val AUC: 66.08\n",
      "Epoch: 15 | Train AUC: 69.25 | Val AUC: 66.07\n",
      "Epoch: 16 | Train AUC: 69.25 | Val AUC: 66.27\n",
      "Epoch: 17 | Train AUC: 69.62 | Val AUC: 66.15\n",
      "Epoch: 18 | Train AUC: 69.75 | Val AUC: 66.22\n",
      "Epoch: 19 | Train AUC: 69.90 | Val AUC: 66.25\n",
      "Epoch: 20 | Train AUC: 70.08 | Val AUC: 65.80\n",
      "Best epoch: 10 | Train AUC: 68.35 | Val AUC: 66.42\n",
      "\n",
      "Epoch: 1 | Train AUC: 62.84 | Val AUC: 64.21\n",
      "Epoch: 2 | Train AUC: 64.59 | Val AUC: 65.56\n",
      "Epoch: 3 | Train AUC: 65.83 | Val AUC: 66.32\n",
      "Epoch: 4 | Train AUC: 66.63 | Val AUC: 66.67\n",
      "Epoch: 5 | Train AUC: 67.18 | Val AUC: 66.75\n",
      "Epoch: 6 | Train AUC: 67.84 | Val AUC: 66.74\n",
      "Epoch: 7 | Train AUC: 68.13 | Val AUC: 66.64\n",
      "Epoch: 8 | Train AUC: 68.36 | Val AUC: 66.56\n",
      "Epoch: 9 | Train AUC: 68.55 | Val AUC: 66.78\n",
      "Epoch: 10 | Train AUC: 68.73 | Val AUC: 66.37\n",
      "Epoch: 11 | Train AUC: 68.97 | Val AUC: 66.65\n",
      "Epoch: 12 | Train AUC: 69.12 | Val AUC: 66.23\n",
      "Epoch: 13 | Train AUC: 69.24 | Val AUC: 66.29\n",
      "Epoch: 14 | Train AUC: 69.39 | Val AUC: 66.03\n",
      "Epoch: 15 | Train AUC: 69.74 | Val AUC: 66.09\n",
      "Epoch: 16 | Train AUC: 69.81 | Val AUC: 65.96\n",
      "Epoch: 17 | Train AUC: 69.91 | Val AUC: 66.07\n",
      "Epoch: 18 | Train AUC: 69.88 | Val AUC: 66.01\n",
      "Epoch: 19 | Train AUC: 70.18 | Val AUC: 66.10\n",
      "Epoch: 20 | Train AUC: 70.31 | Val AUC: 65.88\n",
      "Best epoch: 9 | Train AUC: 68.55 | Val AUC: 66.78\n",
      "\n",
      "Epoch: 1 | Train AUC: 63.63 | Val AUC: 64.55\n",
      "Epoch: 2 | Train AUC: 65.65 | Val AUC: 65.76\n",
      "Epoch: 3 | Train AUC: 66.19 | Val AUC: 66.40\n",
      "Epoch: 4 | Train AUC: 66.63 | Val AUC: 66.31\n",
      "Epoch: 5 | Train AUC: 67.01 | Val AUC: 66.13\n",
      "Epoch: 6 | Train AUC: 67.27 | Val AUC: 66.41\n",
      "Epoch: 7 | Train AUC: 67.45 | Val AUC: 66.43\n",
      "Epoch: 8 | Train AUC: 67.79 | Val AUC: 66.65\n",
      "Epoch: 9 | Train AUC: 67.96 | Val AUC: 66.64\n",
      "Epoch: 10 | Train AUC: 68.28 | Val AUC: 66.47\n",
      "Epoch: 11 | Train AUC: 68.43 | Val AUC: 66.69\n",
      "Epoch: 12 | Train AUC: 68.63 | Val AUC: 66.68\n",
      "Epoch: 13 | Train AUC: 68.87 | Val AUC: 66.78\n",
      "Epoch: 14 | Train AUC: 69.05 | Val AUC: 66.83\n",
      "Epoch: 15 | Train AUC: 69.23 | Val AUC: 66.69\n",
      "Epoch: 16 | Train AUC: 69.36 | Val AUC: 66.40\n",
      "Epoch: 17 | Train AUC: 69.47 | Val AUC: 66.44\n",
      "Epoch: 18 | Train AUC: 69.59 | Val AUC: 66.53\n",
      "Epoch: 19 | Train AUC: 69.81 | Val AUC: 66.23\n",
      "Epoch: 20 | Train AUC: 69.87 | Val AUC: 66.31\n",
      "Best epoch: 14 | Train AUC: 69.05 | Val AUC: 66.83\n",
      "\n",
      "\n",
      "Train AUC: 69.09 +/- 1.19 | Val AUC: 66.69 +/- 2.39\n",
      "\n",
      "CPU times: user 5min 16s, sys: 3.82 s, total: 5min 19s\n",
      "Wall time: 5min 21s\n"
     ]
    }
   ],
   "source": [
    "%%time\n",
    "USE_CUDA = True\n",
    "y_test, y_pred = test_neuralnet(\n",
    "                train.drop([id_col, target_col], axis=1), \n",
    "                train[target_col], test.drop(id_col, axis=1),\n",
    "                kfolds, cat_cols, num_cols, USE_CUDA)"
   ]
  },
  {
   "cell_type": "code",
   "execution_count": 24,
   "metadata": {},
   "outputs": [],
   "source": [
    "val_results = pd.DataFrame()\n",
    "tst_results = pd.DataFrame()"
   ]
  },
  {
   "cell_type": "code",
   "execution_count": 25,
   "metadata": {},
   "outputs": [],
   "source": [
    "val_results['NeuralNet'] = y_pred\n",
    "tst_results['NeuralNet'] = y_test"
   ]
  },
  {
   "cell_type": "code",
   "execution_count": 26,
   "metadata": {},
   "outputs": [],
   "source": [
    "test[target_col] = y_test\n",
    "submission = pd.read_csv(RAW/'sample_submission_sxfcbdx.csv', low_memory=False)\n",
    "submission = pd.merge(submission[[id_col]], test[[id_col, target_col]], how='left', on=id_col)\n",
    "submission.to_csv(SUBMISSIONS/'29-TunedNN_OOF.csv', index=False)"
   ]
  },
  {
   "cell_type": "markdown",
   "metadata": {},
   "source": [
    "## All dataset"
   ]
  },
  {
   "cell_type": "code",
   "execution_count": 39,
   "metadata": {},
   "outputs": [],
   "source": [
    "from src.neuralnet import StructuredNet, StructuredDataset, train_model, eval_model\n",
    "import torch.nn as nn\n",
    "from torch import optim\n",
    "from torch.utils.data import DataLoader"
   ]
  },
  {
   "cell_type": "code",
   "execution_count": 29,
   "metadata": {},
   "outputs": [],
   "source": [
    "cat_szs = [int(train[col].max() + 1) for col in cat_cols]\n",
    "emb_szs = [(c, min(20, (c+1)//2)) for c in cat_szs]"
   ]
  },
  {
   "cell_type": "code",
   "execution_count": 56,
   "metadata": {},
   "outputs": [],
   "source": [
    "train_dl = DataLoader(StructuredDataset(\n",
    "                        train[cat_cols], train[num_cols], train[target_col]),\n",
    "                        batch_size=32, shuffle=True)\n",
    "test_dl = DataLoader(StructuredDataset(\n",
    "                        test[cat_cols], test[num_cols]),\n",
    "                        batch_size=32)"
   ]
  },
  {
   "cell_type": "code",
   "execution_count": 57,
   "metadata": {},
   "outputs": [],
   "source": [
    "model = StructuredNet(emb_szs, n_cont=len(num_cols), emb_drop=0.4,\n",
    "                      szs=[300,100], drops=[0.5, 0.5])\n",
    "if USE_CUDA: model = model.cuda()\n",
    "optimizer = optim.Adam(model.parameters(), lr=3e-4)\n",
    "criterion = nn.BCEWithLogitsLoss()"
   ]
  },
  {
   "cell_type": "code",
   "execution_count": 58,
   "metadata": {},
   "outputs": [
    {
     "name": "stdout",
     "output_type": "stream",
     "text": [
      "Epoch: 1 | Train AUC: 64.36\n",
      "Epoch: 2 | Train AUC: 66.08\n",
      "Epoch: 3 | Train AUC: 66.43\n",
      "Epoch: 4 | Train AUC: 66.85\n",
      "Epoch: 5 | Train AUC: 67.16\n",
      "Epoch: 6 | Train AUC: 67.46\n",
      "Epoch: 7 | Train AUC: 67.71\n",
      "Epoch: 8 | Train AUC: 67.87\n",
      "Epoch: 9 | Train AUC: 68.23\n",
      "Epoch: 10 | Train AUC: 68.31\n",
      "Epoch: 11 | Train AUC: 68.64\n",
      "Epoch: 12 | Train AUC: 68.82\n",
      "Epoch: 13 | Train AUC: 68.87\n",
      "Epoch: 14 | Train AUC: 69.05\n",
      "Epoch: 15 | Train AUC: 69.28\n",
      "Epoch: 16 | Train AUC: 69.44\n",
      "Epoch: 17 | Train AUC: 69.59\n",
      "Epoch: 18 | Train AUC: 69.77\n",
      "Epoch: 19 | Train AUC: 69.99\n",
      "Epoch: 20 | Train AUC: 70.03\n",
      "CPU times: user 1min 18s, sys: 928 ms, total: 1min 19s\n",
      "Wall time: 1min 22s\n"
     ]
    },
    {
     "data": {
      "text/plain": [
       "20"
      ]
     },
     "execution_count": 58,
     "metadata": {},
     "output_type": "execute_result"
    }
   ],
   "source": [
    "%%time\n",
    "train_model(model, train_dl, None, optimizer, criterion,\n",
    "                    n_epochs=20, USE_CUDA=USE_CUDA)"
   ]
  },
  {
   "cell_type": "code",
   "execution_count": 59,
   "metadata": {},
   "outputs": [],
   "source": [
    "_, y_tst_pred = eval_model(model, test_dl, USE_CUDA=USE_CUDA)"
   ]
  },
  {
   "cell_type": "code",
   "execution_count": 45,
   "metadata": {},
   "outputs": [],
   "source": [
    "test[target_col] = y_tst_pred\n",
    "submission = pd.read_csv(RAW/'sample_submission_sxfcbdx.csv', low_memory=False)\n",
    "submission = pd.merge(submission[[id_col]], test[[id_col, target_col]], how='left', on=id_col)\n",
    "submission.to_csv(SUBMISSIONS/'30-TunedNN_AllDataset.csv', index=False)"
   ]
  },
  {
   "cell_type": "code",
   "execution_count": 50,
   "metadata": {},
   "outputs": [],
   "source": [
    "test[target_col] = y_tst_pred\n",
    "submission = pd.read_csv(RAW/'sample_submission_sxfcbdx.csv', low_memory=False)\n",
    "submission = pd.merge(submission[[id_col]], test[[id_col, target_col]], how='left', on=id_col)\n",
    "submission.to_csv(SUBMISSIONS/'31-TunedNN_AllDataset_15epochs.csv', index=False)"
   ]
  },
  {
   "cell_type": "code",
   "execution_count": 55,
   "metadata": {},
   "outputs": [],
   "source": [
    "test[target_col] = y_tst_pred\n",
    "submission = pd.read_csv(RAW/'sample_submission_sxfcbdx.csv', low_memory=False)\n",
    "submission = pd.merge(submission[[id_col]], test[[id_col, target_col]], how='left', on=id_col)\n",
    "submission.to_csv(SUBMISSIONS/'32-TunedNN_AllDataset_10epochs.csv', index=False)"
   ]
  },
  {
   "cell_type": "code",
   "execution_count": 60,
   "metadata": {},
   "outputs": [],
   "source": [
    "test[target_col] = y_tst_pred\n",
    "submission = pd.read_csv(RAW/'sample_submission_sxfcbdx.csv', low_memory=False)\n",
    "submission = pd.merge(submission[[id_col]], test[[id_col, target_col]], how='left', on=id_col)\n",
    "submission.to_csv(SUBMISSIONS/'33-TunedNN_AllDataset_20epochs.csv', index=False)"
   ]
  },
  {
   "cell_type": "markdown",
   "metadata": {},
   "source": [
    "## Extract embeddings"
   ]
  },
  {
   "cell_type": "code",
   "execution_count": 74,
   "metadata": {},
   "outputs": [],
   "source": [
    "emb_weights = {c: emb.weight.cpu().detach().numpy() for c, emb in zip(cat_cols, model.embs)}"
   ]
  },
  {
   "cell_type": "code",
   "execution_count": 78,
   "metadata": {},
   "outputs": [],
   "source": [
    "for col in cat_cols:\n",
    "    train[col] = train[col].astype(int)\n",
    "    test[col] = test[col].astype(int)"
   ]
  },
  {
   "cell_type": "code",
   "execution_count": 86,
   "metadata": {},
   "outputs": [],
   "source": [
    "X_train = np.hstack([[emb_weights[col][cat] for cat in train[col]] \\\n",
    "                     for col in cat_cols])\n",
    "X_train = np.hstack([X_train, train[num_cols]])"
   ]
  },
  {
   "cell_type": "code",
   "execution_count": 89,
   "metadata": {},
   "outputs": [],
   "source": [
    "X_test = np.hstack([[emb_weights[col][cat] for cat in test[col]] \\\n",
    "                     for col in cat_cols])\n",
    "X_test = np.hstack([X_test, test[num_cols]])"
   ]
  },
  {
   "cell_type": "code",
   "execution_count": 90,
   "metadata": {},
   "outputs": [
    {
     "data": {
      "text/plain": [
       "((18359, 64), (15021, 64))"
      ]
     },
     "execution_count": 90,
     "metadata": {},
     "output_type": "execute_result"
    }
   ],
   "source": [
    "X_train.shape, X_test.shape"
   ]
  },
  {
   "cell_type": "markdown",
   "metadata": {},
   "source": [
    "## LightGBM"
   ]
  },
  {
   "cell_type": "code",
   "execution_count": 91,
   "metadata": {},
   "outputs": [],
   "source": [
    "from src.utils import eval_lgbm, print_results\n",
    "import lightgbm as lgbm"
   ]
  },
  {
   "cell_type": "code",
   "execution_count": 99,
   "metadata": {},
   "outputs": [
    {
     "name": "stdout",
     "output_type": "stream",
     "text": [
      "No. estimators: 12 | Train AUC: 71.22 | Val AUC: 68.81\n",
      "No. estimators: 21 | Train AUC: 74.26 | Val AUC: 64.55\n",
      "No. estimators: 20 | Train AUC: 73.51 | Val AUC: 67.01\n",
      "No. estimators: 85 | Train AUC: 81.79 | Val AUC: 66.68\n",
      "No. estimators: 42 | Train AUC: 77.81 | Val AUC: 67.49\n",
      "\n",
      "CPU times: user 5.92 s, sys: 56 ms, total: 5.98 s\n",
      "Wall time: 1.66 s\n"
     ]
    }
   ],
   "source": [
    "%%time\n",
    "# LGBMClassifier(n_estimators=1000, random_state=42, max_depth=5)\n",
    "trn_aucs, val_aucs = eval_lgbm(lgbm, pd.DataFrame(X_train),\n",
    "                     train[target_col], kfolds, 'auto')"
   ]
  },
  {
   "cell_type": "code",
   "execution_count": 94,
   "metadata": {},
   "outputs": [
    {
     "name": "stdout",
     "output_type": "stream",
     "text": [
      "Train AUC: 75.72 +/- 7.40 | Val AUC: 66.91 +/- 2.76\n"
     ]
    }
   ],
   "source": [
    "# max_depth 5\n",
    "print_results(trn_aucs, val_aucs)"
   ]
  },
  {
   "cell_type": "code",
   "execution_count": 101,
   "metadata": {},
   "outputs": [],
   "source": [
    "from sklearn.decomposition import PCA"
   ]
  },
  {
   "cell_type": "code",
   "execution_count": 102,
   "metadata": {},
   "outputs": [
    {
     "data": {
      "text/plain": [
       "[<matplotlib.lines.Line2D at 0x7fa4c9be20b8>]"
      ]
     },
     "execution_count": 102,
     "metadata": {},
     "output_type": "execute_result"
    },
    {
     "data": {
      "image/png": "[encoded data removed]",
      "text/plain": [
       "<matplotlib.figure.Figure at 0x7fa4ca081518>"
      ]
     },
     "metadata": {
      "image/png": {
       "height": 254,
       "width": 379
      }
     },
     "output_type": "display_data"
    }
   ],
   "source": [
    "pca = PCA().fit(np.vstack([X_train, X_test]))\n",
    "plt.plot(np.cumsum(pca.explained_variance_ratio_))"
   ]
  },
  {
   "cell_type": "code",
   "execution_count": 133,
   "metadata": {},
   "outputs": [],
   "source": [
    "train_pca = pca.transform(X_train)[:,:21]\n",
    "test_pca  = pca.transform(X_test)[:,:21]"
   ]
  },
  {
   "cell_type": "code",
   "execution_count": 134,
   "metadata": {},
   "outputs": [
    {
     "name": "stdout",
     "output_type": "stream",
     "text": [
      "No. estimators: 36 | Train AUC: 79.33 | Val AUC: 69.37\n",
      "No. estimators: 86 | Train AUC: 85.35 | Val AUC: 65.56\n",
      "No. estimators: 24 | Train AUC: 76.50 | Val AUC: 65.72\n",
      "No. estimators: 21 | Train AUC: 76.00 | Val AUC: 67.54\n",
      "No. estimators: 39 | Train AUC: 78.98 | Val AUC: 67.97\n",
      "\n",
      "CPU times: user 3.81 s, sys: 28 ms, total: 3.84 s\n",
      "Wall time: 845 ms\n"
     ]
    }
   ],
   "source": [
    "%%time\n",
    "trn_aucs, val_aucs = eval_lgbm(lgbm, pd.DataFrame(train_pca),\n",
    "                     train[target_col], kfolds, 'auto')"
   ]
  },
  {
   "cell_type": "code",
   "execution_count": 135,
   "metadata": {},
   "outputs": [
    {
     "name": "stdout",
     "output_type": "stream",
     "text": [
      "Train AUC: 79.23 +/- 6.66 | Val AUC: 67.23 +/- 2.87\n"
     ]
    }
   ],
   "source": [
    "# max_depth 5 | 21 PCA components\n",
    "print_results(trn_aucs, val_aucs)"
   ]
  },
  {
   "cell_type": "code",
   "execution_count": 114,
   "metadata": {},
   "outputs": [
    {
     "name": "stdout",
     "output_type": "stream",
     "text": [
      "Train AUC: 77.23 +/- 3.54 | Val AUC: 67.22 +/- 2.84\n"
     ]
    }
   ],
   "source": [
    "# max_depth 5 | 20 PCA components\n",
    "print_results(trn_aucs, val_aucs)"
   ]
  },
  {
   "cell_type": "code",
   "execution_count": 111,
   "metadata": {},
   "outputs": [
    {
     "name": "stdout",
     "output_type": "stream",
     "text": [
      "Train AUC: 80.57 +/- 2.43 | Val AUC: 67.05 +/- 2.72\n"
     ]
    }
   ],
   "source": [
    "# max_depth 5 | 30 PCA components\n",
    "print_results(trn_aucs, val_aucs)"
   ]
  },
  {
   "cell_type": "code",
   "execution_count": 108,
   "metadata": {},
   "outputs": [
    {
     "name": "stdout",
     "output_type": "stream",
     "text": [
      "Train AUC: 82.12 +/- 3.40 | Val AUC: 66.98 +/- 2.62\n"
     ]
    }
   ],
   "source": [
    "# max_depth 5 | 40 PCA components\n",
    "print_results(trn_aucs, val_aucs)"
   ]
  },
  {
   "cell_type": "markdown",
   "metadata": {},
   "source": [
    "## Test LightGBM"
   ]
  },
  {
   "cell_type": "code",
   "execution_count": 136,
   "metadata": {},
   "outputs": [],
   "source": [
    "from src.oofpredictions import test_lgbm"
   ]
  },
  {
   "cell_type": "code",
   "execution_count": 138,
   "metadata": {},
   "outputs": [
    {
     "name": "stdout",
     "output_type": "stream",
     "text": [
      "No. estimators: 36 | Train AUC: 79.33 | Val AUC: 69.37\n",
      "No. estimators: 86 | Train AUC: 85.35 | Val AUC: 65.56\n",
      "No. estimators: 24 | Train AUC: 76.50 | Val AUC: 65.72\n",
      "No. estimators: 21 | Train AUC: 76.00 | Val AUC: 67.54\n",
      "No. estimators: 39 | Train AUC: 78.98 | Val AUC: 67.97\n",
      "\n",
      "Train AUC: 79.23 +/- 6.66 | Val AUC: 67.23 +/- 2.87\n",
      "\n",
      "CPU times: user 5.33 s, sys: 32 ms, total: 5.36 s\n",
      "Wall time: 1.55 s\n"
     ]
    }
   ],
   "source": [
    "%%time\n",
    "y_test, y_pred = test_lgbm(lgbm,\n",
    "                    pd.DataFrame(train_pca), \n",
    "                    train[target_col], pd.DataFrame(test_pca),\n",
    "                    kfolds, 'auto')"
   ]
  },
  {
   "cell_type": "code",
   "execution_count": 139,
   "metadata": {},
   "outputs": [],
   "source": [
    "val_results['LGBM'] = y_pred\n",
    "tst_results['LGBM'] = y_test"
   ]
  },
  {
   "cell_type": "code",
   "execution_count": 141,
   "metadata": {},
   "outputs": [],
   "source": [
    "test[target_col] = y_test\n",
    "submission = pd.read_csv(RAW/'sample_submission_sxfcbdx.csv', low_memory=False)\n",
    "submission = pd.merge(submission[[id_col]], test[[id_col, target_col]], how='left', on=id_col)\n",
    "submission.to_csv(SUBMISSIONS/'34-PCA_LGBM_23c.csv', index=False)"
   ]
  },
  {
   "cell_type": "markdown",
   "metadata": {},
   "source": [
    "## Test CatBoost"
   ]
  },
  {
   "cell_type": "code",
   "execution_count": 143,
   "metadata": {},
   "outputs": [],
   "source": [
    "from src.utils import eval_catboost\n",
    "from catboost import CatBoostClassifier"
   ]
  },
  {
   "cell_type": "code",
   "execution_count": 144,
   "metadata": {},
   "outputs": [],
   "source": [
    "model = CatBoostClassifier()"
   ]
  },
  {
   "cell_type": "code",
   "execution_count": 145,
   "metadata": {},
   "outputs": [
    {
     "name": "stdout",
     "output_type": "stream",
     "text": [
      "No. estimators: 110 | Train AUC: 75.04 | Val AUC: 69.67\n",
      "No. estimators: 134 | Train AUC: 76.15 | Val AUC: 66.00\n",
      "No. estimators: 135 | Train AUC: 76.32 | Val AUC: 66.61\n",
      "No. estimators: 104 | Train AUC: 74.80 | Val AUC: 66.85\n",
      "No. estimators: 265 | Train AUC: 80.52 | Val AUC: 68.65\n",
      "\n",
      "CPU times: user 4min 39s, sys: 26.8 s, total: 5min 6s\n",
      "Wall time: 35.1 s\n"
     ]
    }
   ],
   "source": [
    "%%time\n",
    "trn_aucs, val_aucs = eval_catboost(CatBoostClassifier(iterations=1000, \n",
    "                        random_seed=42, eval_metric='AUC', od_pval=1e-3,\n",
    "                        depth=7),\n",
    "                    pd.DataFrame(train_pca), \n",
    "                    train[target_col], kfolds, None)"
   ]
  },
  {
   "cell_type": "code",
   "execution_count": 146,
   "metadata": {},
   "outputs": [
    {
     "name": "stdout",
     "output_type": "stream",
     "text": [
      "Train AUC: 76.57 +/- 4.13 | Val AUC: 67.56 +/- 2.75\n"
     ]
    }
   ],
   "source": [
    "# n_estimators 1000 | max_depth 7\n",
    "print_results(trn_aucs, val_aucs)"
   ]
  },
  {
   "cell_type": "code",
   "execution_count": 147,
   "metadata": {},
   "outputs": [],
   "source": [
    "from src.oofpredictions import test_catboost"
   ]
  },
  {
   "cell_type": "code",
   "execution_count": 149,
   "metadata": {},
   "outputs": [
    {
     "name": "stdout",
     "output_type": "stream",
     "text": [
      "No. estimators: 110 | Train AUC: 75.04 | Val AUC: 69.67\n",
      "No. estimators: 134 | Train AUC: 76.15 | Val AUC: 66.00\n",
      "No. estimators: 135 | Train AUC: 76.32 | Val AUC: 66.61\n",
      "No. estimators: 104 | Train AUC: 74.80 | Val AUC: 66.85\n",
      "No. estimators: 265 | Train AUC: 80.52 | Val AUC: 68.65\n",
      "\n",
      "Train AUC: 76.57 +/- 4.13 | Val AUC: 67.56 +/- 2.75\n",
      "\n",
      "CPU times: user 4min 37s, sys: 25.1 s, total: 5min 2s\n",
      "Wall time: 34.6 s\n"
     ]
    }
   ],
   "source": [
    "%%time\n",
    "y_test, y_pred = test_catboost(CatBoostClassifier(iterations=1000, \n",
    "                        random_seed=42, eval_metric='AUC', od_pval=1e-3,\n",
    "                        depth=7),\n",
    "                    pd.DataFrame(train_pca), \n",
    "                    train[target_col], pd.DataFrame(test_pca),\n",
    "                    kfolds, None)"
   ]
  },
  {
   "cell_type": "code",
   "execution_count": 150,
   "metadata": {},
   "outputs": [],
   "source": [
    "val_results['CatBoost'] = y_pred\n",
    "tst_results['CatBoost'] = y_test"
   ]
  },
  {
   "cell_type": "code",
   "execution_count": 151,
   "metadata": {},
   "outputs": [],
   "source": [
    "test[target_col] = y_test\n",
    "submission = pd.read_csv(RAW/'sample_submission_sxfcbdx.csv', low_memory=False)\n",
    "submission = pd.merge(submission[[id_col]], test[[id_col, target_col]], how='left', on=id_col)\n",
    "submission.to_csv(SUBMISSIONS/'35-PCA_CatBoost_23c.csv', index=False)"
   ]
  },
  {
   "cell_type": "code",
   "execution_count": null,
   "metadata": {},
   "outputs": [],
   "source": []
  }
 ],
 "metadata": {
  "kernelspec": {
   "display_name": "Python 3",
   "language": "python",
   "name": "python3"
  },
  "language_info": {
   "codemirror_mode": {
    "name": "ipython",
    "version": 3
   },
   "file_extension": ".py",
   "mimetype": "text/x-python",
   "name": "python",
   "nbconvert_exporter": "python",
   "pygments_lexer": "ipython3",
   "version": "3.6.4"
  }
 },
 "nbformat": 4,
 "nbformat_minor": 2
}
