{
 "cells": [
  {
   "cell_type": "code",
   "execution_count": 1,
   "metadata": {},
   "outputs": [],
   "source": [
    "%load_ext autoreload\n",
    "%autoreload 2\n",
    "%matplotlib inline\n",
    "%config InlineBackend.figure_format = 'retina'\n",
    "\n",
    "import os\n",
    "import numpy as np, pandas as pd\n",
    "import matplotlib.pyplot as plt, seaborn as sns\n",
    "from tqdm import tqdm, tqdm_notebook\n",
    "from pathlib import Path\n",
    "# pd.set_option('display.max_columns', 1000)\n",
    "# pd.set_option('display.max_rows', 400)\n",
    "sns.set()\n",
    "\n",
    "os.chdir('..')"
   ]
  },
  {
   "cell_type": "code",
   "execution_count": 2,
   "metadata": {},
   "outputs": [],
   "source": [
    "DATA = Path('data')\n",
    "RAW  = DATA/'raw'\n",
    "SUBMISSIONS = DATA/'submissions'"
   ]
  },
  {
   "cell_type": "code",
   "execution_count": 3,
   "metadata": {},
   "outputs": [],
   "source": [
    "train      = pd.read_csv(RAW/'train_jqd04QH.csv', low_memory=False)\n",
    "test       = pd.read_csv(RAW/'test_GYi4Gz5.csv', low_memory=False)\n",
    "submission = pd.read_csv(RAW/'sample_submission_sxfcbdx.csv', low_memory=False)"
   ]
  },
  {
   "cell_type": "code",
   "execution_count": 4,
   "metadata": {},
   "outputs": [],
   "source": [
    "id_col = 'enrollee_id'\n",
    "cat_cols = ['city', 'gender', 'relevent_experience', 'enrolled_university', \n",
    "            'education_level', 'major_discipline', 'experience', 'company_size', \n",
    "            'company_type', 'last_new_job']\n",
    "num_cols = ['city_development_index', 'training_hours']\n",
    "target_col = 'target'"
   ]
  },
  {
   "cell_type": "code",
   "execution_count": 5,
   "metadata": {},
   "outputs": [],
   "source": [
    "def get_dict(labels):\n",
    "    return {label: idx for idx, label in enumerate(labels)}"
   ]
  },
  {
   "cell_type": "code",
   "execution_count": 6,
   "metadata": {},
   "outputs": [],
   "source": [
    "labels = {\n",
    "    'enrolled_university': get_dict(['no_enrollment', 'Part time course',\n",
    "                                     'Full time course']),\n",
    "    'education_level': get_dict(['Primary School', 'High School', \n",
    "                                 'Graduate', 'Masters', 'Phd']),\n",
    "    'experience': get_dict(['<1'] + [str(x) for x in range(1,21)] + ['>20']),\n",
    "    'company_size': get_dict(['<10', '10/49', '50-99', '100-500', '500-999', \n",
    "                              '1000-4999', '5000-9999', '10000+']),\n",
    "    'last_new_job': get_dict([str(x) for x in range(1,5)] + ['>4', 'never'])\n",
    "}"
   ]
  },
  {
   "cell_type": "code",
   "execution_count": 7,
   "metadata": {},
   "outputs": [],
   "source": [
    "for col in labels:\n",
    "    train[col] = train[col].map(labels[col])\n",
    "    test[col] = test[col].map(labels[col])"
   ]
  },
  {
   "cell_type": "code",
   "execution_count": 8,
   "metadata": {},
   "outputs": [],
   "source": [
    "from src.utils import to_cat_codes, apply_cats\n",
    "to_cat_codes(train, [c for c in cat_cols if c not in labels])\n",
    "apply_cats(test, train)\n",
    "for col in cat_cols: \n",
    "    if col not in labels:\n",
    "        train[col] = train[col].cat.codes\n",
    "        test[col] = test[col].cat.codes"
   ]
  },
  {
   "cell_type": "markdown",
   "metadata": {},
   "source": [
    "## Nan cols"
   ]
  },
  {
   "cell_type": "code",
   "execution_count": 9,
   "metadata": {},
   "outputs": [],
   "source": [
    "train.fillna(-1, inplace=True)\n",
    "test.fillna(-1, inplace=True)"
   ]
  },
  {
   "cell_type": "code",
   "execution_count": 10,
   "metadata": {},
   "outputs": [],
   "source": [
    "nan_cols = [c for c in cat_cols if \\\n",
    "            any(df[c].min() < 0 for df in [train, test])]"
   ]
  },
  {
   "cell_type": "code",
   "execution_count": 11,
   "metadata": {},
   "outputs": [],
   "source": [
    "for c in nan_cols:\n",
    "    train[c] = train[c] + 1\n",
    "    test[c] = test[c] + 1"
   ]
  },
  {
   "cell_type": "markdown",
   "metadata": {},
   "source": [
    "## Num features"
   ]
  },
  {
   "cell_type": "code",
   "execution_count": 12,
   "metadata": {},
   "outputs": [],
   "source": [
    "for col in labels:\n",
    "    train[f'{col}_num'] = train[col]\n",
    "    test[f'{col}_num'] = test[col]\n",
    "    num_cols.append(f'{col}_num')"
   ]
  },
  {
   "cell_type": "code",
   "execution_count": 13,
   "metadata": {},
   "outputs": [
    {
     "data": {
      "text/plain": [
       "['city_development_index',\n",
       " 'training_hours',\n",
       " 'enrolled_university_num',\n",
       " 'education_level_num',\n",
       " 'experience_num',\n",
       " 'company_size_num',\n",
       " 'last_new_job_num']"
      ]
     },
     "execution_count": 13,
     "metadata": {},
     "output_type": "execute_result"
    }
   ],
   "source": [
    "num_cols"
   ]
  },
  {
   "cell_type": "code",
   "execution_count": 14,
   "metadata": {},
   "outputs": [
    {
     "data": {
      "text/plain": [
       "['city',\n",
       " 'gender',\n",
       " 'relevent_experience',\n",
       " 'enrolled_university',\n",
       " 'education_level',\n",
       " 'major_discipline',\n",
       " 'experience',\n",
       " 'company_size',\n",
       " 'company_type',\n",
       " 'last_new_job']"
      ]
     },
     "execution_count": 14,
     "metadata": {},
     "output_type": "execute_result"
    }
   ],
   "source": [
    "cat_cols"
   ]
  },
  {
   "cell_type": "code",
   "execution_count": 15,
   "metadata": {},
   "outputs": [],
   "source": [
    "from sklearn.preprocessing import StandardScaler\n",
    "scaler = StandardScaler().fit(pd.concat([train[num_cols], \n",
    "                                         test[num_cols]]))"
   ]
  },
  {
   "cell_type": "code",
   "execution_count": 16,
   "metadata": {},
   "outputs": [],
   "source": [
    "def scale_features(df, scaler, num_cols):\n",
    "    scaled = scaler.transform(df[num_cols])\n",
    "    for i, col in enumerate(num_cols):\n",
    "        df[col] = scaled[:,i]"
   ]
  },
  {
   "cell_type": "code",
   "execution_count": 17,
   "metadata": {},
   "outputs": [],
   "source": [
    "scale_features(train, scaler, num_cols)\n",
    "scale_features(test, scaler, num_cols)"
   ]
  },
  {
   "cell_type": "markdown",
   "metadata": {},
   "source": [
    "## Validation split"
   ]
  },
  {
   "cell_type": "code",
   "execution_count": 18,
   "metadata": {},
   "outputs": [],
   "source": [
    "from catboost import CatBoostClassifier\n",
    "from sklearn.model_selection import StratifiedKFold\n",
    "from sklearn.metrics import roc_auc_score"
   ]
  },
  {
   "cell_type": "code",
   "execution_count": 19,
   "metadata": {},
   "outputs": [],
   "source": [
    "kfolds = StratifiedKFold(n_splits=5, random_state=42)\n",
    "trn_idx, val_idx = next(kfolds.split(train, train[target_col]))"
   ]
  },
  {
   "cell_type": "code",
   "execution_count": 20,
   "metadata": {},
   "outputs": [
    {
     "data": {
      "text/plain": [
       "(14687, 3672)"
      ]
     },
     "execution_count": 20,
     "metadata": {},
     "output_type": "execute_result"
    }
   ],
   "source": [
    "len(trn_idx), len(val_idx)"
   ]
  },
  {
   "cell_type": "code",
   "execution_count": 21,
   "metadata": {},
   "outputs": [],
   "source": [
    "X_trn, y_trn = train.drop([id_col, target_col], axis=1), train[target_col]"
   ]
  },
  {
   "cell_type": "code",
   "execution_count": 22,
   "metadata": {},
   "outputs": [],
   "source": [
    "X_val, y_val = X_trn.iloc[val_idx], y_trn.iloc[val_idx]\n",
    "X_trn, y_trn = X_trn.iloc[trn_idx], y_trn.iloc[trn_idx]"
   ]
  },
  {
   "cell_type": "code",
   "execution_count": 98,
   "metadata": {},
   "outputs": [],
   "source": [
    "X_tst = test.drop(id_col, axis=1)"
   ]
  },
  {
   "cell_type": "markdown",
   "metadata": {},
   "source": [
    "## Catboost"
   ]
  },
  {
   "cell_type": "code",
   "execution_count": 37,
   "metadata": {},
   "outputs": [],
   "source": [
    "columns = list(train.drop([id_col, target_col], axis=1))\n",
    "cat_indices = [i for i, col in enumerate(columns) if col in cat_cols]"
   ]
  },
  {
   "cell_type": "code",
   "execution_count": 53,
   "metadata": {},
   "outputs": [
    {
     "name": "stdout",
     "output_type": "stream",
     "text": [
      "Learning rate set to 0.278847\n",
      "0.6882557684407338\n",
      "CPU times: user 17.6 s, sys: 2 s, total: 19.6 s\n",
      "Wall time: 5.24 s\n"
     ]
    }
   ],
   "source": [
    "%%time\n",
    "model = CatBoostClassifier(iterations=100, od_pval=0.001, \n",
    "                           eval_metric='AUC', random_seed=42)\n",
    "model.fit(X_trn, y_trn, cat_features=cat_indices, verbose=False)\n",
    "y_pred = model.predict_proba(X_val)[:,1]\n",
    "print(roc_auc_score(y_val, y_pred))"
   ]
  },
  {
   "cell_type": "markdown",
   "metadata": {},
   "source": [
    "## Data Loader"
   ]
  },
  {
   "cell_type": "code",
   "execution_count": 23,
   "metadata": {},
   "outputs": [],
   "source": [
    "import torch.utils.data\n",
    "from torch.utils.data import DataLoader, Dataset"
   ]
  },
  {
   "cell_type": "code",
   "execution_count": 24,
   "metadata": {},
   "outputs": [],
   "source": [
    "class StructuredDataset(Dataset):\n",
    "    def __init__(self, cats, conts, targets=None):\n",
    "        self.cats = cats.values.astype(np.int64)\n",
    "        self.conts = conts.values.astype(np.float32)\n",
    "        self.targets = np.array(targets).astype(np.float32) \\\n",
    "                          if targets is not None else \\\n",
    "                          np.zeros(len(cats)).astype(np.float32)\n",
    "    \n",
    "    def __len__(self):\n",
    "        return len(self.cats)\n",
    "    \n",
    "    def __getitem__(self, idx):\n",
    "        return [self.cats[idx], self.conts[idx], self.targets[idx]]"
   ]
  },
  {
   "cell_type": "code",
   "execution_count": 26,
   "metadata": {},
   "outputs": [],
   "source": [
    "cat_szs = [int(train[col].max() + 1) for col in cat_cols]\n",
    "emb_szs = [(c, min(50, (c+1)//2)) for c in cat_szs]"
   ]
  },
  {
   "cell_type": "code",
   "execution_count": 27,
   "metadata": {},
   "outputs": [
    {
     "data": {
      "text/plain": [
       "{'city': (123, 50),\n",
       " 'gender': (4, 2),\n",
       " 'relevent_experience': (2, 1),\n",
       " 'enrolled_university': (4, 2),\n",
       " 'education_level': (6, 3),\n",
       " 'major_discipline': (7, 4),\n",
       " 'experience': (23, 12),\n",
       " 'company_size': (9, 5),\n",
       " 'company_type': (7, 4),\n",
       " 'last_new_job': (7, 4)}"
      ]
     },
     "execution_count": 27,
     "metadata": {},
     "output_type": "execute_result"
    }
   ],
   "source": [
    "{c: emb_sz for c, emb_sz in zip(cat_cols, emb_szs)}"
   ]
  },
  {
   "cell_type": "markdown",
   "metadata": {},
   "source": [
    "## Model"
   ]
  },
  {
   "cell_type": "code",
   "execution_count": 28,
   "metadata": {},
   "outputs": [],
   "source": [
    "import torch\n",
    "import torch.nn as nn\n",
    "import torch.nn.functional as F\n",
    "from torch import optim"
   ]
  },
  {
   "cell_type": "code",
   "execution_count": 32,
   "metadata": {},
   "outputs": [],
   "source": [
    "class StructuredNet(nn.Module):\n",
    "    def __init__(self, emb_szs, n_cont, emb_drop, szs, drops):\n",
    "        super().__init__()\n",
    "        self.embs = nn.ModuleList([\n",
    "            nn.Embedding(c, s) for c,s in emb_szs\n",
    "        ])\n",
    "        for emb in self.embs:\n",
    "            self.emb_init(emb)\n",
    "        n_emb = sum(e.embedding_dim for e in self.embs)\n",
    "        self.n_emb, self.n_cont = n_emb, n_cont\n",
    "        szs = [n_emb + n_cont] + szs\n",
    "        self.lins = nn.ModuleList([\n",
    "            nn.Linear(szs[i], szs[i+1]) for i in range(len(szs)-1)\n",
    "        ])\n",
    "        for o in self.lins:\n",
    "            nn.init.kaiming_normal_(o.weight.data)\n",
    "        self.bns = nn.ModuleList([\n",
    "            nn.BatchNorm1d(sz) for sz in szs[1:]\n",
    "        ])\n",
    "        self.outp = nn.Linear(szs[-1], 1)\n",
    "        nn.init.kaiming_normal_(self.outp.weight.data)\n",
    "        self.emb_drop = nn.Dropout(emb_drop)\n",
    "        self.drops = nn.ModuleList([\n",
    "            nn.Dropout(drop) for drop in drops\n",
    "        ])\n",
    "        self.bn = nn.BatchNorm1d(n_cont)\n",
    "        \n",
    "    def forward(self, x_cat, x_cont):\n",
    "        x = [emb(x_cat[:,i]) for i,emb in enumerate(self.embs)]\n",
    "        x = torch.cat(x, 1)\n",
    "        x = self.emb_drop(x)\n",
    "        x2 = self.bn(x_cont)\n",
    "        x = torch.cat([x, x2], 1) if self.n_emb != 0 else x2\n",
    "        for lin, drop, bn in zip(self.lins, self.drops, self.bns):\n",
    "            x = F.relu(lin(x))\n",
    "            x = bn(x)\n",
    "            x = drop(x)\n",
    "        return self.outp(x)\n",
    "    \n",
    "    def emb_init(self, x):\n",
    "        x = x.weight.data\n",
    "        sc = 2 / (x.size(1) + 1)\n",
    "        x.uniform_(-sc, sc)"
   ]
  },
  {
   "cell_type": "code",
   "execution_count": 97,
   "metadata": {},
   "outputs": [],
   "source": [
    "def train_step(model, cats, conts, targets, optimizer, criterion):\n",
    "    model.train()\n",
    "    optimizer.zero_grad()\n",
    "    preds = model(cats, conts)\n",
    "    loss = criterion(preds.view(-1), targets)\n",
    "    loss.backward()\n",
    "    optimizer.step()\n",
    "    return loss.item()\n",
    "\n",
    "def get_predictions(model, data_loader, print_every=800, USE_CUDA=False):\n",
    "    targets, preds = [], []\n",
    "    model.eval()\n",
    "    for batch_idx, (cats, conts, target) in enumerate(data_loader):\n",
    "        with torch.no_grad():\n",
    "            if USE_CUDA:\n",
    "                cats, conts, target = cats.cuda(), conts.cuda(), target.cuda()\n",
    "            pred = model(cats, conts)\n",
    "            targets.extend(target.cpu())\n",
    "            preds.extend(pred.cpu())\n",
    "            assert len(targets) == len(preds)\n",
    "            if batch_idx > 0 and batch_idx % print_every == 0:\n",
    "                print('[{}/{} ({:.0f}%)]'.format(\n",
    "                        batch_idx * len(cats), len(data_loader.dataset),\n",
    "                        100. * batch_idx / len(data_loader)))\n",
    "    return [x.item() for x in targets], [F.sigmoid(x).item() for x in preds]\n",
    "\n",
    "def get_metrics(model, data_loader, USE_CUDA=False):\n",
    "    targets, preds = get_predictions(model, data_loader, USE_CUDA=USE_CUDA)\n",
    "    loss = nn.BCELoss()(torch.Tensor(preds), torch.Tensor(targets)).item()\n",
    "    auc = roc_auc_score(targets, preds)\n",
    "    return loss, auc\n",
    "\n",
    "def train_model(model, train_loader, val_loader, optimizer, criterion,\n",
    "                n_epochs, print_every=200, val_every=5, USE_CUDA=False):\n",
    "    if USE_CUDA:\n",
    "        model = model.cuda()\n",
    "    train_losses = []\n",
    "    val_losses = []\n",
    "    val_auc_scores = []\n",
    "    val_every *= print_every\n",
    "    for epoch in range(n_epochs):\n",
    "        train_loss = 0\n",
    "        for batch_idx, (cats, conts, target) in enumerate(train_loader):\n",
    "            if USE_CUDA:\n",
    "                cats, conts, target = cats.cuda(), conts.cuda(), target.cuda()\n",
    "            train_loss += train_step(model, cats, conts, target, optimizer, criterion)\n",
    "            \n",
    "            if batch_idx > 0 and batch_idx % print_every == 0:\n",
    "                train_loss /= print_every\n",
    "                print('Train Epoch: {} [{}/{} ({:.0f}%)]\\tLoss: {:.6f}'.format(\n",
    "                        epoch + 1, batch_idx * len(cats), len(train_loader.dataset),\n",
    "                        100. * batch_idx / len(train_loader), train_loss))\n",
    "                train_losses.append(train_loss)\n",
    "                train_loss = 0\n",
    "            \n",
    "            if val_loader is not None and batch_idx > 0 and batch_idx % val_every == 0:\n",
    "                val_loss, val_auc = get_metrics(model, val_loader, USE_CUDA)\n",
    "                val_losses.append(val_loss)\n",
    "                val_auc_scores.append(val_auc)\n",
    "                print(f'ROC AUC Score: {val_auc:.6f}') \n",
    "                print(f'Validation Loss: {val_loss:.6f}')\n",
    "        \n",
    "        if val_loader is not None:\n",
    "            print('Epoch Results:')\n",
    "            train_loss, train_auc = get_metrics(model, train_loader, USE_CUDA)\n",
    "            print(f'Train ROC AUC Score: {train_auc:.6f}')\n",
    "            print(f'Train Loss: {train_loss:.6f}')\n",
    "            val_loss, val_auc = get_metrics(model, val_loader, USE_CUDA)\n",
    "            print(f'Validation ROC AUC Score: {val_auc:.6f}')\n",
    "            print(f'Validation Loss: {val_loss:.6f}')       \n",
    "        \n",
    "        print()\n",
    "    return model, train_losses, val_losses, val_auc_scores   "
   ]
  },
  {
   "cell_type": "code",
   "execution_count": 25,
   "metadata": {},
   "outputs": [],
   "source": [
    "train_dl = DataLoader(StructuredDataset(\n",
    "                X_trn[cat_cols], X_trn[num_cols], y_trn),\n",
    "                batch_size=128, shuffle=True)\n",
    "val_dl = DataLoader(StructuredDataset(\n",
    "                X_val[cat_cols], X_val[num_cols], y_val),\n",
    "                batch_size=128)"
   ]
  },
  {
   "cell_type": "code",
   "execution_count": 31,
   "metadata": {},
   "outputs": [],
   "source": [
    "USE_CUDA = False"
   ]
  },
  {
   "cell_type": "code",
   "execution_count": 47,
   "metadata": {},
   "outputs": [],
   "source": [
    "model = StructuredNet(emb_szs, n_cont=len(num_cols), emb_drop=0.2,\n",
    "                      szs=[1000,500], drops=[0.5, 0.5])\n",
    "if USE_CUDA: model = model.cuda()"
   ]
  },
  {
   "cell_type": "code",
   "execution_count": 48,
   "metadata": {},
   "outputs": [],
   "source": [
    "optimizer = optim.Adam(model.parameters(), lr=1e-3)\n",
    "criterion = nn.BCEWithLogitsLoss()"
   ]
  },
  {
   "cell_type": "code",
   "execution_count": 49,
   "metadata": {},
   "outputs": [
    {
     "name": "stdout",
     "output_type": "stream",
     "text": [
      "Train Epoch: 1 [2560/14687 (17%)]\tLoss: 0.769820\n",
      "Train Epoch: 1 [5120/14687 (35%)]\tLoss: 0.567141\n",
      "Train Epoch: 1 [7680/14687 (52%)]\tLoss: 0.453545\n",
      "Train Epoch: 1 [10240/14687 (70%)]\tLoss: 0.429784\n",
      "Train Epoch: 1 [12800/14687 (87%)]\tLoss: 0.418322\n",
      "Epoch Results:\n",
      "Train ROC AUC Score: 0.641542\n",
      "Train Loss: 0.379175\n",
      "Validation ROC AUC Score: 0.636126\n",
      "Validation Loss: 0.380538\n",
      "\n",
      "Train Epoch: 2 [2560/14687 (17%)]\tLoss: 0.421585\n",
      "Train Epoch: 2 [5120/14687 (35%)]\tLoss: 0.392481\n",
      "Train Epoch: 2 [7680/14687 (52%)]\tLoss: 0.425082\n",
      "Train Epoch: 2 [10240/14687 (70%)]\tLoss: 0.421085\n",
      "Train Epoch: 2 [12800/14687 (87%)]\tLoss: 0.401994\n",
      "Epoch Results:\n",
      "Train ROC AUC Score: 0.684082\n",
      "Train Loss: 0.366504\n",
      "Validation ROC AUC Score: 0.663089\n",
      "Validation Loss: 0.371328\n",
      "\n",
      "Train Epoch: 3 [2560/14687 (17%)]\tLoss: 0.403434\n",
      "Train Epoch: 3 [5120/14687 (35%)]\tLoss: 0.400877\n",
      "Train Epoch: 3 [7680/14687 (52%)]\tLoss: 0.384423\n",
      "Train Epoch: 3 [10240/14687 (70%)]\tLoss: 0.397448\n",
      "Train Epoch: 3 [12800/14687 (87%)]\tLoss: 0.378183\n",
      "Epoch Results:\n",
      "Train ROC AUC Score: 0.694944\n",
      "Train Loss: 0.361754\n",
      "Validation ROC AUC Score: 0.679717\n",
      "Validation Loss: 0.365769\n",
      "\n",
      "Train Epoch: 4 [2560/14687 (17%)]\tLoss: 0.395771\n",
      "Train Epoch: 4 [5120/14687 (35%)]\tLoss: 0.380701\n",
      "Train Epoch: 4 [7680/14687 (52%)]\tLoss: 0.391497\n",
      "Train Epoch: 4 [10240/14687 (70%)]\tLoss: 0.369110\n",
      "Train Epoch: 4 [12800/14687 (87%)]\tLoss: 0.385437\n",
      "Epoch Results:\n",
      "Train ROC AUC Score: 0.694871\n",
      "Train Loss: 0.363156\n",
      "Validation ROC AUC Score: 0.670220\n",
      "Validation Loss: 0.368884\n",
      "\n",
      "Train Epoch: 5 [2560/14687 (17%)]\tLoss: 0.392025\n",
      "Train Epoch: 5 [5120/14687 (35%)]\tLoss: 0.365519\n",
      "Train Epoch: 5 [7680/14687 (52%)]\tLoss: 0.383598\n",
      "Train Epoch: 5 [10240/14687 (70%)]\tLoss: 0.384312\n",
      "Train Epoch: 5 [12800/14687 (87%)]\tLoss: 0.379222\n",
      "Epoch Results:\n",
      "Train ROC AUC Score: 0.697230\n",
      "Train Loss: 0.361041\n",
      "Validation ROC AUC Score: 0.667561\n",
      "Validation Loss: 0.368524\n",
      "\n",
      "Train Epoch: 6 [2560/14687 (17%)]\tLoss: 0.387152\n",
      "Train Epoch: 6 [5120/14687 (35%)]\tLoss: 0.357323\n",
      "Train Epoch: 6 [7680/14687 (52%)]\tLoss: 0.371840\n",
      "Train Epoch: 6 [10240/14687 (70%)]\tLoss: 0.406242\n",
      "Train Epoch: 6 [12800/14687 (87%)]\tLoss: 0.364998\n",
      "Epoch Results:\n",
      "Train ROC AUC Score: 0.711852\n",
      "Train Loss: 0.357257\n",
      "Validation ROC AUC Score: 0.675999\n",
      "Validation Loss: 0.366702\n",
      "\n",
      "Train Epoch: 7 [2560/14687 (17%)]\tLoss: 0.363684\n",
      "Train Epoch: 7 [5120/14687 (35%)]\tLoss: 0.378669\n",
      "Train Epoch: 7 [7680/14687 (52%)]\tLoss: 0.381903\n",
      "Train Epoch: 7 [10240/14687 (70%)]\tLoss: 0.367455\n",
      "Train Epoch: 7 [12800/14687 (87%)]\tLoss: 0.359097\n",
      "Epoch Results:\n",
      "Train ROC AUC Score: 0.712053\n",
      "Train Loss: 0.356666\n",
      "Validation ROC AUC Score: 0.669399\n",
      "Validation Loss: 0.368596\n",
      "\n",
      "Train Epoch: 8 [2560/14687 (17%)]\tLoss: 0.402918\n",
      "Train Epoch: 8 [5120/14687 (35%)]\tLoss: 0.372225\n",
      "Train Epoch: 8 [7680/14687 (52%)]\tLoss: 0.352215\n",
      "Train Epoch: 8 [10240/14687 (70%)]\tLoss: 0.366998\n",
      "Train Epoch: 8 [12800/14687 (87%)]\tLoss: 0.346058\n",
      "Epoch Results:\n",
      "Train ROC AUC Score: 0.724239\n",
      "Train Loss: 0.357079\n",
      "Validation ROC AUC Score: 0.668047\n",
      "Validation Loss: 0.370101\n",
      "\n",
      "Train Epoch: 9 [2560/14687 (17%)]\tLoss: 0.370584\n",
      "Train Epoch: 9 [5120/14687 (35%)]\tLoss: 0.371043\n",
      "Train Epoch: 9 [7680/14687 (52%)]\tLoss: 0.362025\n",
      "Train Epoch: 9 [10240/14687 (70%)]\tLoss: 0.357691\n",
      "Train Epoch: 9 [12800/14687 (87%)]\tLoss: 0.390809\n",
      "Epoch Results:\n",
      "Train ROC AUC Score: 0.721056\n",
      "Train Loss: 0.353820\n",
      "Validation ROC AUC Score: 0.671293\n",
      "Validation Loss: 0.367095\n",
      "\n",
      "Train Epoch: 10 [2560/14687 (17%)]\tLoss: 0.370993\n",
      "Train Epoch: 10 [5120/14687 (35%)]\tLoss: 0.377608\n",
      "Train Epoch: 10 [7680/14687 (52%)]\tLoss: 0.356768\n",
      "Train Epoch: 10 [10240/14687 (70%)]\tLoss: 0.365076\n",
      "Train Epoch: 10 [12800/14687 (87%)]\tLoss: 0.379070\n",
      "Epoch Results:\n",
      "Train ROC AUC Score: 0.730420\n",
      "Train Loss: 0.352134\n",
      "Validation ROC AUC Score: 0.666188\n",
      "Validation Loss: 0.368231\n",
      "\n",
      "CPU times: user 1min 56s, sys: 1.41 s, total: 1min 57s\n",
      "Wall time: 59.2 s\n"
     ]
    }
   ],
   "source": [
    "%%time\n",
    "model, train_losses, _, _ = train_model(\n",
    "                model, train_dl, val_dl, optimizer, criterion,\n",
    "                n_epochs=10, USE_CUDA=USE_CUDA, print_every=20, val_every=50)"
   ]
  },
  {
   "cell_type": "markdown",
   "metadata": {},
   "source": [
    "## Batch size 32"
   ]
  },
  {
   "cell_type": "code",
   "execution_count": 50,
   "metadata": {},
   "outputs": [],
   "source": [
    "train_dl = DataLoader(StructuredDataset(\n",
    "                X_trn[cat_cols], X_trn[num_cols], y_trn),\n",
    "                batch_size=32, shuffle=True)\n",
    "val_dl = DataLoader(StructuredDataset(\n",
    "                X_val[cat_cols], X_val[num_cols], y_val),\n",
    "                batch_size=32)"
   ]
  },
  {
   "cell_type": "code",
   "execution_count": 51,
   "metadata": {},
   "outputs": [],
   "source": [
    "model = StructuredNet(emb_szs, n_cont=len(num_cols), emb_drop=0.2,\n",
    "                      szs=[1000,500], drops=[0.5, 0.5])\n",
    "if USE_CUDA: model = model.cuda()"
   ]
  },
  {
   "cell_type": "code",
   "execution_count": 52,
   "metadata": {},
   "outputs": [],
   "source": [
    "optimizer = optim.Adam(model.parameters(), lr=1e-3)\n",
    "criterion = nn.BCEWithLogitsLoss()"
   ]
  },
  {
   "cell_type": "code",
   "execution_count": 54,
   "metadata": {},
   "outputs": [
    {
     "name": "stdout",
     "output_type": "stream",
     "text": [
      "Train Epoch: 1 [3200/14687 (22%)]\tLoss: 0.563126\n",
      "Train Epoch: 1 [6400/14687 (44%)]\tLoss: 0.417935\n",
      "Train Epoch: 1 [9600/14687 (65%)]\tLoss: 0.416047\n",
      "Train Epoch: 1 [12800/14687 (87%)]\tLoss: 0.414606\n",
      "Epoch Results:\n",
      "Train ROC AUC Score: 0.676585\n",
      "Train Loss: 0.370237\n",
      "Validation ROC AUC Score: 0.665242\n",
      "Validation Loss: 0.374183\n",
      "\n",
      "Train Epoch: 2 [3200/14687 (22%)]\tLoss: 0.408538\n",
      "Train Epoch: 2 [6400/14687 (44%)]\tLoss: 0.396013\n",
      "Train Epoch: 2 [9600/14687 (65%)]\tLoss: 0.406715\n",
      "Train Epoch: 2 [12800/14687 (87%)]\tLoss: 0.375009\n",
      "Epoch Results:\n",
      "Train ROC AUC Score: 0.686722\n",
      "Train Loss: 0.365897\n",
      "Validation ROC AUC Score: 0.674087\n",
      "Validation Loss: 0.369452\n",
      "\n",
      "Train Epoch: 3 [3200/14687 (22%)]\tLoss: 0.390605\n",
      "Train Epoch: 3 [6400/14687 (44%)]\tLoss: 0.370729\n",
      "Train Epoch: 3 [9600/14687 (65%)]\tLoss: 0.387134\n",
      "Train Epoch: 3 [12800/14687 (87%)]\tLoss: 0.380467\n",
      "Epoch Results:\n",
      "Train ROC AUC Score: 0.690811\n",
      "Train Loss: 0.362992\n",
      "Validation ROC AUC Score: 0.671589\n",
      "Validation Loss: 0.369429\n",
      "\n",
      "Train Epoch: 4 [3200/14687 (22%)]\tLoss: 0.369161\n",
      "Train Epoch: 4 [6400/14687 (44%)]\tLoss: 0.364930\n",
      "Train Epoch: 4 [9600/14687 (65%)]\tLoss: 0.392134\n",
      "Train Epoch: 4 [12800/14687 (87%)]\tLoss: 0.383343\n",
      "Epoch Results:\n",
      "Train ROC AUC Score: 0.701251\n",
      "Train Loss: 0.361085\n",
      "Validation ROC AUC Score: 0.673749\n",
      "Validation Loss: 0.368152\n",
      "\n",
      "Train Epoch: 5 [3200/14687 (22%)]\tLoss: 0.391519\n",
      "Train Epoch: 5 [6400/14687 (44%)]\tLoss: 0.362564\n",
      "Train Epoch: 5 [9600/14687 (65%)]\tLoss: 0.362274\n",
      "Train Epoch: 5 [12800/14687 (87%)]\tLoss: 0.370430\n",
      "Epoch Results:\n",
      "Train ROC AUC Score: 0.717433\n",
      "Train Loss: 0.356600\n",
      "Validation ROC AUC Score: 0.678147\n",
      "Validation Loss: 0.367775\n",
      "\n",
      "Train Epoch: 6 [3200/14687 (22%)]\tLoss: 0.389186\n",
      "Train Epoch: 6 [6400/14687 (44%)]\tLoss: 0.353799\n",
      "Train Epoch: 6 [9600/14687 (65%)]\tLoss: 0.375778\n",
      "Train Epoch: 6 [12800/14687 (87%)]\tLoss: 0.375645\n",
      "Epoch Results:\n",
      "Train ROC AUC Score: 0.721376\n",
      "Train Loss: 0.355790\n",
      "Validation ROC AUC Score: 0.678611\n",
      "Validation Loss: 0.365774\n",
      "\n",
      "Train Epoch: 7 [3200/14687 (22%)]\tLoss: 0.368630\n",
      "Train Epoch: 7 [6400/14687 (44%)]\tLoss: 0.371780\n",
      "Train Epoch: 7 [9600/14687 (65%)]\tLoss: 0.375427\n",
      "Train Epoch: 7 [12800/14687 (87%)]\tLoss: 0.366228\n",
      "Epoch Results:\n",
      "Train ROC AUC Score: 0.721341\n",
      "Train Loss: 0.354157\n",
      "Validation ROC AUC Score: 0.680761\n",
      "Validation Loss: 0.367638\n",
      "\n",
      "Train Epoch: 8 [3200/14687 (22%)]\tLoss: 0.376050\n",
      "Train Epoch: 8 [6400/14687 (44%)]\tLoss: 0.365180\n",
      "Train Epoch: 8 [9600/14687 (65%)]\tLoss: 0.362731\n",
      "Train Epoch: 8 [12800/14687 (87%)]\tLoss: 0.376187\n",
      "Epoch Results:\n",
      "Train ROC AUC Score: 0.725071\n",
      "Train Loss: 0.352552\n",
      "Validation ROC AUC Score: 0.663843\n",
      "Validation Loss: 0.371869\n",
      "\n",
      "Train Epoch: 9 [3200/14687 (22%)]\tLoss: 0.358976\n",
      "Train Epoch: 9 [6400/14687 (44%)]\tLoss: 0.378192\n",
      "Train Epoch: 9 [9600/14687 (65%)]\tLoss: 0.382997\n",
      "Train Epoch: 9 [12800/14687 (87%)]\tLoss: 0.359938\n",
      "Epoch Results:\n",
      "Train ROC AUC Score: 0.731094\n",
      "Train Loss: 0.349938\n",
      "Validation ROC AUC Score: 0.675970\n",
      "Validation Loss: 0.368133\n",
      "\n",
      "Train Epoch: 10 [3200/14687 (22%)]\tLoss: 0.373801\n",
      "Train Epoch: 10 [6400/14687 (44%)]\tLoss: 0.366318\n",
      "Train Epoch: 10 [9600/14687 (65%)]\tLoss: 0.354411\n",
      "Train Epoch: 10 [12800/14687 (87%)]\tLoss: 0.363184\n",
      "Epoch Results:\n",
      "Train ROC AUC Score: 0.736371\n",
      "Train Loss: 0.350998\n",
      "Validation ROC AUC Score: 0.668241\n",
      "Validation Loss: 0.370513\n",
      "\n",
      "CPU times: user 4min 25s, sys: 4.49 s, total: 4min 29s\n",
      "Wall time: 2min 6s\n"
     ]
    }
   ],
   "source": [
    "%%time\n",
    "model, train_losses, _, _ = train_model(\n",
    "                model, train_dl, val_dl, optimizer, criterion,\n",
    "                n_epochs=10, USE_CUDA=USE_CUDA, print_every=100, val_every=100)"
   ]
  },
  {
   "cell_type": "markdown",
   "metadata": {},
   "source": [
    "## Learning rate 3e-4"
   ]
  },
  {
   "cell_type": "code",
   "execution_count": 84,
   "metadata": {},
   "outputs": [],
   "source": [
    "train_dl = DataLoader(StructuredDataset(\n",
    "                X_trn[cat_cols], X_trn[num_cols], y_trn),\n",
    "                batch_size=32, shuffle=True)\n",
    "val_dl = DataLoader(StructuredDataset(\n",
    "                X_val[cat_cols], X_val[num_cols], y_val),\n",
    "                batch_size=32)"
   ]
  },
  {
   "cell_type": "code",
   "execution_count": 85,
   "metadata": {},
   "outputs": [],
   "source": [
    "model = StructuredNet(emb_szs, n_cont=len(num_cols), emb_drop=0.2,\n",
    "                      szs=[1000,500], drops=[0.5, 0.5])\n",
    "if USE_CUDA: model = model.cuda()"
   ]
  },
  {
   "cell_type": "code",
   "execution_count": 86,
   "metadata": {},
   "outputs": [],
   "source": [
    "optimizer = optim.Adam(model.parameters(), lr=3e-4)\n",
    "criterion = nn.BCEWithLogitsLoss()"
   ]
  },
  {
   "cell_type": "code",
   "execution_count": 87,
   "metadata": {},
   "outputs": [
    {
     "name": "stdout",
     "output_type": "stream",
     "text": [
      "Train Epoch: 1 [3200/14687 (22%)]\tLoss: 0.705304\n",
      "Train Epoch: 1 [6400/14687 (44%)]\tLoss: 0.529094\n",
      "Train Epoch: 1 [9600/14687 (65%)]\tLoss: 0.452925\n",
      "Train Epoch: 1 [12800/14687 (87%)]\tLoss: 0.432174\n",
      "Epoch Results:\n",
      "Train ROC AUC Score: 0.650599\n",
      "Train Loss: 0.374380\n",
      "Validation ROC AUC Score: 0.651533\n",
      "Validation Loss: 0.376317\n",
      "\n",
      "Train Epoch: 2 [3200/14687 (22%)]\tLoss: 0.414990\n",
      "Train Epoch: 2 [6400/14687 (44%)]\tLoss: 0.421798\n",
      "Train Epoch: 2 [9600/14687 (65%)]\tLoss: 0.423826\n",
      "Train Epoch: 2 [12800/14687 (87%)]\tLoss: 0.399123\n",
      "Epoch Results:\n",
      "Train ROC AUC Score: 0.672821\n",
      "Train Loss: 0.367936\n",
      "Validation ROC AUC Score: 0.667576\n",
      "Validation Loss: 0.371802\n",
      "\n",
      "Train Epoch: 3 [3200/14687 (22%)]\tLoss: 0.412871\n",
      "Train Epoch: 3 [6400/14687 (44%)]\tLoss: 0.380013\n",
      "Train Epoch: 3 [9600/14687 (65%)]\tLoss: 0.393561\n",
      "Train Epoch: 3 [12800/14687 (87%)]\tLoss: 0.422892\n",
      "Epoch Results:\n",
      "Train ROC AUC Score: 0.685604\n",
      "Train Loss: 0.364399\n",
      "Validation ROC AUC Score: 0.678003\n",
      "Validation Loss: 0.368196\n",
      "\n",
      "Train Epoch: 4 [3200/14687 (22%)]\tLoss: 0.397631\n",
      "Train Epoch: 4 [6400/14687 (44%)]\tLoss: 0.400698\n",
      "Train Epoch: 4 [9600/14687 (65%)]\tLoss: 0.403840\n",
      "Train Epoch: 4 [12800/14687 (87%)]\tLoss: 0.376799\n",
      "Epoch Results:\n",
      "Train ROC AUC Score: 0.688607\n",
      "Train Loss: 0.363269\n",
      "Validation ROC AUC Score: 0.676692\n",
      "Validation Loss: 0.367484\n",
      "\n",
      "Train Epoch: 5 [3200/14687 (22%)]\tLoss: 0.377393\n",
      "Train Epoch: 5 [6400/14687 (44%)]\tLoss: 0.378323\n",
      "Train Epoch: 5 [9600/14687 (65%)]\tLoss: 0.397250\n",
      "Train Epoch: 5 [12800/14687 (87%)]\tLoss: 0.393141\n",
      "Epoch Results:\n",
      "Train ROC AUC Score: 0.691356\n",
      "Train Loss: 0.362412\n",
      "Validation ROC AUC Score: 0.670069\n",
      "Validation Loss: 0.368569\n",
      "\n",
      "Train Epoch: 6 [3200/14687 (22%)]\tLoss: 0.362755\n",
      "Train Epoch: 6 [6400/14687 (44%)]\tLoss: 0.395563\n",
      "Train Epoch: 6 [9600/14687 (65%)]\tLoss: 0.380748\n",
      "Train Epoch: 6 [12800/14687 (87%)]\tLoss: 0.380150\n",
      "Epoch Results:\n",
      "Train ROC AUC Score: 0.705359\n",
      "Train Loss: 0.362355\n",
      "Validation ROC AUC Score: 0.674385\n",
      "Validation Loss: 0.369097\n",
      "\n",
      "Train Epoch: 7 [3200/14687 (22%)]\tLoss: 0.389710\n",
      "Train Epoch: 7 [6400/14687 (44%)]\tLoss: 0.372818\n",
      "Train Epoch: 7 [9600/14687 (65%)]\tLoss: 0.394418\n",
      "Train Epoch: 7 [12800/14687 (87%)]\tLoss: 0.378292\n",
      "Epoch Results:\n",
      "Train ROC AUC Score: 0.702780\n",
      "Train Loss: 0.359593\n",
      "Validation ROC AUC Score: 0.683404\n",
      "Validation Loss: 0.365081\n",
      "\n",
      "Train Epoch: 8 [3200/14687 (22%)]\tLoss: 0.391852\n",
      "Train Epoch: 8 [6400/14687 (44%)]\tLoss: 0.376546\n",
      "Train Epoch: 8 [9600/14687 (65%)]\tLoss: 0.366884\n",
      "Train Epoch: 8 [12800/14687 (87%)]\tLoss: 0.368955\n",
      "Epoch Results:\n",
      "Train ROC AUC Score: 0.711782\n",
      "Train Loss: 0.358609\n",
      "Validation ROC AUC Score: 0.679452\n",
      "Validation Loss: 0.366594\n",
      "\n",
      "Train Epoch: 9 [3200/14687 (22%)]\tLoss: 0.396715\n",
      "Train Epoch: 9 [6400/14687 (44%)]\tLoss: 0.381380\n",
      "Train Epoch: 9 [9600/14687 (65%)]\tLoss: 0.362657\n",
      "Train Epoch: 9 [12800/14687 (87%)]\tLoss: 0.367456\n",
      "Epoch Results:\n",
      "Train ROC AUC Score: 0.705740\n",
      "Train Loss: 0.358536\n",
      "Validation ROC AUC Score: 0.674204\n",
      "Validation Loss: 0.366652\n",
      "\n",
      "Train Epoch: 10 [3200/14687 (22%)]\tLoss: 0.354668\n",
      "Train Epoch: 10 [6400/14687 (44%)]\tLoss: 0.375116\n",
      "Train Epoch: 10 [9600/14687 (65%)]\tLoss: 0.366543\n",
      "Train Epoch: 10 [12800/14687 (87%)]\tLoss: 0.389742\n",
      "Epoch Results:\n",
      "Train ROC AUC Score: 0.713213\n",
      "Train Loss: 0.357030\n",
      "Validation ROC AUC Score: 0.677614\n",
      "Validation Loss: 0.367141\n",
      "\n",
      "CPU times: user 4min 15s, sys: 4.25 s, total: 4min 20s\n",
      "Wall time: 2min 1s\n"
     ]
    }
   ],
   "source": [
    "%%time\n",
    "model, train_losses, _, _ = train_model(\n",
    "                model, train_dl, val_dl, optimizer, criterion,\n",
    "                n_epochs=10, USE_CUDA=USE_CUDA, print_every=100, val_every=100)"
   ]
  },
  {
   "cell_type": "markdown",
   "metadata": {},
   "source": [
    "## All datasets"
   ]
  },
  {
   "cell_type": "code",
   "execution_count": 100,
   "metadata": {},
   "outputs": [],
   "source": [
    "train_ds = StructuredDataset(X_trn[cat_cols], X_trn[num_cols], y_trn)\n",
    "val_ds   = StructuredDataset(X_val[cat_cols], X_val[num_cols], y_val)\n",
    "test_ds  = StructuredDataset(X_tst[cat_cols], X_tst[num_cols], None)"
   ]
  },
  {
   "cell_type": "code",
   "execution_count": 101,
   "metadata": {},
   "outputs": [],
   "source": [
    "from torch.utils.data import ConcatDataset"
   ]
  },
  {
   "cell_type": "code",
   "execution_count": 102,
   "metadata": {},
   "outputs": [],
   "source": [
    "all_train_ds = ConcatDataset([train_ds, val_ds])"
   ]
  },
  {
   "cell_type": "code",
   "execution_count": 103,
   "metadata": {},
   "outputs": [],
   "source": [
    "all_train_dl = DataLoader(all_train_ds, batch_size=32, shuffle=True)\n",
    "test_dl      = DataLoader(test_ds, batch_size=32)"
   ]
  },
  {
   "cell_type": "code",
   "execution_count": 107,
   "metadata": {},
   "outputs": [],
   "source": [
    "model = StructuredNet(emb_szs, n_cont=len(num_cols), emb_drop=0.2,\n",
    "                      szs=[1000,500], drops=[0.5, 0.5])\n",
    "if USE_CUDA: model = model.cuda()"
   ]
  },
  {
   "cell_type": "code",
   "execution_count": 108,
   "metadata": {},
   "outputs": [],
   "source": [
    "optimizer = optim.Adam(model.parameters(), lr=3e-4)\n",
    "criterion = nn.BCEWithLogitsLoss()"
   ]
  },
  {
   "cell_type": "code",
   "execution_count": 109,
   "metadata": {},
   "outputs": [
    {
     "name": "stdout",
     "output_type": "stream",
     "text": [
      "Train Epoch: 1 [3200/18359 (17%)]\tLoss: 0.698612\n",
      "Train Epoch: 1 [6400/18359 (35%)]\tLoss: 0.537840\n",
      "Train Epoch: 1 [9600/18359 (52%)]\tLoss: 0.449713\n",
      "Train Epoch: 1 [12800/18359 (70%)]\tLoss: 0.424793\n",
      "Train Epoch: 1 [16000/18359 (87%)]\tLoss: 0.424301\n",
      "\n",
      "Train Epoch: 2 [3200/18359 (17%)]\tLoss: 0.430523\n",
      "Train Epoch: 2 [6400/18359 (35%)]\tLoss: 0.389235\n",
      "Train Epoch: 2 [9600/18359 (52%)]\tLoss: 0.422659\n",
      "Train Epoch: 2 [12800/18359 (70%)]\tLoss: 0.401373\n",
      "Train Epoch: 2 [16000/18359 (87%)]\tLoss: 0.398717\n",
      "\n",
      "Train Epoch: 3 [3200/18359 (17%)]\tLoss: 0.407043\n",
      "Train Epoch: 3 [6400/18359 (35%)]\tLoss: 0.399549\n",
      "Train Epoch: 3 [9600/18359 (52%)]\tLoss: 0.372939\n",
      "Train Epoch: 3 [12800/18359 (70%)]\tLoss: 0.394654\n",
      "Train Epoch: 3 [16000/18359 (87%)]\tLoss: 0.405772\n",
      "\n",
      "Train Epoch: 4 [3200/18359 (17%)]\tLoss: 0.365628\n",
      "Train Epoch: 4 [6400/18359 (35%)]\tLoss: 0.403122\n",
      "Train Epoch: 4 [9600/18359 (52%)]\tLoss: 0.390472\n",
      "Train Epoch: 4 [12800/18359 (70%)]\tLoss: 0.380876\n",
      "Train Epoch: 4 [16000/18359 (87%)]\tLoss: 0.411743\n",
      "\n",
      "Train Epoch: 5 [3200/18359 (17%)]\tLoss: 0.391292\n",
      "Train Epoch: 5 [6400/18359 (35%)]\tLoss: 0.386681\n",
      "Train Epoch: 5 [9600/18359 (52%)]\tLoss: 0.386445\n",
      "Train Epoch: 5 [12800/18359 (70%)]\tLoss: 0.374005\n",
      "Train Epoch: 5 [16000/18359 (87%)]\tLoss: 0.391796\n",
      "\n",
      "Train Epoch: 6 [3200/18359 (17%)]\tLoss: 0.374663\n",
      "Train Epoch: 6 [6400/18359 (35%)]\tLoss: 0.385813\n",
      "Train Epoch: 6 [9600/18359 (52%)]\tLoss: 0.388368\n",
      "Train Epoch: 6 [12800/18359 (70%)]\tLoss: 0.376241\n",
      "Train Epoch: 6 [16000/18359 (87%)]\tLoss: 0.382399\n",
      "\n",
      "Train Epoch: 7 [3200/18359 (17%)]\tLoss: 0.368280\n",
      "Train Epoch: 7 [6400/18359 (35%)]\tLoss: 0.389471\n",
      "Train Epoch: 7 [9600/18359 (52%)]\tLoss: 0.370683\n",
      "Train Epoch: 7 [12800/18359 (70%)]\tLoss: 0.367447\n",
      "Train Epoch: 7 [16000/18359 (87%)]\tLoss: 0.380776\n",
      "\n",
      "CPU times: user 3min 1s, sys: 3.39 s, total: 3min 5s\n",
      "Wall time: 1min 23s\n"
     ]
    }
   ],
   "source": [
    "%%time\n",
    "model, train_losses, _, _ = train_model(\n",
    "                model, all_train_dl, None, optimizer, criterion,\n",
    "                n_epochs=7, USE_CUDA=USE_CUDA, print_every=100, val_every=100)"
   ]
  },
  {
   "cell_type": "code",
   "execution_count": 110,
   "metadata": {},
   "outputs": [
    {
     "data": {
      "text/plain": [
       "<matplotlib.axes._subplots.AxesSubplot at 0x7f6357c8f4a8>"
      ]
     },
     "execution_count": 110,
     "metadata": {},
     "output_type": "execute_result"
    },
    {
     "data": {
      "image/png": "[encoded data removed]",
      "text/plain": [
       "<matplotlib.figure.Figure at 0x7f6357c80c50>"
      ]
     },
     "metadata": {
      "image/png": {
       "height": 248,
       "width": 378
      }
     },
     "output_type": "display_data"
    }
   ],
   "source": [
    "train_losses = pd.Series(train_losses)\n",
    "train_losses.plot()"
   ]
  },
  {
   "cell_type": "code",
   "execution_count": 111,
   "metadata": {},
   "outputs": [],
   "source": [
    "targets, preds = get_predictions(model, test_dl, USE_CUDA=USE_CUDA)"
   ]
  },
  {
   "cell_type": "code",
   "execution_count": 112,
   "metadata": {},
   "outputs": [],
   "source": [
    "test[target_col] = preds"
   ]
  },
  {
   "cell_type": "markdown",
   "metadata": {},
   "source": [
    "## Submission"
   ]
  },
  {
   "cell_type": "code",
   "execution_count": 113,
   "metadata": {},
   "outputs": [],
   "source": [
    "submission = pd.read_csv(RAW/'sample_submission_sxfcbdx.csv', low_memory=False)\n",
    "submission = pd.merge(submission[[id_col]], test[[id_col, target_col]], how='left', on=id_col)"
   ]
  },
  {
   "cell_type": "code",
   "execution_count": 114,
   "metadata": {},
   "outputs": [
    {
     "data": {
      "text/html": [
       "<div>\n",
       "<style scoped>\n",
       "    .dataframe tbody tr th:only-of-type {\n",
       "        vertical-align: middle;\n",
       "    }\n",
       "\n",
       "    .dataframe tbody tr th {\n",
       "        vertical-align: top;\n",
       "    }\n",
       "\n",
       "    .dataframe thead th {\n",
       "        text-align: right;\n",
       "    }\n",
       "</style>\n",
       "<table border=\"1\" class=\"dataframe\">\n",
       "  <thead>\n",
       "    <tr style=\"text-align: right;\">\n",
       "      <th></th>\n",
       "      <th>enrollee_id</th>\n",
       "      <th>target</th>\n",
       "    </tr>\n",
       "  </thead>\n",
       "  <tbody>\n",
       "    <tr>\n",
       "      <th>0</th>\n",
       "      <td>16548</td>\n",
       "      <td>0.367501</td>\n",
       "    </tr>\n",
       "    <tr>\n",
       "      <th>1</th>\n",
       "      <td>12036</td>\n",
       "      <td>0.055319</td>\n",
       "    </tr>\n",
       "    <tr>\n",
       "      <th>2</th>\n",
       "      <td>11061</td>\n",
       "      <td>0.335810</td>\n",
       "    </tr>\n",
       "    <tr>\n",
       "      <th>3</th>\n",
       "      <td>5032</td>\n",
       "      <td>0.058766</td>\n",
       "    </tr>\n",
       "    <tr>\n",
       "      <th>4</th>\n",
       "      <td>17599</td>\n",
       "      <td>0.074805</td>\n",
       "    </tr>\n",
       "  </tbody>\n",
       "</table>\n",
       "</div>"
      ],
      "text/plain": [
       "   enrollee_id    target\n",
       "0        16548  0.367501\n",
       "1        12036  0.055319\n",
       "2        11061  0.335810\n",
       "3         5032  0.058766\n",
       "4        17599  0.074805"
      ]
     },
     "execution_count": 114,
     "metadata": {},
     "output_type": "execute_result"
    }
   ],
   "source": [
    "submission.head()"
   ]
  },
  {
   "cell_type": "code",
   "execution_count": 115,
   "metadata": {},
   "outputs": [
    {
     "data": {
      "text/plain": [
       "count    15021.000000\n",
       "mean         0.120405\n",
       "std          0.073333\n",
       "min          0.014991\n",
       "25%          0.068073\n",
       "50%          0.095120\n",
       "75%          0.151700\n",
       "max          0.512630\n",
       "Name: target, dtype: float64"
      ]
     },
     "execution_count": 115,
     "metadata": {},
     "output_type": "execute_result"
    }
   ],
   "source": [
    "submission[target_col].describe()"
   ]
  },
  {
   "cell_type": "code",
   "execution_count": 116,
   "metadata": {},
   "outputs": [],
   "source": [
    "submission.to_csv(SUBMISSIONS/'07-neuralnet_labelordinal_alldata.csv', index=False)"
   ]
  },
  {
   "cell_type": "markdown",
   "metadata": {},
   "source": [
    "## Average with catboost"
   ]
  },
  {
   "cell_type": "code",
   "execution_count": 119,
   "metadata": {},
   "outputs": [],
   "source": [
    "catboost_sub = pd.read_csv(SUBMISSIONS/'06-catboost_labelordinal_alldata.csv')"
   ]
  },
  {
   "cell_type": "code",
   "execution_count": 120,
   "metadata": {},
   "outputs": [
    {
     "data": {
      "text/html": [
       "<div>\n",
       "<style scoped>\n",
       "    .dataframe tbody tr th:only-of-type {\n",
       "        vertical-align: middle;\n",
       "    }\n",
       "\n",
       "    .dataframe tbody tr th {\n",
       "        vertical-align: top;\n",
       "    }\n",
       "\n",
       "    .dataframe thead th {\n",
       "        text-align: right;\n",
       "    }\n",
       "</style>\n",
       "<table border=\"1\" class=\"dataframe\">\n",
       "  <thead>\n",
       "    <tr style=\"text-align: right;\">\n",
       "      <th></th>\n",
       "      <th>enrollee_id</th>\n",
       "      <th>target</th>\n",
       "    </tr>\n",
       "  </thead>\n",
       "  <tbody>\n",
       "    <tr>\n",
       "      <th>0</th>\n",
       "      <td>16548</td>\n",
       "      <td>0.558407</td>\n",
       "    </tr>\n",
       "    <tr>\n",
       "      <th>1</th>\n",
       "      <td>12036</td>\n",
       "      <td>0.063185</td>\n",
       "    </tr>\n",
       "    <tr>\n",
       "      <th>2</th>\n",
       "      <td>11061</td>\n",
       "      <td>0.471543</td>\n",
       "    </tr>\n",
       "    <tr>\n",
       "      <th>3</th>\n",
       "      <td>5032</td>\n",
       "      <td>0.083252</td>\n",
       "    </tr>\n",
       "    <tr>\n",
       "      <th>4</th>\n",
       "      <td>17599</td>\n",
       "      <td>0.148626</td>\n",
       "    </tr>\n",
       "  </tbody>\n",
       "</table>\n",
       "</div>"
      ],
      "text/plain": [
       "   enrollee_id    target\n",
       "0        16548  0.558407\n",
       "1        12036  0.063185\n",
       "2        11061  0.471543\n",
       "3         5032  0.083252\n",
       "4        17599  0.148626"
      ]
     },
     "execution_count": 120,
     "metadata": {},
     "output_type": "execute_result"
    }
   ],
   "source": [
    "catboost_sub.head()"
   ]
  },
  {
   "cell_type": "code",
   "execution_count": 126,
   "metadata": {},
   "outputs": [
    {
     "data": {
      "text/plain": [
       "count    15021.000000\n",
       "mean         0.132935\n",
       "std          0.084021\n",
       "min          0.029717\n",
       "25%          0.074395\n",
       "50%          0.102081\n",
       "75%          0.163948\n",
       "max          0.683786\n",
       "Name: target, dtype: float64"
      ]
     },
     "execution_count": 126,
     "metadata": {},
     "output_type": "execute_result"
    }
   ],
   "source": [
    "catboost_sub[target_col].describe()"
   ]
  },
  {
   "cell_type": "code",
   "execution_count": 121,
   "metadata": {},
   "outputs": [],
   "source": [
    "average_sub = catboost_sub.copy()"
   ]
  },
  {
   "cell_type": "code",
   "execution_count": 122,
   "metadata": {},
   "outputs": [],
   "source": [
    "average_sub[target_col] = (catboost_sub[target_col] + submission[target_col]) / 2"
   ]
  },
  {
   "cell_type": "code",
   "execution_count": 123,
   "metadata": {},
   "outputs": [
    {
     "data": {
      "text/html": [
       "<div>\n",
       "<style scoped>\n",
       "    .dataframe tbody tr th:only-of-type {\n",
       "        vertical-align: middle;\n",
       "    }\n",
       "\n",
       "    .dataframe tbody tr th {\n",
       "        vertical-align: top;\n",
       "    }\n",
       "\n",
       "    .dataframe thead th {\n",
       "        text-align: right;\n",
       "    }\n",
       "</style>\n",
       "<table border=\"1\" class=\"dataframe\">\n",
       "  <thead>\n",
       "    <tr style=\"text-align: right;\">\n",
       "      <th></th>\n",
       "      <th>enrollee_id</th>\n",
       "      <th>target</th>\n",
       "    </tr>\n",
       "  </thead>\n",
       "  <tbody>\n",
       "    <tr>\n",
       "      <th>0</th>\n",
       "      <td>16548</td>\n",
       "      <td>0.462954</td>\n",
       "    </tr>\n",
       "    <tr>\n",
       "      <th>1</th>\n",
       "      <td>12036</td>\n",
       "      <td>0.059252</td>\n",
       "    </tr>\n",
       "    <tr>\n",
       "      <th>2</th>\n",
       "      <td>11061</td>\n",
       "      <td>0.403677</td>\n",
       "    </tr>\n",
       "    <tr>\n",
       "      <th>3</th>\n",
       "      <td>5032</td>\n",
       "      <td>0.071009</td>\n",
       "    </tr>\n",
       "    <tr>\n",
       "      <th>4</th>\n",
       "      <td>17599</td>\n",
       "      <td>0.111716</td>\n",
       "    </tr>\n",
       "  </tbody>\n",
       "</table>\n",
       "</div>"
      ],
      "text/plain": [
       "   enrollee_id    target\n",
       "0        16548  0.462954\n",
       "1        12036  0.059252\n",
       "2        11061  0.403677\n",
       "3         5032  0.071009\n",
       "4        17599  0.111716"
      ]
     },
     "execution_count": 123,
     "metadata": {},
     "output_type": "execute_result"
    }
   ],
   "source": [
    "average_sub.head()"
   ]
  },
  {
   "cell_type": "code",
   "execution_count": 125,
   "metadata": {},
   "outputs": [
    {
     "data": {
      "text/plain": [
       "count    15021.000000\n",
       "mean         0.126670\n",
       "std          0.076417\n",
       "min          0.031154\n",
       "25%          0.072441\n",
       "50%          0.099154\n",
       "75%          0.157438\n",
       "max          0.540061\n",
       "Name: target, dtype: float64"
      ]
     },
     "execution_count": 125,
     "metadata": {},
     "output_type": "execute_result"
    }
   ],
   "source": [
    "average_sub[target_col].describe()"
   ]
  },
  {
   "cell_type": "code",
   "execution_count": 128,
   "metadata": {},
   "outputs": [],
   "source": [
    "average_sub.to_csv(SUBMISSIONS/'08-ensemble_neuralnet_catboost_labelordinal_alldata.csv', index=False)"
   ]
  },
  {
   "cell_type": "code",
   "execution_count": null,
   "metadata": {},
   "outputs": [],
   "source": []
  }
 ],
 "metadata": {
  "kernelspec": {
   "display_name": "Python 3",
   "language": "python",
   "name": "python3"
  },
  "language_info": {
   "codemirror_mode": {
    "name": "ipython",
    "version": 3
   },
   "file_extension": ".py",
   "mimetype": "text/x-python",
   "name": "python",
   "nbconvert_exporter": "python",
   "pygments_lexer": "ipython3",
   "version": "3.6.4"
  }
 },
 "nbformat": 4,
 "nbformat_minor": 2
}
