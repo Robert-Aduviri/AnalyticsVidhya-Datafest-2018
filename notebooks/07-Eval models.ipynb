{
 "cells": [
  {
   "cell_type": "code",
   "execution_count": 1,
   "metadata": {},
   "outputs": [],
   "source": [
    "%load_ext autoreload\n",
    "%autoreload 2\n",
    "%matplotlib inline\n",
    "%config InlineBackend.figure_format = 'retina'\n",
    "\n",
    "import os\n",
    "import numpy as np, pandas as pd\n",
    "import matplotlib.pyplot as plt, seaborn as sns\n",
    "from tqdm import tqdm, tqdm_notebook\n",
    "from pathlib import Path\n",
    "# pd.set_option('display.max_columns', 1000)\n",
    "# pd.set_option('display.max_rows', 400)\n",
    "sns.set()\n",
    "\n",
    "os.chdir('..')"
   ]
  },
  {
   "cell_type": "code",
   "execution_count": 2,
   "metadata": {},
   "outputs": [],
   "source": [
    "DATA = Path('data')\n",
    "RAW  = DATA/'raw'\n",
    "SUBMISSIONS = DATA/'submissions'"
   ]
  },
  {
   "cell_type": "code",
   "execution_count": 3,
   "metadata": {},
   "outputs": [],
   "source": [
    "train      = pd.read_csv(RAW/'train_jqd04QH.csv', low_memory=False)\n",
    "test       = pd.read_csv(RAW/'test_GYi4Gz5.csv', low_memory=False)\n",
    "submission = pd.read_csv(RAW/'sample_submission_sxfcbdx.csv', low_memory=False)"
   ]
  },
  {
   "cell_type": "code",
   "execution_count": 4,
   "metadata": {},
   "outputs": [],
   "source": [
    "id_col = 'enrollee_id'\n",
    "cat_cols = ['city', 'gender', 'relevent_experience', 'enrolled_university', \n",
    "            'education_level', 'major_discipline', 'experience', 'company_size', \n",
    "            'company_type', 'last_new_job']\n",
    "num_cols = ['city_development_index', 'training_hours']\n",
    "target_col = 'target'"
   ]
  },
  {
   "cell_type": "code",
   "execution_count": 6,
   "metadata": {},
   "outputs": [],
   "source": [
    "from src.utils import preprocess"
   ]
  },
  {
   "cell_type": "code",
   "execution_count": 7,
   "metadata": {},
   "outputs": [
    {
     "name": "stdout",
     "output_type": "stream",
     "text": [
      "CPU times: user 108 ms, sys: 24 ms, total: 132 ms\n",
      "Wall time: 127 ms\n"
     ]
    }
   ],
   "source": [
    "%%time\n",
    "preprocess(train, test, cat_cols, num_cols)"
   ]
  },
  {
   "cell_type": "code",
   "execution_count": 10,
   "metadata": {},
   "outputs": [],
   "source": [
    "from lightgbm import LGBMClassifier\n",
    "from sklearn.model_selection import StratifiedKFold"
   ]
  },
  {
   "cell_type": "code",
   "execution_count": 11,
   "metadata": {},
   "outputs": [],
   "source": [
    "columns = list(train.drop([id_col, target_col], axis=1))\n",
    "cat_indices = [i for i, col in enumerate(columns) if col in cat_cols]"
   ]
  },
  {
   "cell_type": "code",
   "execution_count": 12,
   "metadata": {},
   "outputs": [],
   "source": [
    "kfolds = StratifiedKFold(n_splits=5, random_state=42)"
   ]
  },
  {
   "cell_type": "markdown",
   "metadata": {},
   "source": [
    "## LightGBM"
   ]
  },
  {
   "cell_type": "code",
   "execution_count": 182,
   "metadata": {},
   "outputs": [],
   "source": [
    "from src.utils import eval_lgbm, print_results\n",
    "import lightgbm as lgbm"
   ]
  },
  {
   "cell_type": "code",
   "execution_count": 201,
   "metadata": {},
   "outputs": [
    {
     "name": "stderr",
     "output_type": "stream",
     "text": [
      "/home/raduviri/anaconda3/envs/chana/lib/python3.6/site-packages/lightgbm/basic.py:1038: UserWarning: categorical_feature in Dataset is overrided. New categorical_feature is [0, 2, 3, 4, 5, 6, 7, 8, 9, 10]\n",
      "  warnings.warn('categorical_feature in Dataset is overrided. New categorical_feature is {}'.format(sorted(list(categorical_feature))))\n",
      "/home/raduviri/anaconda3/envs/chana/lib/python3.6/site-packages/lightgbm/basic.py:681: UserWarning: categorical_feature in param dict is overrided.\n",
      "  warnings.warn('categorical_feature in param dict is overrided.')\n"
     ]
    },
    {
     "name": "stdout",
     "output_type": "stream",
     "text": [
      "No. estimators: 22 | Train AUC: 72.46 | Val AUC: 68.34\n",
      "No. estimators: 11 | Train AUC: 70.87 | Val AUC: 64.65\n",
      "No. estimators: 13 | Train AUC: 70.94 | Val AUC: 65.98\n",
      "No. estimators: 12 | Train AUC: 71.34 | Val AUC: 66.63\n",
      "No. estimators: 18 | Train AUC: 71.49 | Val AUC: 68.46\n",
      "\n",
      "CPU times: user 916 ms, sys: 4 ms, total: 920 ms\n",
      "Wall time: 913 ms\n"
     ]
    }
   ],
   "source": [
    "%%time\n",
    "# LGBMClassifier(n_estimators=1000, random_state=42, max_depth=5)\n",
    "trn_aucs, val_aucs = eval_lgbm(lgbm,\n",
    "                    train.drop([id_col, target_col], axis=1), \n",
    "                    train[target_col], kfolds, cat_indices)"
   ]
  },
  {
   "cell_type": "code",
   "execution_count": 202,
   "metadata": {},
   "outputs": [
    {
     "name": "stdout",
     "output_type": "stream",
     "text": [
      "71.42 +/- 1.14 | 66.81 +/- 2.89\n"
     ]
    }
   ],
   "source": [
    "# max_depth 5\n",
    "print_results(trn_aucs, val_aucs)"
   ]
  },
  {
   "cell_type": "code",
   "execution_count": 124,
   "metadata": {},
   "outputs": [
    {
     "name": "stdout",
     "output_type": "stream",
     "text": [
      "73.33 +/- 4.22 | 66.78 +/- 2.82\n"
     ]
    }
   ],
   "source": [
    "# max_depth 10\n",
    "print_results(trn_aucs, val_aucs)"
   ]
  },
  {
   "cell_type": "code",
   "execution_count": 26,
   "metadata": {},
   "outputs": [
    {
     "name": "stdout",
     "output_type": "stream",
     "text": [
      "72.70 +/- 6.57 | 66.38 +/- 2.41\n"
     ]
    }
   ],
   "source": [
    "print_results(trn_aucs, val_aucs)"
   ]
  },
  {
   "cell_type": "markdown",
   "metadata": {},
   "source": [
    "## Random Forest"
   ]
  },
  {
   "cell_type": "code",
   "execution_count": 35,
   "metadata": {},
   "outputs": [],
   "source": [
    "from src.utils import eval_tree\n",
    "from sklearn.ensemble import RandomForestClassifier"
   ]
  },
  {
   "cell_type": "code",
   "execution_count": 72,
   "metadata": {},
   "outputs": [
    {
     "name": "stdout",
     "output_type": "stream",
     "text": [
      "Train AUC: 74.58 | Val AUC: 68.76\n",
      "Train AUC: 75.43 | Val AUC: 64.34\n",
      "Train AUC: 74.85 | Val AUC: 65.94\n",
      "Train AUC: 74.81 | Val AUC: 67.64\n",
      "Train AUC: 74.91 | Val AUC: 67.07\n",
      "\n",
      "CPU times: user 13.3 s, sys: 576 ms, total: 13.9 s\n",
      "Wall time: 3.3 s\n"
     ]
    }
   ],
   "source": [
    "%%time\n",
    "trn_aucs, val_aucs = eval_tree(RandomForestClassifier(n_estimators=200, \n",
    "                        random_state=42, max_depth=7, n_jobs=-1),\n",
    "                    train.drop([id_col, target_col], axis=1), train[target_col], kfolds)"
   ]
  },
  {
   "cell_type": "code",
   "execution_count": 54,
   "metadata": {},
   "outputs": [
    {
     "name": "stdout",
     "output_type": "stream",
     "text": [
      "74.91 +/- 0.56 | 66.75 +/- 3.02\n"
     ]
    }
   ],
   "source": [
    "# n_estimators 200 | max_depth 7\n",
    "print_results(trn_aucs, val_aucs)"
   ]
  },
  {
   "cell_type": "code",
   "execution_count": 46,
   "metadata": {},
   "outputs": [
    {
     "name": "stdout",
     "output_type": "stream",
     "text": [
      "72.05 +/- 0.55 | 66.71 +/- 3.04\n"
     ]
    }
   ],
   "source": [
    "# n_estimators 200 | max_depth 6\n",
    "print_results(trn_aucs, val_aucs)"
   ]
  },
  {
   "cell_type": "markdown",
   "metadata": {},
   "source": [
    "## Extra Trees"
   ]
  },
  {
   "cell_type": "code",
   "execution_count": 74,
   "metadata": {},
   "outputs": [],
   "source": [
    "from sklearn.ensemble import ExtraTreesClassifier"
   ]
  },
  {
   "cell_type": "code",
   "execution_count": 95,
   "metadata": {},
   "outputs": [
    {
     "name": "stdout",
     "output_type": "stream",
     "text": [
      "Train AUC: 75.66 | Val AUC: 67.67\n",
      "Train AUC: 76.51 | Val AUC: 63.85\n",
      "Train AUC: 75.89 | Val AUC: 65.28\n",
      "Train AUC: 75.89 | Val AUC: 67.96\n",
      "Train AUC: 76.21 | Val AUC: 66.82\n",
      "\n",
      "CPU times: user 20 s, sys: 936 ms, total: 20.9 s\n",
      "Wall time: 5.03 s\n"
     ]
    }
   ],
   "source": [
    "%%time\n",
    "trn_aucs, val_aucs = eval_tree(ExtraTreesClassifier(n_estimators=400, \n",
    "                        random_state=42, max_depth=8, n_jobs=-1),\n",
    "                    train.drop([id_col, target_col], axis=1), train[target_col], kfolds)"
   ]
  },
  {
   "cell_type": "code",
   "execution_count": 84,
   "metadata": {},
   "outputs": [
    {
     "name": "stdout",
     "output_type": "stream",
     "text": [
      "75.97 +/- 0.60 | 66.34 +/- 2.96\n"
     ]
    }
   ],
   "source": [
    "# n_estimators 200 | max_depth 8\n",
    "print_results(trn_aucs, val_aucs)"
   ]
  },
  {
   "cell_type": "markdown",
   "metadata": {},
   "source": [
    "## XGBoost"
   ]
  },
  {
   "cell_type": "code",
   "execution_count": 143,
   "metadata": {},
   "outputs": [],
   "source": [
    "from src.utils import eval_xgb\n",
    "import xgboost as xgb"
   ]
  },
  {
   "cell_type": "code",
   "execution_count": 166,
   "metadata": {},
   "outputs": [
    {
     "name": "stdout",
     "output_type": "stream",
     "text": [
      "No. estimators: 15 | Train AUC: 68.32 | Val AUC: 68.00\n",
      "No. estimators: 38 | Train AUC: 72.18 | Val AUC: 64.42\n",
      "No. estimators: 16 | Train AUC: 69.48 | Val AUC: 66.02\n",
      "No. estimators: 43 | Train AUC: 72.26 | Val AUC: 66.56\n",
      "No. estimators: 13 | Train AUC: 68.08 | Val AUC: 67.74\n",
      "\n",
      "CPU times: user 1.75 s, sys: 0 ns, total: 1.75 s\n",
      "Wall time: 1.75 s\n"
     ]
    }
   ],
   "source": [
    "%%time\n",
    "trn_aucs, val_aucs = eval_xgb(xgb,\n",
    "                    train.drop([id_col, target_col], axis=1),\n",
    "                    train[target_col], kfolds)"
   ]
  },
  {
   "cell_type": "code",
   "execution_count": 167,
   "metadata": {},
   "outputs": [
    {
     "name": "stdout",
     "output_type": "stream",
     "text": [
      "70.07 +/- 3.65 | 66.55 +/- 2.58\n"
     ]
    }
   ],
   "source": [
    "# n_estimators 1000 | max_depth 3\n",
    "print_results(trn_aucs, val_aucs)"
   ]
  },
  {
   "cell_type": "code",
   "execution_count": 148,
   "metadata": {},
   "outputs": [
    {
     "name": "stdout",
     "output_type": "stream",
     "text": [
      "73.44 +/- 4.55 | 66.10 +/- 2.47\n"
     ]
    }
   ],
   "source": [
    "# n_estimators 1000 | max_depth 6\n",
    "print_results(trn_aucs, val_aucs)"
   ]
  },
  {
   "cell_type": "markdown",
   "metadata": {},
   "source": [
    "## Catboost"
   ]
  },
  {
   "cell_type": "code",
   "execution_count": 168,
   "metadata": {},
   "outputs": [],
   "source": [
    "from src.utils import eval_catboost\n",
    "from catboost import CatBoostClassifier"
   ]
  },
  {
   "cell_type": "code",
   "execution_count": 180,
   "metadata": {},
   "outputs": [
    {
     "name": "stdout",
     "output_type": "stream",
     "text": [
      "No. estimators: 489 | Train AUC: 71.69 | Val AUC: 68.96\n",
      "No. estimators: 568 | Train AUC: 72.72 | Val AUC: 64.28\n",
      "No. estimators: 366 | Train AUC: 71.03 | Val AUC: 66.64\n",
      "No. estimators: 429 | Train AUC: 71.04 | Val AUC: 67.69\n",
      "No. estimators: 409 | Train AUC: 71.93 | Val AUC: 68.16\n",
      "\n",
      "CPU times: user 12min 17s, sys: 51.3 s, total: 13min 8s\n",
      "Wall time: 1min 20s\n"
     ]
    }
   ],
   "source": [
    "%%time\n",
    "trn_aucs, val_aucs = eval_catboost(CatBoostClassifier(iterations=1000, \n",
    "                        random_seed=42, eval_metric='AUC', od_pval=1e-3,\n",
    "                        depth=7),\n",
    "                    train.drop([id_col, target_col], axis=1), \n",
    "                    train[target_col], kfolds, cat_indices)"
   ]
  },
  {
   "cell_type": "code",
   "execution_count": 181,
   "metadata": {},
   "outputs": [
    {
     "name": "stdout",
     "output_type": "stream",
     "text": [
      "71.68 +/- 1.26 | 67.15 +/- 3.23\n"
     ]
    }
   ],
   "source": [
    "# n_estimators 1000 | max_depth 7\n",
    "print_results(trn_aucs, val_aucs)"
   ]
  },
  {
   "cell_type": "code",
   "execution_count": 173,
   "metadata": {},
   "outputs": [
    {
     "name": "stdout",
     "output_type": "stream",
     "text": [
      "73.98 +/- 2.70 | 67.11 +/- 3.27\n"
     ]
    }
   ],
   "source": [
    "# n_estimators 1000 | max_depth 10\n",
    "print_results(trn_aucs, val_aucs)"
   ]
  },
  {
   "cell_type": "code",
   "execution_count": 171,
   "metadata": {},
   "outputs": [
    {
     "name": "stdout",
     "output_type": "stream",
     "text": [
      "71.66 +/- 2.83 | 67.00 +/- 3.29\n"
     ]
    }
   ],
   "source": [
    "# n_estimators 1000 | max_depth 6\n",
    "print_results(trn_aucs, val_aucs)"
   ]
  },
  {
   "cell_type": "markdown",
   "metadata": {},
   "source": [
    "## Neural Net"
   ]
  },
  {
   "cell_type": "code",
   "execution_count": 209,
   "metadata": {},
   "outputs": [],
   "source": [
    "from src.utils import eval_neuralnet\n",
    "from src.neuralnet import StructuredNet"
   ]
  },
  {
   "cell_type": "code",
   "execution_count": 217,
   "metadata": {},
   "outputs": [],
   "source": [
    "USE_CUDA = True"
   ]
  },
  {
   "cell_type": "code",
   "execution_count": 227,
   "metadata": {},
   "outputs": [
    {
     "name": "stdout",
     "output_type": "stream",
     "text": [
      "Epoch: 1 | Train AUC: 67.05 | Val AUC: 66.30\n",
      "Epoch: 2 | Train AUC: 68.04 | Val AUC: 65.89\n",
      "Epoch: 3 | Train AUC: 68.51 | Val AUC: 67.39\n",
      "Epoch: 4 | Train AUC: 69.80 | Val AUC: 66.85\n",
      "Epoch: 5 | Train AUC: 70.71 | Val AUC: 67.44\n",
      "Epoch: 6 | Train AUC: 71.76 | Val AUC: 66.89\n",
      "Epoch: 7 | Train AUC: 70.96 | Val AUC: 66.66\n",
      "Best epoch: 5 | Train AUC: 70.71 | Val AUC: 67.44\n",
      "\n",
      "Epoch: 1 | Train AUC: 66.57 | Val AUC: 61.91\n",
      "Epoch: 2 | Train AUC: 69.79 | Val AUC: 64.08\n",
      "Epoch: 3 | Train AUC: 69.64 | Val AUC: 63.50\n",
      "Epoch: 4 | Train AUC: 68.95 | Val AUC: 63.69\n",
      "Epoch: 5 | Train AUC: 71.01 | Val AUC: 63.01\n",
      "Epoch: 6 | Train AUC: 71.88 | Val AUC: 62.96\n",
      "Epoch: 7 | Train AUC: 72.65 | Val AUC: 63.25\n",
      "Best epoch: 2 | Train AUC: 69.79 | Val AUC: 64.08\n",
      "\n",
      "Epoch: 1 | Train AUC: 65.11 | Val AUC: 59.24\n",
      "Epoch: 2 | Train AUC: 68.55 | Val AUC: 63.00\n",
      "Epoch: 3 | Train AUC: 69.71 | Val AUC: 63.99\n",
      "Epoch: 4 | Train AUC: 70.23 | Val AUC: 64.15\n",
      "Epoch: 5 | Train AUC: 70.37 | Val AUC: 63.82\n",
      "Epoch: 6 | Train AUC: 71.72 | Val AUC: 63.96\n",
      "Epoch: 7 | Train AUC: 71.42 | Val AUC: 64.13\n",
      "Best epoch: 4 | Train AUC: 70.23 | Val AUC: 64.15\n",
      "\n",
      "Epoch: 1 | Train AUC: 67.53 | Val AUC: 64.84\n",
      "Epoch: 2 | Train AUC: 69.01 | Val AUC: 66.13\n",
      "Epoch: 3 | Train AUC: 69.61 | Val AUC: 64.14\n",
      "Epoch: 4 | Train AUC: 70.32 | Val AUC: 65.20\n",
      "Epoch: 5 | Train AUC: 71.36 | Val AUC: 64.38\n",
      "Epoch: 6 | Train AUC: 71.99 | Val AUC: 65.17\n",
      "Epoch: 7 | Train AUC: 72.96 | Val AUC: 65.73\n",
      "Best epoch: 2 | Train AUC: 69.01 | Val AUC: 66.13\n",
      "\n",
      "Epoch: 1 | Train AUC: 64.99 | Val AUC: 62.83\n",
      "Epoch: 2 | Train AUC: 69.58 | Val AUC: 67.08\n",
      "Epoch: 3 | Train AUC: 70.48 | Val AUC: 65.74\n",
      "Epoch: 4 | Train AUC: 70.88 | Val AUC: 66.77\n",
      "Epoch: 5 | Train AUC: 71.74 | Val AUC: 67.49\n",
      "Epoch: 6 | Train AUC: 72.06 | Val AUC: 66.87\n",
      "Epoch: 7 | Train AUC: 72.57 | Val AUC: 65.69\n",
      "Best epoch: 5 | Train AUC: 71.74 | Val AUC: 67.49\n",
      "\n",
      "\n"
     ]
    }
   ],
   "source": [
    "%%time\n",
    "trn_aucs, val_aucs = eval_neuralnet(\n",
    "                train.drop([id_col, target_col], axis=1), \n",
    "                train[target_col], kfolds, cat_cols, num_cols, USE_CUDA)"
   ]
  },
  {
   "cell_type": "code",
   "execution_count": 228,
   "metadata": {},
   "outputs": [
    {
     "name": "stdout",
     "output_type": "stream",
     "text": [
      "70.30 +/- 1.83 | 65.86 +/- 3.01\n"
     ]
    }
   ],
   "source": [
    "# szs [1000,500]\n",
    "print_results(trn_aucs, val_aucs)"
   ]
  },
  {
   "cell_type": "code",
   "execution_count": null,
   "metadata": {},
   "outputs": [],
   "source": []
  }
 ],
 "metadata": {
  "kernelspec": {
   "display_name": "Python 3",
   "language": "python",
   "name": "python3"
  },
  "language_info": {
   "codemirror_mode": {
    "name": "ipython",
    "version": 3
   },
   "file_extension": ".py",
   "mimetype": "text/x-python",
   "name": "python",
   "nbconvert_exporter": "python",
   "pygments_lexer": "ipython3",
   "version": "3.6.4"
  }
 },
 "nbformat": 4,
 "nbformat_minor": 2
}
