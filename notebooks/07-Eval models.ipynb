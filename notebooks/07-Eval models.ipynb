{
 "cells": [
  {
   "cell_type": "code",
   "execution_count": 1,
   "metadata": {},
   "outputs": [],
   "source": [
    "%load_ext autoreload\n",
    "%autoreload 2\n",
    "%matplotlib inline\n",
    "%config InlineBackend.figure_format = 'retina'\n",
    "\n",
    "import os\n",
    "import numpy as np, pandas as pd\n",
    "import matplotlib.pyplot as plt, seaborn as sns\n",
    "from tqdm import tqdm, tqdm_notebook\n",
    "from pathlib import Path\n",
    "# pd.set_option('display.max_columns', 1000)\n",
    "# pd.set_option('display.max_rows', 400)\n",
    "sns.set()\n",
    "\n",
    "os.chdir('..')"
   ]
  },
  {
   "cell_type": "code",
   "execution_count": 2,
   "metadata": {},
   "outputs": [],
   "source": [
    "DATA = Path('data')\n",
    "RAW  = DATA/'raw'\n",
    "SUBMISSIONS = DATA/'submissions'"
   ]
  },
  {
   "cell_type": "code",
   "execution_count": 3,
   "metadata": {},
   "outputs": [],
   "source": [
    "train      = pd.read_csv(RAW/'train_jqd04QH.csv', low_memory=False)\n",
    "test       = pd.read_csv(RAW/'test_GYi4Gz5.csv', low_memory=False)\n",
    "submission = pd.read_csv(RAW/'sample_submission_sxfcbdx.csv', low_memory=False)"
   ]
  },
  {
   "cell_type": "code",
   "execution_count": 4,
   "metadata": {},
   "outputs": [],
   "source": [
    "id_col = 'enrollee_id'\n",
    "cat_cols = ['city', 'gender', 'relevent_experience', 'enrolled_university', \n",
    "            'education_level', 'major_discipline', 'experience', 'company_size', \n",
    "            'company_type', 'last_new_job']\n",
    "num_cols = ['city_development_index', 'training_hours']\n",
    "target_col = 'target'"
   ]
  },
  {
   "cell_type": "code",
   "execution_count": 6,
   "metadata": {},
   "outputs": [],
   "source": [
    "from src.utils import preprocess"
   ]
  },
  {
   "cell_type": "code",
   "execution_count": 7,
   "metadata": {},
   "outputs": [
    {
     "name": "stdout",
     "output_type": "stream",
     "text": [
      "CPU times: user 108 ms, sys: 24 ms, total: 132 ms\n",
      "Wall time: 127 ms\n"
     ]
    }
   ],
   "source": [
    "%%time\n",
    "preprocess(train, test, cat_cols, num_cols)"
   ]
  },
  {
   "cell_type": "code",
   "execution_count": 10,
   "metadata": {},
   "outputs": [],
   "source": [
    "from lightgbm import LGBMClassifier\n",
    "from sklearn.model_selection import StratifiedKFold"
   ]
  },
  {
   "cell_type": "code",
   "execution_count": 11,
   "metadata": {},
   "outputs": [],
   "source": [
    "columns = list(train.drop([id_col, target_col], axis=1))\n",
    "cat_indices = [i for i, col in enumerate(columns) if col in cat_cols]"
   ]
  },
  {
   "cell_type": "code",
   "execution_count": 12,
   "metadata": {},
   "outputs": [],
   "source": [
    "kfolds = StratifiedKFold(n_splits=5, random_state=42)"
   ]
  },
  {
   "cell_type": "code",
   "execution_count": 13,
   "metadata": {},
   "outputs": [],
   "source": [
    "from src.utils import eval_gbm, print_results"
   ]
  },
  {
   "cell_type": "code",
   "execution_count": 31,
   "metadata": {},
   "outputs": [
    {
     "name": "stdout",
     "output_type": "stream",
     "text": [
      "No. estimators: 17 | Train AUC: 70.11 | Val AUC: 67.97\n",
      "No. estimators: 15 | Train AUC: 70.72 | Val AUC: 64.58\n",
      "No. estimators: 16 | Train AUC: 70.63 | Val AUC: 65.52\n",
      "No. estimators: 42 | Train AUC: 74.77 | Val AUC: 66.78\n",
      "No. estimators: 20 | Train AUC: 70.56 | Val AUC: 67.62\n",
      "\n",
      "CPU times: user 6.86 s, sys: 32 ms, total: 6.9 s\n",
      "Wall time: 669 ms\n"
     ]
    }
   ],
   "source": [
    "%%time\n",
    "trn_aucs, val_aucs = eval_gbm(LGBMClassifier(n_estimators=1000, \n",
    "                        random_state=42, max_depth=5),\n",
    "                    train.drop([id_col, target_col], axis=1), train[target_col], kfolds)"
   ]
  },
  {
   "cell_type": "code",
   "execution_count": 32,
   "metadata": {},
   "outputs": [
    {
     "name": "stdout",
     "output_type": "stream",
     "text": [
      "71.36 +/- 3.44 | 66.49 +/- 2.55\n"
     ]
    }
   ],
   "source": [
    "# max_depth 5\n",
    "print_results(trn_aucs, val_aucs)"
   ]
  },
  {
   "cell_type": "code",
   "execution_count": 28,
   "metadata": {},
   "outputs": [
    {
     "name": "stdout",
     "output_type": "stream",
     "text": [
      "73.03 +/- 8.27 | 66.42 +/- 2.46\n"
     ]
    }
   ],
   "source": [
    "# max_depth 10\n",
    "print_results(trn_aucs, val_aucs)"
   ]
  },
  {
   "cell_type": "code",
   "execution_count": 26,
   "metadata": {},
   "outputs": [
    {
     "name": "stdout",
     "output_type": "stream",
     "text": [
      "72.70 +/- 6.57 | 66.38 +/- 2.41\n"
     ]
    }
   ],
   "source": [
    "print_results(trn_aucs, val_aucs)"
   ]
  },
  {
   "cell_type": "markdown",
   "metadata": {},
   "source": [
    "## Random Forest"
   ]
  },
  {
   "cell_type": "code",
   "execution_count": 35,
   "metadata": {},
   "outputs": [],
   "source": [
    "from src.utils import eval_tree\n",
    "from sklearn.ensemble import RandomForestClassifier"
   ]
  },
  {
   "cell_type": "code",
   "execution_count": 72,
   "metadata": {},
   "outputs": [
    {
     "name": "stdout",
     "output_type": "stream",
     "text": [
      "Train AUC: 74.58 | Val AUC: 68.76\n",
      "Train AUC: 75.43 | Val AUC: 64.34\n",
      "Train AUC: 74.85 | Val AUC: 65.94\n",
      "Train AUC: 74.81 | Val AUC: 67.64\n",
      "Train AUC: 74.91 | Val AUC: 67.07\n",
      "\n",
      "CPU times: user 13.3 s, sys: 576 ms, total: 13.9 s\n",
      "Wall time: 3.3 s\n"
     ]
    }
   ],
   "source": [
    "%%time\n",
    "trn_aucs, val_aucs = eval_tree(RandomForestClassifier(n_estimators=200, \n",
    "                        random_state=42, max_depth=7, n_jobs=-1),\n",
    "                    train.drop([id_col, target_col], axis=1), train[target_col], kfolds)"
   ]
  },
  {
   "cell_type": "code",
   "execution_count": 54,
   "metadata": {},
   "outputs": [
    {
     "name": "stdout",
     "output_type": "stream",
     "text": [
      "74.91 +/- 0.56 | 66.75 +/- 3.02\n"
     ]
    }
   ],
   "source": [
    "# n_estimators 200 | max_depth 7\n",
    "print_results(trn_aucs, val_aucs)"
   ]
  },
  {
   "cell_type": "code",
   "execution_count": 46,
   "metadata": {},
   "outputs": [
    {
     "name": "stdout",
     "output_type": "stream",
     "text": [
      "72.05 +/- 0.55 | 66.71 +/- 3.04\n"
     ]
    }
   ],
   "source": [
    "# n_estimators 200 | max_depth 6\n",
    "print_results(trn_aucs, val_aucs)"
   ]
  },
  {
   "cell_type": "markdown",
   "metadata": {},
   "source": [
    "## Extra Trees"
   ]
  },
  {
   "cell_type": "code",
   "execution_count": 74,
   "metadata": {},
   "outputs": [],
   "source": [
    "from sklearn.ensemble import ExtraTreesClassifier"
   ]
  },
  {
   "cell_type": "code",
   "execution_count": 95,
   "metadata": {},
   "outputs": [
    {
     "name": "stdout",
     "output_type": "stream",
     "text": [
      "Train AUC: 75.66 | Val AUC: 67.67\n",
      "Train AUC: 76.51 | Val AUC: 63.85\n",
      "Train AUC: 75.89 | Val AUC: 65.28\n",
      "Train AUC: 75.89 | Val AUC: 67.96\n",
      "Train AUC: 76.21 | Val AUC: 66.82\n",
      "\n",
      "CPU times: user 20 s, sys: 936 ms, total: 20.9 s\n",
      "Wall time: 5.03 s\n"
     ]
    }
   ],
   "source": [
    "%%time\n",
    "trn_aucs, val_aucs = eval_tree(ExtraTreesClassifier(n_estimators=400, \n",
    "                        random_state=42, max_depth=8, n_jobs=-1),\n",
    "                    train.drop([id_col, target_col], axis=1), train[target_col], kfolds)"
   ]
  },
  {
   "cell_type": "code",
   "execution_count": 84,
   "metadata": {},
   "outputs": [
    {
     "name": "stdout",
     "output_type": "stream",
     "text": [
      "75.97 +/- 0.60 | 66.34 +/- 2.96\n"
     ]
    }
   ],
   "source": [
    "# n_estimators 200 | max_depth 8\n",
    "print_results(trn_aucs, val_aucs)"
   ]
  },
  {
   "cell_type": "code",
   "execution_count": null,
   "metadata": {},
   "outputs": [],
   "source": []
  }
 ],
 "metadata": {
  "kernelspec": {
   "display_name": "Python 3",
   "language": "python",
   "name": "python3"
  },
  "language_info": {
   "codemirror_mode": {
    "name": "ipython",
    "version": 3
   },
   "file_extension": ".py",
   "mimetype": "text/x-python",
   "name": "python",
   "nbconvert_exporter": "python",
   "pygments_lexer": "ipython3",
   "version": "3.6.4"
  }
 },
 "nbformat": 4,
 "nbformat_minor": 2
}
