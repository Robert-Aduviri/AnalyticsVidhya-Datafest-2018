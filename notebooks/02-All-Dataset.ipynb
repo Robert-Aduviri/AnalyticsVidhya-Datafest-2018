{
 "cells": [
  {
   "cell_type": "code",
   "execution_count": 1,
   "metadata": {},
   "outputs": [],
   "source": [
    "%load_ext autoreload\n",
    "%autoreload 2\n",
    "%matplotlib inline\n",
    "%config InlineBackend.figure_format = 'retina'\n",
    "\n",
    "import os\n",
    "import numpy as np, pandas as pd\n",
    "import matplotlib.pyplot as plt, seaborn as sns\n",
    "from tqdm import tqdm, tqdm_notebook\n",
    "from pathlib import Path\n",
    "# pd.set_option('display.max_columns', 1000)\n",
    "# pd.set_option('display.max_rows', 400)\n",
    "sns.set()\n",
    "\n",
    "os.chdir('..')"
   ]
  },
  {
   "cell_type": "code",
   "execution_count": 2,
   "metadata": {},
   "outputs": [],
   "source": [
    "DATA = Path('data')\n",
    "RAW  = DATA/'raw'\n",
    "SUBMISSIONS = DATA/'submissions'"
   ]
  },
  {
   "cell_type": "code",
   "execution_count": 3,
   "metadata": {},
   "outputs": [],
   "source": [
    "train      = pd.read_csv(RAW/'train_jqd04QH.csv', low_memory=False)\n",
    "test       = pd.read_csv(RAW/'test_GYi4Gz5.csv', low_memory=False)\n",
    "submission = pd.read_csv(RAW/'sample_submission_sxfcbdx.csv', low_memory=False)"
   ]
  },
  {
   "cell_type": "code",
   "execution_count": 4,
   "metadata": {},
   "outputs": [],
   "source": [
    "id_col = 'enrollee_id'\n",
    "cat_cols = ['city', 'gender', 'relevent_experience', 'enrolled_university', \n",
    "            'education_level', 'major_discipline', 'experience', 'company_size', \n",
    "            'company_type', 'last_new_job']\n",
    "num_cols = ['city_development_index', 'training_hours']\n",
    "target_col = 'target'"
   ]
  },
  {
   "cell_type": "code",
   "execution_count": 7,
   "metadata": {},
   "outputs": [
    {
     "name": "stdout",
     "output_type": "stream",
     "text": [
      "CPU times: user 69.6 ms, sys: 0 ns, total: 69.6 ms\n",
      "Wall time: 72.7 ms\n"
     ]
    }
   ],
   "source": [
    "%%time\n",
    "from src.utils import to_cat_codes, apply_cats\n",
    "to_cat_codes(train, cat_cols)\n",
    "apply_cats(test, train)\n",
    "for col in cat_cols:\n",
    "    train[col] = train[col].cat.codes\n",
    "    test[col] = test[col].cat.codes"
   ]
  },
  {
   "cell_type": "code",
   "execution_count": 8,
   "metadata": {},
   "outputs": [],
   "source": [
    "from lightgbm import LGBMClassifier"
   ]
  },
  {
   "cell_type": "code",
   "execution_count": 9,
   "metadata": {},
   "outputs": [],
   "source": [
    "model = LGBMClassifier(n_estimators=30)\n",
    "model.fit(train.drop([id_col, target_col], axis=1), train[target_col])\n",
    "y_test = model.predict_proba(test.drop(id_col, axis=1))[:,1]"
   ]
  },
  {
   "cell_type": "code",
   "execution_count": 10,
   "metadata": {},
   "outputs": [],
   "source": [
    "test[target_col] = y_test\n",
    "submission = pd.read_csv(RAW/'sample_submission_sxfcbdx.csv', low_memory=False)\n",
    "submission = pd.merge(submission[[id_col]], test[[id_col, target_col]], how='left', on=id_col)"
   ]
  },
  {
   "cell_type": "code",
   "execution_count": 11,
   "metadata": {},
   "outputs": [
    {
     "data": {
      "text/plain": [
       "count    15021.000000\n",
       "mean         0.132557\n",
       "std          0.071616\n",
       "min          0.043419\n",
       "25%          0.081322\n",
       "50%          0.102207\n",
       "75%          0.166309\n",
       "max          0.583009\n",
       "Name: target, dtype: float64"
      ]
     },
     "execution_count": 11,
     "metadata": {},
     "output_type": "execute_result"
    }
   ],
   "source": [
    "submission[target_col].describe()"
   ]
  },
  {
   "cell_type": "code",
   "execution_count": 12,
   "metadata": {},
   "outputs": [],
   "source": [
    "submission.to_csv(SUBMISSIONS/'03-lgbm_alldata.csv', index=False)"
   ]
  },
  {
   "cell_type": "markdown",
   "metadata": {},
   "source": [
    "## Catboost"
   ]
  },
  {
   "cell_type": "code",
   "execution_count": 13,
   "metadata": {},
   "outputs": [],
   "source": [
    "columns = list(train.drop([id_col, target_col], axis=1))\n",
    "cat_indices = [i for i, col in enumerate(columns) if col in cat_cols]"
   ]
  },
  {
   "cell_type": "code",
   "execution_count": 14,
   "metadata": {},
   "outputs": [],
   "source": [
    "from catboost import CatBoostClassifier"
   ]
  },
  {
   "cell_type": "code",
   "execution_count": 21,
   "metadata": {},
   "outputs": [
    {
     "name": "stdout",
     "output_type": "stream",
     "text": [
      "Learning rate set to 0.131289\n",
      "0:\ttotal: 21.4ms\tremaining: 5.32s\n",
      "1:\ttotal: 34.5ms\tremaining: 4.28s\n",
      "2:\ttotal: 54.5ms\tremaining: 4.49s\n",
      "3:\ttotal: 118ms\tremaining: 7.28s\n",
      "4:\ttotal: 132ms\tremaining: 6.45s\n",
      "5:\ttotal: 168ms\tremaining: 6.84s\n",
      "6:\ttotal: 183ms\tremaining: 6.36s\n",
      "7:\ttotal: 236ms\tremaining: 7.15s\n",
      "8:\ttotal: 285ms\tremaining: 7.63s\n",
      "9:\ttotal: 312ms\tremaining: 7.48s\n",
      "10:\ttotal: 374ms\tremaining: 8.12s\n",
      "11:\ttotal: 392ms\tremaining: 7.78s\n",
      "12:\ttotal: 437ms\tremaining: 7.96s\n",
      "13:\ttotal: 492ms\tremaining: 8.3s\n",
      "14:\ttotal: 545ms\tremaining: 8.54s\n",
      "15:\ttotal: 607ms\tremaining: 8.87s\n",
      "16:\ttotal: 634ms\tremaining: 8.69s\n",
      "17:\ttotal: 695ms\tremaining: 8.95s\n",
      "18:\ttotal: 757ms\tremaining: 9.2s\n",
      "19:\ttotal: 817ms\tremaining: 9.4s\n",
      "20:\ttotal: 836ms\tremaining: 9.11s\n",
      "21:\ttotal: 893ms\tremaining: 9.25s\n",
      "22:\ttotal: 948ms\tremaining: 9.36s\n",
      "23:\ttotal: 997ms\tremaining: 9.39s\n",
      "24:\ttotal: 1.01s\tremaining: 9.14s\n",
      "25:\ttotal: 1.04s\tremaining: 8.98s\n",
      "26:\ttotal: 1.1s\tremaining: 9.07s\n",
      "27:\ttotal: 1.16s\tremaining: 9.23s\n",
      "28:\ttotal: 1.25s\tremaining: 9.49s\n",
      "29:\ttotal: 1.3s\tremaining: 9.56s\n",
      "30:\ttotal: 1.36s\tremaining: 9.59s\n",
      "31:\ttotal: 1.39s\tremaining: 9.49s\n",
      "32:\ttotal: 1.47s\tremaining: 9.69s\n",
      "33:\ttotal: 1.55s\tremaining: 9.82s\n",
      "34:\ttotal: 1.62s\tremaining: 9.98s\n",
      "35:\ttotal: 1.73s\tremaining: 10.3s\n",
      "36:\ttotal: 1.84s\tremaining: 10.6s\n",
      "37:\ttotal: 1.92s\tremaining: 10.7s\n",
      "38:\ttotal: 2s\tremaining: 10.8s\n",
      "39:\ttotal: 2.08s\tremaining: 10.9s\n",
      "40:\ttotal: 2.22s\tremaining: 11.3s\n",
      "41:\ttotal: 2.32s\tremaining: 11.5s\n",
      "42:\ttotal: 2.39s\tremaining: 11.5s\n",
      "43:\ttotal: 2.45s\tremaining: 11.5s\n",
      "44:\ttotal: 2.51s\tremaining: 11.4s\n",
      "45:\ttotal: 2.55s\tremaining: 11.3s\n",
      "46:\ttotal: 2.63s\tremaining: 11.4s\n",
      "47:\ttotal: 2.69s\tremaining: 11.3s\n",
      "48:\ttotal: 2.75s\tremaining: 11.3s\n",
      "49:\ttotal: 2.84s\tremaining: 11.4s\n",
      "50:\ttotal: 2.9s\tremaining: 11.3s\n",
      "51:\ttotal: 2.96s\tremaining: 11.3s\n",
      "52:\ttotal: 3.02s\tremaining: 11.2s\n",
      "53:\ttotal: 3.09s\tremaining: 11.2s\n",
      "54:\ttotal: 3.17s\tremaining: 11.2s\n",
      "55:\ttotal: 3.23s\tremaining: 11.2s\n",
      "56:\ttotal: 3.26s\tremaining: 11s\n",
      "57:\ttotal: 3.42s\tremaining: 11.3s\n",
      "58:\ttotal: 3.58s\tremaining: 11.6s\n",
      "59:\ttotal: 3.65s\tremaining: 11.6s\n",
      "60:\ttotal: 3.72s\tremaining: 11.5s\n",
      "61:\ttotal: 3.79s\tremaining: 11.5s\n",
      "62:\ttotal: 3.88s\tremaining: 11.5s\n",
      "63:\ttotal: 3.98s\tremaining: 11.6s\n",
      "64:\ttotal: 4.08s\tremaining: 11.6s\n",
      "65:\ttotal: 4.21s\tremaining: 11.8s\n",
      "66:\ttotal: 4.32s\tremaining: 11.8s\n",
      "67:\ttotal: 4.46s\tremaining: 11.9s\n",
      "68:\ttotal: 4.58s\tremaining: 12s\n",
      "69:\ttotal: 4.71s\tremaining: 12.1s\n",
      "70:\ttotal: 4.85s\tremaining: 12.2s\n",
      "71:\ttotal: 4.94s\tremaining: 12.2s\n",
      "72:\ttotal: 5.03s\tremaining: 12.2s\n",
      "73:\ttotal: 5.13s\tremaining: 12.2s\n",
      "74:\ttotal: 5.24s\tremaining: 12.2s\n",
      "75:\ttotal: 5.35s\tremaining: 12.3s\n",
      "76:\ttotal: 5.46s\tremaining: 12.3s\n",
      "77:\ttotal: 5.54s\tremaining: 12.2s\n",
      "78:\ttotal: 5.6s\tremaining: 12.1s\n",
      "79:\ttotal: 5.66s\tremaining: 12s\n",
      "80:\ttotal: 5.74s\tremaining: 12s\n",
      "81:\ttotal: 5.8s\tremaining: 11.9s\n",
      "82:\ttotal: 5.86s\tremaining: 11.8s\n",
      "83:\ttotal: 5.93s\tremaining: 11.7s\n",
      "84:\ttotal: 6.03s\tremaining: 11.7s\n",
      "85:\ttotal: 6.18s\tremaining: 11.8s\n",
      "86:\ttotal: 6.26s\tremaining: 11.7s\n",
      "87:\ttotal: 6.34s\tremaining: 11.7s\n",
      "88:\ttotal: 6.4s\tremaining: 11.6s\n",
      "89:\ttotal: 6.46s\tremaining: 11.5s\n",
      "90:\ttotal: 6.54s\tremaining: 11.4s\n",
      "91:\ttotal: 6.61s\tremaining: 11.3s\n",
      "92:\ttotal: 6.67s\tremaining: 11.3s\n",
      "93:\ttotal: 6.75s\tremaining: 11.2s\n",
      "94:\ttotal: 6.81s\tremaining: 11.1s\n",
      "95:\ttotal: 6.86s\tremaining: 11s\n",
      "96:\ttotal: 6.94s\tremaining: 10.9s\n",
      "97:\ttotal: 7s\tremaining: 10.9s\n",
      "98:\ttotal: 7.05s\tremaining: 10.8s\n",
      "99:\ttotal: 7.11s\tremaining: 10.7s\n",
      "100:\ttotal: 7.19s\tremaining: 10.6s\n",
      "101:\ttotal: 7.25s\tremaining: 10.5s\n",
      "102:\ttotal: 7.3s\tremaining: 10.4s\n",
      "103:\ttotal: 7.36s\tremaining: 10.3s\n",
      "104:\ttotal: 7.42s\tremaining: 10.3s\n",
      "105:\ttotal: 7.51s\tremaining: 10.2s\n",
      "106:\ttotal: 7.7s\tremaining: 10.3s\n",
      "107:\ttotal: 7.85s\tremaining: 10.3s\n",
      "108:\ttotal: 7.97s\tremaining: 10.3s\n",
      "109:\ttotal: 8.06s\tremaining: 10.3s\n",
      "110:\ttotal: 8.13s\tremaining: 10.2s\n",
      "111:\ttotal: 8.29s\tremaining: 10.2s\n",
      "112:\ttotal: 8.48s\tremaining: 10.3s\n",
      "113:\ttotal: 8.61s\tremaining: 10.3s\n",
      "114:\ttotal: 8.69s\tremaining: 10.2s\n",
      "115:\ttotal: 8.78s\tremaining: 10.1s\n",
      "116:\ttotal: 8.89s\tremaining: 10.1s\n",
      "117:\ttotal: 8.97s\tremaining: 10s\n",
      "118:\ttotal: 9.05s\tremaining: 9.96s\n",
      "119:\ttotal: 9.14s\tremaining: 9.91s\n",
      "120:\ttotal: 9.25s\tremaining: 9.86s\n",
      "121:\ttotal: 9.34s\tremaining: 9.79s\n",
      "122:\ttotal: 9.45s\tremaining: 9.76s\n",
      "123:\ttotal: 9.53s\tremaining: 9.68s\n",
      "124:\ttotal: 9.67s\tremaining: 9.67s\n",
      "125:\ttotal: 9.83s\tremaining: 9.68s\n",
      "126:\ttotal: 9.97s\tremaining: 9.65s\n",
      "127:\ttotal: 10.1s\tremaining: 9.6s\n",
      "128:\ttotal: 10.2s\tremaining: 9.53s\n",
      "129:\ttotal: 10.3s\tremaining: 9.48s\n",
      "130:\ttotal: 10.4s\tremaining: 9.44s\n",
      "131:\ttotal: 10.5s\tremaining: 9.36s\n",
      "132:\ttotal: 10.6s\tremaining: 9.28s\n",
      "133:\ttotal: 10.6s\tremaining: 9.19s\n",
      "134:\ttotal: 10.7s\tremaining: 9.09s\n",
      "135:\ttotal: 10.7s\tremaining: 8.99s\n",
      "136:\ttotal: 10.8s\tremaining: 8.92s\n",
      "137:\ttotal: 10.9s\tremaining: 8.83s\n",
      "138:\ttotal: 10.9s\tremaining: 8.74s\n",
      "139:\ttotal: 11s\tremaining: 8.65s\n",
      "140:\ttotal: 11.1s\tremaining: 8.57s\n",
      "141:\ttotal: 11.2s\tremaining: 8.49s\n",
      "142:\ttotal: 11.2s\tremaining: 8.4s\n",
      "143:\ttotal: 11.3s\tremaining: 8.31s\n",
      "144:\ttotal: 11.4s\tremaining: 8.24s\n",
      "145:\ttotal: 11.4s\tremaining: 8.15s\n",
      "146:\ttotal: 11.5s\tremaining: 8.06s\n",
      "147:\ttotal: 11.6s\tremaining: 7.98s\n",
      "148:\ttotal: 11.6s\tremaining: 7.89s\n",
      "149:\ttotal: 11.7s\tremaining: 7.8s\n",
      "150:\ttotal: 11.8s\tremaining: 7.74s\n",
      "151:\ttotal: 11.9s\tremaining: 7.66s\n",
      "152:\ttotal: 12s\tremaining: 7.6s\n",
      "153:\ttotal: 12.1s\tremaining: 7.55s\n",
      "154:\ttotal: 12.2s\tremaining: 7.49s\n",
      "155:\ttotal: 12.3s\tremaining: 7.4s\n",
      "156:\ttotal: 12.4s\tremaining: 7.32s\n",
      "157:\ttotal: 12.5s\tremaining: 7.26s\n",
      "158:\ttotal: 12.6s\tremaining: 7.2s\n",
      "159:\ttotal: 12.7s\tremaining: 7.14s\n",
      "160:\ttotal: 12.8s\tremaining: 7.05s\n",
      "161:\ttotal: 12.8s\tremaining: 6.97s\n",
      "162:\ttotal: 12.9s\tremaining: 6.88s\n",
      "163:\ttotal: 13s\tremaining: 6.8s\n",
      "164:\ttotal: 13s\tremaining: 6.71s\n",
      "165:\ttotal: 13.1s\tremaining: 6.63s\n",
      "166:\ttotal: 13.2s\tremaining: 6.54s\n",
      "167:\ttotal: 13.2s\tremaining: 6.46s\n",
      "168:\ttotal: 13.3s\tremaining: 6.37s\n",
      "169:\ttotal: 13.4s\tremaining: 6.29s\n",
      "170:\ttotal: 13.4s\tremaining: 6.21s\n",
      "171:\ttotal: 13.5s\tremaining: 6.12s\n",
      "172:\ttotal: 13.6s\tremaining: 6.04s\n",
      "173:\ttotal: 13.7s\tremaining: 5.98s\n",
      "174:\ttotal: 13.8s\tremaining: 5.9s\n",
      "175:\ttotal: 13.8s\tremaining: 5.82s\n",
      "176:\ttotal: 14s\tremaining: 5.76s\n",
      "177:\ttotal: 14.1s\tremaining: 5.68s\n",
      "178:\ttotal: 14.1s\tremaining: 5.61s\n",
      "179:\ttotal: 14.2s\tremaining: 5.54s\n",
      "180:\ttotal: 14.3s\tremaining: 5.46s\n",
      "181:\ttotal: 14.4s\tremaining: 5.38s\n",
      "182:\ttotal: 14.5s\tremaining: 5.32s\n",
      "183:\ttotal: 14.6s\tremaining: 5.24s\n",
      "184:\ttotal: 14.7s\tremaining: 5.16s\n",
      "185:\ttotal: 14.8s\tremaining: 5.09s\n",
      "186:\ttotal: 14.9s\tremaining: 5.01s\n",
      "187:\ttotal: 15s\tremaining: 4.93s\n",
      "188:\ttotal: 15.1s\tremaining: 4.87s\n",
      "189:\ttotal: 15.2s\tremaining: 4.79s\n",
      "190:\ttotal: 15.3s\tremaining: 4.72s\n",
      "191:\ttotal: 15.4s\tremaining: 4.65s\n",
      "192:\ttotal: 15.5s\tremaining: 4.57s\n",
      "193:\ttotal: 15.6s\tremaining: 4.49s\n",
      "194:\ttotal: 15.7s\tremaining: 4.42s\n",
      "195:\ttotal: 15.8s\tremaining: 4.34s\n",
      "196:\ttotal: 15.8s\tremaining: 4.26s\n",
      "197:\ttotal: 15.9s\tremaining: 4.18s\n",
      "198:\ttotal: 16s\tremaining: 4.11s\n",
      "199:\ttotal: 16.1s\tremaining: 4.03s\n",
      "200:\ttotal: 16.2s\tremaining: 3.96s\n",
      "201:\ttotal: 16.3s\tremaining: 3.88s\n",
      "202:\ttotal: 16.4s\tremaining: 3.8s\n",
      "203:\ttotal: 16.6s\tremaining: 3.73s\n",
      "204:\ttotal: 16.6s\tremaining: 3.65s\n",
      "205:\ttotal: 16.7s\tremaining: 3.56s\n",
      "206:\ttotal: 16.8s\tremaining: 3.48s\n",
      "207:\ttotal: 16.9s\tremaining: 3.4s\n",
      "208:\ttotal: 16.9s\tremaining: 3.32s\n",
      "209:\ttotal: 17s\tremaining: 3.23s\n",
      "210:\ttotal: 17.1s\tremaining: 3.15s\n",
      "211:\ttotal: 17.1s\tremaining: 3.07s\n",
      "212:\ttotal: 17.2s\tremaining: 2.99s\n",
      "213:\ttotal: 17.3s\tremaining: 2.91s\n",
      "214:\ttotal: 17.4s\tremaining: 2.83s\n",
      "215:\ttotal: 17.4s\tremaining: 2.75s\n",
      "216:\ttotal: 17.5s\tremaining: 2.67s\n",
      "217:\ttotal: 17.6s\tremaining: 2.59s\n",
      "218:\ttotal: 17.7s\tremaining: 2.51s\n",
      "219:\ttotal: 17.9s\tremaining: 2.44s\n",
      "220:\ttotal: 18s\tremaining: 2.36s\n",
      "221:\ttotal: 18.1s\tremaining: 2.29s\n",
      "222:\ttotal: 18.2s\tremaining: 2.21s\n",
      "223:\ttotal: 18.4s\tremaining: 2.13s\n",
      "224:\ttotal: 18.5s\tremaining: 2.06s\n",
      "225:\ttotal: 18.7s\tremaining: 1.98s\n",
      "226:\ttotal: 18.8s\tremaining: 1.9s\n",
      "227:\ttotal: 18.9s\tremaining: 1.82s\n",
      "228:\ttotal: 19.1s\tremaining: 1.75s\n",
      "229:\ttotal: 19.2s\tremaining: 1.67s\n",
      "230:\ttotal: 19.4s\tremaining: 1.59s\n",
      "231:\ttotal: 19.5s\tremaining: 1.51s\n",
      "232:\ttotal: 19.6s\tremaining: 1.43s\n",
      "233:\ttotal: 19.6s\tremaining: 1.34s\n",
      "234:\ttotal: 19.7s\tremaining: 1.26s\n",
      "235:\ttotal: 19.8s\tremaining: 1.18s\n",
      "236:\ttotal: 19.9s\tremaining: 1.09s\n",
      "237:\ttotal: 20s\tremaining: 1.01s\n",
      "238:\ttotal: 20.1s\tremaining: 926ms\n",
      "239:\ttotal: 20.2s\tremaining: 843ms\n",
      "240:\ttotal: 20.3s\tremaining: 759ms\n",
      "241:\ttotal: 20.4s\tremaining: 676ms\n",
      "242:\ttotal: 20.6s\tremaining: 592ms\n",
      "243:\ttotal: 20.7s\tremaining: 508ms\n",
      "244:\ttotal: 20.8s\tremaining: 424ms\n",
      "245:\ttotal: 20.9s\tremaining: 339ms\n",
      "246:\ttotal: 21s\tremaining: 255ms\n",
      "247:\ttotal: 21.1s\tremaining: 170ms\n",
      "248:\ttotal: 21.2s\tremaining: 85ms\n",
      "249:\ttotal: 21.2s\tremaining: 0us\n"
     ]
    }
   ],
   "source": [
    "model = CatBoostClassifier(iterations=250, eval_metric='AUC')\n",
    "model.fit(train.drop([id_col, target_col], axis=1), train[target_col],\n",
    "          cat_features=cat_indices)\n",
    "y_test = model.predict_proba(test.drop(id_col, axis=1))[:,1]"
   ]
  },
  {
   "cell_type": "code",
   "execution_count": 22,
   "metadata": {},
   "outputs": [],
   "source": [
    "test[target_col] = y_test\n",
    "submission = pd.read_csv(RAW/'sample_submission_sxfcbdx.csv', low_memory=False)\n",
    "submission = pd.merge(submission[[id_col]], test[[id_col, target_col]], how='left', on=id_col)"
   ]
  },
  {
   "cell_type": "code",
   "execution_count": 23,
   "metadata": {},
   "outputs": [
    {
     "data": {
      "text/plain": [
       "count    15021.000000\n",
       "mean         0.130054\n",
       "std          0.079425\n",
       "min          0.024847\n",
       "25%          0.074289\n",
       "50%          0.101135\n",
       "75%          0.159420\n",
       "max          0.678199\n",
       "Name: target, dtype: float64"
      ]
     },
     "execution_count": 23,
     "metadata": {},
     "output_type": "execute_result"
    }
   ],
   "source": [
    "submission[target_col].describe()"
   ]
  },
  {
   "cell_type": "code",
   "execution_count": 24,
   "metadata": {},
   "outputs": [],
   "source": [
    "submission.to_csv(SUBMISSIONS/'04-catboost_alldata.csv', index=False)"
   ]
  },
  {
   "cell_type": "markdown",
   "metadata": {},
   "source": [
    "## Feature importance"
   ]
  },
  {
   "cell_type": "code",
   "execution_count": 25,
   "metadata": {},
   "outputs": [],
   "source": [
    "X_train = train.drop([id_col, target_col], axis=1)\n",
    "y_train = train[target_col]"
   ]
  },
  {
   "cell_type": "code",
   "execution_count": 27,
   "metadata": {},
   "outputs": [],
   "source": [
    "y_pred = model.predict_proba(X_train)[:,1]"
   ]
  },
  {
   "cell_type": "code",
   "execution_count": 28,
   "metadata": {},
   "outputs": [
    {
     "data": {
      "text/plain": [
       "0.7185407072214121"
      ]
     },
     "execution_count": 28,
     "metadata": {},
     "output_type": "execute_result"
    }
   ],
   "source": [
    "from sklearn.metrics import roc_auc_score\n",
    "roc_auc_score(y_train, y_pred)"
   ]
  },
  {
   "cell_type": "code",
   "execution_count": 30,
   "metadata": {},
   "outputs": [],
   "source": [
    "from catboost import Pool"
   ]
  },
  {
   "cell_type": "code",
   "execution_count": 31,
   "metadata": {},
   "outputs": [],
   "source": [
    "feature_score = pd.DataFrame(list(zip(X_train.dtypes.index, \n",
    "                                      model.get_feature_importance(\n",
    "                                          Pool(X_train, label=y_train, \n",
    "                                               cat_features=cat_indices)))),\n",
    "                columns=['Feature','Score'])\n",
    "\n",
    "feature_score = feature_score.sort_values(by='Score', ascending=False, \n",
    "                                inplace=False, na_position='last')"
   ]
  },
  {
   "cell_type": "code",
   "execution_count": 32,
   "metadata": {},
   "outputs": [
    {
     "data": {
      "text/html": [
       "<div>\n",
       "<style scoped>\n",
       "    .dataframe tbody tr th:only-of-type {\n",
       "        vertical-align: middle;\n",
       "    }\n",
       "\n",
       "    .dataframe tbody tr th {\n",
       "        vertical-align: top;\n",
       "    }\n",
       "\n",
       "    .dataframe thead th {\n",
       "        text-align: right;\n",
       "    }\n",
       "</style>\n",
       "<table border=\"1\" class=\"dataframe\">\n",
       "  <thead>\n",
       "    <tr style=\"text-align: right;\">\n",
       "      <th></th>\n",
       "      <th>Feature</th>\n",
       "      <th>Score</th>\n",
       "    </tr>\n",
       "  </thead>\n",
       "  <tbody>\n",
       "    <tr>\n",
       "      <th>8</th>\n",
       "      <td>company_size</td>\n",
       "      <td>15.128464</td>\n",
       "    </tr>\n",
       "    <tr>\n",
       "      <th>1</th>\n",
       "      <td>city_development_index</td>\n",
       "      <td>13.225232</td>\n",
       "    </tr>\n",
       "    <tr>\n",
       "      <th>0</th>\n",
       "      <td>city</td>\n",
       "      <td>10.724164</td>\n",
       "    </tr>\n",
       "    <tr>\n",
       "      <th>7</th>\n",
       "      <td>experience</td>\n",
       "      <td>10.046123</td>\n",
       "    </tr>\n",
       "    <tr>\n",
       "      <th>10</th>\n",
       "      <td>last_new_job</td>\n",
       "      <td>8.754895</td>\n",
       "    </tr>\n",
       "    <tr>\n",
       "      <th>11</th>\n",
       "      <td>training_hours</td>\n",
       "      <td>8.076460</td>\n",
       "    </tr>\n",
       "    <tr>\n",
       "      <th>4</th>\n",
       "      <td>enrolled_university</td>\n",
       "      <td>7.009541</td>\n",
       "    </tr>\n",
       "    <tr>\n",
       "      <th>9</th>\n",
       "      <td>company_type</td>\n",
       "      <td>7.001064</td>\n",
       "    </tr>\n",
       "    <tr>\n",
       "      <th>5</th>\n",
       "      <td>education_level</td>\n",
       "      <td>6.873994</td>\n",
       "    </tr>\n",
       "    <tr>\n",
       "      <th>6</th>\n",
       "      <td>major_discipline</td>\n",
       "      <td>5.418725</td>\n",
       "    </tr>\n",
       "    <tr>\n",
       "      <th>2</th>\n",
       "      <td>gender</td>\n",
       "      <td>3.885355</td>\n",
       "    </tr>\n",
       "    <tr>\n",
       "      <th>3</th>\n",
       "      <td>relevent_experience</td>\n",
       "      <td>3.855983</td>\n",
       "    </tr>\n",
       "  </tbody>\n",
       "</table>\n",
       "</div>"
      ],
      "text/plain": [
       "                   Feature      Score\n",
       "8             company_size  15.128464\n",
       "1   city_development_index  13.225232\n",
       "0                     city  10.724164\n",
       "7               experience  10.046123\n",
       "10            last_new_job   8.754895\n",
       "11          training_hours   8.076460\n",
       "4      enrolled_university   7.009541\n",
       "9             company_type   7.001064\n",
       "5          education_level   6.873994\n",
       "6         major_discipline   5.418725\n",
       "2                   gender   3.885355\n",
       "3      relevent_experience   3.855983"
      ]
     },
     "execution_count": 32,
     "metadata": {},
     "output_type": "execute_result"
    }
   ],
   "source": [
    "feature_score"
   ]
  },
  {
   "cell_type": "code",
   "execution_count": 35,
   "metadata": {},
   "outputs": [
    {
     "data": {
      "text/plain": [
       "<matplotlib.axes._subplots.AxesSubplot at 0x7f3328090588>"
      ]
     },
     "execution_count": 35,
     "metadata": {},
     "output_type": "execute_result"
    },
    {
     "data": {
      "image/png": "[encoded data removed]",
      "text/plain": [
       "<matplotlib.figure.Figure at 0x7f3328098ac8>"
      ]
     },
     "metadata": {
      "image/png": {
       "height": 248,
       "width": 492
      }
     },
     "output_type": "display_data"
    }
   ],
   "source": [
    "feature_score.plot('Feature', 'Score', kind='barh', color='c')"
   ]
  },
  {
   "cell_type": "code",
   "execution_count": null,
   "metadata": {},
   "outputs": [],
   "source": []
  }
 ],
 "metadata": {
  "kernelspec": {
   "display_name": "Python 3",
   "language": "python",
   "name": "python3"
  },
  "language_info": {
   "codemirror_mode": {
    "name": "ipython",
    "version": 3
   },
   "file_extension": ".py",
   "mimetype": "text/x-python",
   "name": "python",
   "nbconvert_exporter": "python",
   "pygments_lexer": "ipython3",
   "version": "3.6.3"
  }
 },
 "nbformat": 4,
 "nbformat_minor": 2
}
